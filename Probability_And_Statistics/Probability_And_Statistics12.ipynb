{
  "cells": [
    {
      "cell_type": "markdown",
      "metadata": {
        "id": "view-in-github",
        "colab_type": "text"
      },
      "source": [
        "<a href=\"https://colab.research.google.com/github/VAMSHINEELAMMA/SAMSUNG-INNOVATION-CAMPUS/blob/main/ex_0312.ipynb\" target=\"_parent\"><img src=\"https://colab.research.google.com/assets/colab-badge.svg\" alt=\"Open In Colab\"/></a>"
      ]
    },
    {
      "cell_type": "code",
      "execution_count": 1,
      "metadata": {
        "id": "395SIncdeVkn"
      },
      "outputs": [],
      "source": [
        "import pandas as pd\n",
        "import numpy as np\n",
        "import scipy.stats as st\n",
        "import os"
      ]
    },
    {
      "cell_type": "code",
      "execution_count": 2,
      "metadata": {
        "id": "bX7IeVvmeVkw"
      },
      "outputs": [],
      "source": [
        "# Simulate the data.\n",
        "np.random.seed(1234)\n",
        "n1 = 25\n",
        "n2 = 20\n",
        "n3 = 30\n",
        "x1 = np.random.randn(n1)*2 + 10              # mu=10, sigma=2.\n",
        "x2 = np.random.randn(n2)*4 - 5               # mu=-5, sigma=4.\n",
        "x3 = np.random.randn(n3)*2 + 50              # mu=50, sigma=2.\n",
        "ssq_1 = x1.var(ddof=1)                       # s1^2.\n",
        "ssq_2 = x2.var(ddof=1)                       # s2^2.\n",
        "ssq_3 = x3.var(ddof=1)                       # s3^2."
      ]
    },
    {
      "cell_type": "code",
      "execution_count": 3,
      "metadata": {
        "id": "fy0lWnvyeVk2",
        "outputId": "6e157585-4dbd-421a-a1b7-9a9726cca05f",
        "colab": {
          "base_uri": "https://localhost:8080/"
        }
      },
      "outputs": [
        {
          "output_type": "stream",
          "name": "stdout",
          "text": [
            "s1^2 = 4.264041\n",
            "s2^2 = 16.174581\n",
            "s3^2 = 3.543988\n"
          ]
        }
      ],
      "source": [
        "# Print out the sample variances.\n",
        "print(\"s1^2 = %f\" % ssq_1)\n",
        "print(\"s2^2 = %f\" % ssq_2)\n",
        "print(\"s3^2 = %f\" % ssq_3)"
      ]
    },
    {
      "cell_type": "code",
      "execution_count": 4,
      "metadata": {
        "id": "xoWlQ1SFeVk8",
        "outputId": "e9d1368c-7d47-4e5c-fd31-09a4caf53e31",
        "colab": {
          "base_uri": "https://localhost:8080/"
        }
      },
      "outputs": [
        {
          "output_type": "execute_result",
          "data": {
            "text/plain": [
              "np.float64(0.002514298584073593)"
            ]
          },
          "metadata": {},
          "execution_count": 4
        }
      ],
      "source": [
        "# Two tail test for 2 vs 1.\n",
        "test_stat = ssq_2/ssq_1                             # Larger sample variance to the numerator!\n",
        "p_value = 2*(1 - st.f.cdf(test_stat, n2-1, n1-1))\n",
        "p_value"
      ]
    },
    {
      "cell_type": "code",
      "execution_count": 5,
      "metadata": {
        "id": "jYw0CKMieVk_",
        "outputId": "ea74970c-fdad-491d-df35-0922631c81b2",
        "colab": {
          "base_uri": "https://localhost:8080/"
        }
      },
      "outputs": [
        {
          "output_type": "execute_result",
          "data": {
            "text/plain": [
              "np.float64(0.0012571492920367966)"
            ]
          },
          "metadata": {},
          "execution_count": 5
        }
      ],
      "source": [
        "# Right tail test for 2 vs 1.\n",
        "p_value = 1 - st.f.cdf(test_stat, n2-1, n1-1)\n",
        "p_value"
      ]
    },
    {
      "cell_type": "code",
      "execution_count": 6,
      "metadata": {
        "id": "F1lRNag9eVlC",
        "outputId": "feafa614-4358-42e9-a84c-996827bd4623",
        "colab": {
          "base_uri": "https://localhost:8080/"
        }
      },
      "outputs": [
        {
          "output_type": "execute_result",
          "data": {
            "text/plain": [
              "np.float64(0.629192525840977)"
            ]
          },
          "metadata": {},
          "execution_count": 6
        }
      ],
      "source": [
        "# Two tail test for 1 vs 3.\n",
        "test_stat = ssq_1/ssq_3                             # Larger sample variance to the numerator!\n",
        "p_value = 2*(1 - st.f.cdf(test_stat, n1-1, n3-1))\n",
        "p_value"
      ]
    },
    {
      "cell_type": "code",
      "execution_count": 7,
      "metadata": {
        "id": "N9jkGeZCeVlE",
        "outputId": "6eff8c2e-ceea-4b8a-f847-40cbafdadbba",
        "colab": {
          "base_uri": "https://localhost:8080/"
        }
      },
      "outputs": [
        {
          "output_type": "execute_result",
          "data": {
            "text/plain": [
              "np.float64(0.3145962629204885)"
            ]
          },
          "metadata": {},
          "execution_count": 7
        }
      ],
      "source": [
        "# Right tail test for 1 vs 3.\n",
        "p_value = 1 - st.f.cdf(test_stat, n1-1, n3-1)\n",
        "p_value"
      ]
    },
    {
      "cell_type": "code",
      "execution_count": 7,
      "metadata": {
        "id": "9TsgzOteeVlH"
      },
      "outputs": [],
      "source": []
    }
  ],
  "metadata": {
    "kernelspec": {
      "display_name": "Python 3",
      "language": "python",
      "name": "python3"
    },
    "language_info": {
      "codemirror_mode": {
        "name": "ipython",
        "version": 3
      },
      "file_extension": ".py",
      "mimetype": "text/x-python",
      "name": "python",
      "nbconvert_exporter": "python",
      "pygments_lexer": "ipython3",
      "version": "3.7.3"
    },
    "colab": {
      "provenance": [],
      "include_colab_link": true
    }
  },
  "nbformat": 4,
  "nbformat_minor": 0
}
