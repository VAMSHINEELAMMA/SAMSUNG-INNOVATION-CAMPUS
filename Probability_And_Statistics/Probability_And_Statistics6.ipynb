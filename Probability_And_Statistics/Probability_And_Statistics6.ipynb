{
  "cells": [
    {
      "cell_type": "markdown",
      "metadata": {
        "id": "view-in-github",
        "colab_type": "text"
      },
      "source": [
        "<a href=\"https://colab.research.google.com/github/VAMSHINEELAMMA/SAMSUNG-INNOVATION-CAMPUS/blob/main/ex_0306.ipynb\" target=\"_parent\"><img src=\"https://colab.research.google.com/assets/colab-badge.svg\" alt=\"Open In Colab\"/></a>"
      ]
    },
    {
      "cell_type": "code",
      "execution_count": 1,
      "metadata": {
        "id": "BKgaJ628aVSb"
      },
      "outputs": [],
      "source": [
        "import numpy as np\n",
        "import scipy.stats as st"
      ]
    },
    {
      "cell_type": "code",
      "execution_count": 2,
      "metadata": {
        "id": "4wCAc9HjaVSe",
        "outputId": "2aec77e0-0540-4959-ad09-94b5eb556457",
        "colab": {
          "base_uri": "https://localhost:8080/"
        }
      },
      "outputs": [
        {
          "output_type": "execute_result",
          "data": {
            "text/plain": [
              "(np.float64(0.45249302291006066), np.float64(0.6475069770899394))"
            ]
          },
          "metadata": {},
          "execution_count": 2
        }
      ],
      "source": [
        "# 95% Confidence Interval.\n",
        "# We apply the expression for the standard error (SE) from the lecture.\n",
        "# W ignore additional corrections.\n",
        "n_yes = 55\n",
        "n_total = 100\n",
        "p_mean = n_yes/n_total\n",
        "SE = np.sqrt(p_mean*(1-p_mean)/n_total)\n",
        "st.norm.interval(0.95, loc = p_mean, scale=SE)"
      ]
    },
    {
      "cell_type": "code",
      "execution_count": 3,
      "metadata": {
        "id": "YrXT3vOqaVSg",
        "outputId": "d73b183c-cf84-4f2c-fc28-482752e1b803",
        "colab": {
          "base_uri": "https://localhost:8080/"
        }
      },
      "outputs": [
        {
          "output_type": "execute_result",
          "data": {
            "text/plain": [
              "(np.float64(0.5191655864637935), np.float64(0.5808344135362066))"
            ]
          },
          "metadata": {},
          "execution_count": 3
        }
      ],
      "source": [
        "# 95% Confidence Interval.\n",
        "# We apply the expression for the standard error (SE) from the lecture.\n",
        "# W ignore additional corrections.\n",
        "n_yes = 550\n",
        "n_total = 1000\n",
        "p_mean = n_yes/n_total\n",
        "SE = np.sqrt(p_mean*(1-p_mean)/n_total)\n",
        "st.norm.interval(0.95, loc = p_mean, scale=SE)"
      ]
    }
  ],
  "metadata": {
    "kernelspec": {
      "display_name": "Python 3",
      "language": "python",
      "name": "python3"
    },
    "language_info": {
      "codemirror_mode": {
        "name": "ipython",
        "version": 3
      },
      "file_extension": ".py",
      "mimetype": "text/x-python",
      "name": "python",
      "nbconvert_exporter": "python",
      "pygments_lexer": "ipython3",
      "version": "3.7.3"
    },
    "colab": {
      "provenance": [],
      "include_colab_link": true
    }
  },
  "nbformat": 4,
  "nbformat_minor": 0
}
