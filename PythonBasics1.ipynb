{
  "cells": [
    {
      "cell_type": "markdown",
      "metadata": {
        "id": "view-in-github",
        "colab_type": "text"
      },
      "source": [
        "<a href=\"https://colab.research.google.com/github/VAMSHINEELAMMA/SAMSUNG-INNOVATION-CAMPUS/blob/main/PythonBasics1.ipynb\" target=\"_parent\"><img src=\"https://colab.research.google.com/assets/colab-badge.svg\" alt=\"Open In Colab\"/></a>"
      ]
    },
    {
      "cell_type": "code",
      "execution_count": null,
      "metadata": {
        "id": "XNaGxCkcespL",
        "colab": {
          "base_uri": "https://localhost:8080/"
        },
        "outputId": "826646f7-c217-4203-e2a4-908a06e6518a"
      },
      "outputs": [
        {
          "output_type": "stream",
          "name": "stdout",
          "text": [
            "Hello World!\n"
          ]
        }
      ],
      "source": [
        "# Print out Hello World!\n",
        "print('Hello World!')"
      ]
    },
    {
      "cell_type": "code",
      "execution_count": null,
      "metadata": {
        "id": "vg5JJH19espL",
        "colab": {
          "base_uri": "https://localhost:8080/"
        },
        "outputId": "e45240e3-0ff4-4d23-c2b2-4f4fc7340ae5"
      },
      "outputs": [
        {
          "output_type": "execute_result",
          "data": {
            "text/plain": [
              "2"
            ]
          },
          "metadata": {},
          "execution_count": 2
        }
      ],
      "source": [
        "# Simple arithmetics.\n",
        "1+1"
      ]
    },
    {
      "cell_type": "code",
      "execution_count": null,
      "metadata": {
        "id": "_wqn75LRespL",
        "colab": {
          "base_uri": "https://localhost:8080/"
        },
        "outputId": "5861f1e2-c162-4001-b5bf-8c20417afb2d"
      },
      "outputs": [
        {
          "output_type": "execute_result",
          "data": {
            "text/plain": [
              "1.3333333333333333"
            ]
          },
          "metadata": {},
          "execution_count": 3
        }
      ],
      "source": [
        "4/3"
      ]
    },
    {
      "cell_type": "code",
      "execution_count": null,
      "metadata": {
        "id": "vxLUybGAespM",
        "colab": {
          "base_uri": "https://localhost:8080/"
        },
        "outputId": "28728261-4d37-40ec-e0c2-5646da5c85e3"
      },
      "outputs": [
        {
          "output_type": "execute_result",
          "data": {
            "text/plain": [
              "1"
            ]
          },
          "metadata": {},
          "execution_count": 4
        }
      ],
      "source": [
        "# Floor division.\n",
        "4//3"
      ]
    },
    {
      "cell_type": "code",
      "execution_count": null,
      "metadata": {
        "id": "7iig0PY-espM",
        "colab": {
          "base_uri": "https://localhost:8080/"
        },
        "outputId": "301f5869-6c02-4257-d33c-b071f50ec8f5"
      },
      "outputs": [
        {
          "output_type": "stream",
          "name": "stdout",
          "text": [
            "<class 'int'>\n",
            "<class 'int'>\n"
          ]
        }
      ],
      "source": [
        "# Data types.\n",
        "print(type(2**30))\n",
        "print(type(2**100))"
      ]
    },
    {
      "cell_type": "code",
      "execution_count": null,
      "metadata": {
        "id": "czPsB27KespM",
        "colab": {
          "base_uri": "https://localhost:8080/"
        },
        "outputId": "fb50164e-a6b9-44a0-f793-dc93b4b6357c"
      },
      "outputs": [
        {
          "output_type": "stream",
          "name": "stdout",
          "text": [
            "15\n"
          ]
        }
      ],
      "source": [
        "# Variable.\n",
        "x = 3\n",
        "print(x * 5)"
      ]
    },
    {
      "cell_type": "code",
      "execution_count": null,
      "metadata": {
        "id": "Oki6WcvIespM",
        "colab": {
          "base_uri": "https://localhost:8080/"
        },
        "outputId": "5e4f1ba4-3b5e-4973-fd52-91083c5b6831"
      },
      "outputs": [
        {
          "output_type": "stream",
          "name": "stdout",
          "text": [
            "1\n",
            "2\n",
            "3\n",
            "4\n",
            "5\n"
          ]
        }
      ],
      "source": [
        "# Iteration.\n",
        "for x in [1,2,3,4,5]:\n",
        "    print(x)"
      ]
    },
    {
      "cell_type": "code",
      "execution_count": null,
      "metadata": {
        "id": "STYEJfeoespM",
        "colab": {
          "base_uri": "https://localhost:8080/"
        },
        "outputId": "ffa4c4bd-2ed1-4e02-de99-08fef27e2aa9"
      },
      "outputs": [
        {
          "output_type": "stream",
          "name": "stdout",
          "text": [
            "x is smaller than 10.\n"
          ]
        }
      ],
      "source": [
        "# Conditional structure.\n",
        "x = 7\n",
        "if x < 10:\n",
        "    print('x is smaller than 10.')\n",
        "else:\n",
        "    print('x is larger than 10.')"
      ]
    }
  ],
  "metadata": {
    "kernelspec": {
      "display_name": "Python 3",
      "language": "python",
      "name": "python3"
    },
    "language_info": {
      "codemirror_mode": {
        "name": "ipython",
        "version": 3
      },
      "file_extension": ".py",
      "mimetype": "text/x-python",
      "name": "python",
      "nbconvert_exporter": "python",
      "pygments_lexer": "ipython3",
      "version": "3.7.3"
    },
    "colab": {
      "provenance": [],
      "include_colab_link": true
    }
  },
  "nbformat": 4,
  "nbformat_minor": 0
}