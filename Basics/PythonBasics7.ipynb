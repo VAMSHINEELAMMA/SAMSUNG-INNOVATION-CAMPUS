{
  "cells": [
    {
      "cell_type": "markdown",
      "metadata": {
        "id": "view-in-github",
        "colab_type": "text"
      },
      "source": [
        "<a href=\"https://colab.research.google.com/github/VAMSHINEELAMMA/SAMSUNG-INNOVATION-CAMPUS/blob/main/ex_0107.ipynb\" target=\"_parent\"><img src=\"https://colab.research.google.com/assets/colab-badge.svg\" alt=\"Open In Colab\"/></a>"
      ]
    },
    {
      "cell_type": "code",
      "execution_count": 1,
      "metadata": {
        "id": "RZsL0qEeiJl2"
      },
      "outputs": [],
      "source": [
        "class Dog:\n",
        "    def __init__(self, name, age):\n",
        "        self.name = name\n",
        "        self.age = age\n",
        "        print('A Dog object is created!')"
      ]
    },
    {
      "cell_type": "code",
      "execution_count": 2,
      "metadata": {
        "id": "izMomwQYiJl5",
        "outputId": "56d71fd6-0055-440d-972f-592a125042f4",
        "colab": {
          "base_uri": "https://localhost:8080/"
        }
      },
      "outputs": [
        {
          "output_type": "stream",
          "name": "stdout",
          "text": [
            "A Dog object is created!\n"
          ]
        }
      ],
      "source": [
        "a_dog = Dog('Fido', 2)"
      ]
    },
    {
      "cell_type": "code",
      "execution_count": 3,
      "metadata": {
        "id": "zRHICrAriJl6"
      },
      "outputs": [],
      "source": [
        "class Dog:\n",
        "    def __init__(self, name, age):\n",
        "        self.name = name\n",
        "        self.age = age\n",
        "        print('A Dog object is created!')\n",
        "    def __del__(self):\n",
        "        print('A Dog object is deleted!')"
      ]
    },
    {
      "cell_type": "code",
      "execution_count": 4,
      "metadata": {
        "id": "BocC2dCGiJl7",
        "outputId": "4b48ff16-568f-4380-c0b5-b1c7d129483b",
        "colab": {
          "base_uri": "https://localhost:8080/"
        }
      },
      "outputs": [
        {
          "output_type": "stream",
          "name": "stdout",
          "text": [
            "A Dog object is created!\n"
          ]
        }
      ],
      "source": [
        "a_dog = Dog('Fido', 2)"
      ]
    },
    {
      "cell_type": "code",
      "execution_count": 5,
      "metadata": {
        "id": "kzukSlWaiJl7",
        "outputId": "9ca770e4-4a36-42a7-a43b-29f0e3ca9275",
        "colab": {
          "base_uri": "https://localhost:8080/"
        }
      },
      "outputs": [
        {
          "output_type": "stream",
          "name": "stdout",
          "text": [
            "A Dog object is deleted!\n"
          ]
        }
      ],
      "source": [
        "del a_dog"
      ]
    },
    {
      "cell_type": "code",
      "execution_count": 6,
      "metadata": {
        "id": "9xrEYaqZiJl8"
      },
      "outputs": [],
      "source": [
        "class Dog:\n",
        "    def __init__(self, name, age):\n",
        "        self.name = name\n",
        "        self.age = age"
      ]
    },
    {
      "cell_type": "code",
      "execution_count": 7,
      "metadata": {
        "id": "RXJTXrsNiJl8"
      },
      "outputs": [],
      "source": [
        "dog1 = Dog('Fido', 2)\n",
        "dog2 = Dog('Dido', 3)"
      ]
    },
    {
      "cell_type": "code",
      "execution_count": 8,
      "metadata": {
        "id": "-HzAg7gmiJl8",
        "outputId": "f2f250ec-4ffc-4c6d-87b3-4090dcbc6c48",
        "colab": {
          "base_uri": "https://localhost:8080/"
        }
      },
      "outputs": [
        {
          "output_type": "stream",
          "name": "stdout",
          "text": [
            "Name: Fido \n",
            "Age: 2\n"
          ]
        }
      ],
      "source": [
        "print(\"Name: {0} \\nAge: {1}\".format(dog1.name, dog1.age))"
      ]
    },
    {
      "cell_type": "code",
      "execution_count": 9,
      "metadata": {
        "id": "dbZc6iHIiJl9",
        "outputId": "957f681b-724c-4a56-b8bf-20a4e563973b",
        "colab": {
          "base_uri": "https://localhost:8080/"
        }
      },
      "outputs": [
        {
          "output_type": "stream",
          "name": "stdout",
          "text": [
            "Name: Dido \n",
            "Age: 3\n"
          ]
        }
      ],
      "source": [
        "print(\"Name: {0} \\nAge: {1}\".format(dog2.name, dog2.age))"
      ]
    },
    {
      "cell_type": "code",
      "execution_count": 10,
      "metadata": {
        "id": "nv8olGKgiJl9"
      },
      "outputs": [],
      "source": [
        "class Dog:\n",
        "    counter = 0                            # This is a class variable.\n",
        "    def __init__(self, name):\n",
        "        self.name = name\n",
        "        Dog.counter += 1\n",
        "    def __del__(self):\n",
        "        Dog.counter -= 1"
      ]
    },
    {
      "cell_type": "code",
      "execution_count": 11,
      "metadata": {
        "id": "zzyRjvttiJl9"
      },
      "outputs": [],
      "source": [
        "# Create 2 Dog objects.\n",
        "dog1 = Dog('Fido')\n",
        "dog2 = Dog('Dido')"
      ]
    },
    {
      "cell_type": "code",
      "execution_count": 12,
      "metadata": {
        "id": "UuVTOpAmiJl9",
        "outputId": "d54a71bf-c1cf-46aa-d534-7c3c896fda56",
        "colab": {
          "base_uri": "https://localhost:8080/"
        }
      },
      "outputs": [
        {
          "output_type": "execute_result",
          "data": {
            "text/plain": [
              "2"
            ]
          },
          "metadata": {},
          "execution_count": 12
        }
      ],
      "source": [
        "Dog.counter"
      ]
    },
    {
      "cell_type": "code",
      "execution_count": 13,
      "metadata": {
        "id": "TNch07oFiJl9",
        "outputId": "07bd1d58-b49d-4ea9-e31f-25ae144a3cef",
        "colab": {
          "base_uri": "https://localhost:8080/"
        }
      },
      "outputs": [
        {
          "output_type": "execute_result",
          "data": {
            "text/plain": [
              "1"
            ]
          },
          "metadata": {},
          "execution_count": 13
        }
      ],
      "source": [
        "del dog1\n",
        "Dog.counter"
      ]
    },
    {
      "cell_type": "code",
      "execution_count": 14,
      "metadata": {
        "id": "gTTtGJfLiJl9",
        "outputId": "77de6070-085f-4806-a260-464f985c869f",
        "colab": {
          "base_uri": "https://localhost:8080/"
        }
      },
      "outputs": [
        {
          "output_type": "execute_result",
          "data": {
            "text/plain": [
              "0"
            ]
          },
          "metadata": {},
          "execution_count": 14
        }
      ],
      "source": [
        "del dog2\n",
        "Dog.counter"
      ]
    },
    {
      "cell_type": "code",
      "execution_count": 15,
      "metadata": {
        "id": "ZCJ-etVAiJl-"
      },
      "outputs": [],
      "source": [
        "class Dog:\n",
        "    def __init__(self, name, age):\n",
        "        self.name = name\n",
        "        self.age = age\n",
        "    def bark(self):\n",
        "        print(self.name + ' is barking... woof... woof...')"
      ]
    },
    {
      "cell_type": "code",
      "execution_count": 16,
      "metadata": {
        "id": "8WudlVRliJl-",
        "outputId": "565ccdfb-a623-4822-85ec-ae8e028c1460",
        "colab": {
          "base_uri": "https://localhost:8080/"
        }
      },
      "outputs": [
        {
          "output_type": "stream",
          "name": "stdout",
          "text": [
            "Baduk is barking... woof... woof...\n"
          ]
        }
      ],
      "source": [
        "a_dog = Dog('Baduk', 2)\n",
        "a_dog.bark()"
      ]
    },
    {
      "cell_type": "code",
      "execution_count": 16,
      "metadata": {
        "id": "pk03VY8fiJmq"
      },
      "outputs": [],
      "source": []
    }
  ],
  "metadata": {
    "kernelspec": {
      "display_name": "Python 3",
      "language": "python",
      "name": "python3"
    },
    "language_info": {
      "codemirror_mode": {
        "name": "ipython",
        "version": 3
      },
      "file_extension": ".py",
      "mimetype": "text/x-python",
      "name": "python",
      "nbconvert_exporter": "python",
      "pygments_lexer": "ipython3",
      "version": "3.7.3"
    },
    "colab": {
      "provenance": [],
      "include_colab_link": true
    }
  },
  "nbformat": 4,
  "nbformat_minor": 0
}
