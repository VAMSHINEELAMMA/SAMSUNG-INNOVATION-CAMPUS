{
 "cells": [
  {
   "cell_type": "code",
   "execution_count": 61,
   "id": "28c4d2b3-49b5-4e3d-bc03-5ed64b451428",
   "metadata": {},
   "outputs": [],
   "source": [
    "import numpy as np"
   ]
  },
  {
   "cell_type": "code",
   "execution_count": 62,
   "id": "205dac35-d69a-48d0-b1c7-adfbbbc74098",
   "metadata": {},
   "outputs": [
    {
     "data": {
      "text/plain": [
       "'1.26.4'"
      ]
     },
     "execution_count": 62,
     "metadata": {},
     "output_type": "execute_result"
    }
   ],
   "source": [
    "np.__version__"
   ]
  },
  {
   "cell_type": "code",
   "execution_count": 63,
   "id": "e3fcca4a-dffd-4f2b-941b-e86632a4d2bc",
   "metadata": {},
   "outputs": [
    {
     "data": {
      "text/plain": [
       "array([1, 3, 5, 7, 9])"
      ]
     },
     "execution_count": 63,
     "metadata": {},
     "output_type": "execute_result"
    }
   ],
   "source": [
    "np.array([1,3,5,7,9])"
   ]
  },
  {
   "cell_type": "code",
   "execution_count": 64,
   "id": "f04f315c-a449-44a8-a96d-ebbd1f156b8d",
   "metadata": {},
   "outputs": [],
   "source": [
    "arr1=np.array([1,3,5,7,9])"
   ]
  },
  {
   "cell_type": "code",
   "execution_count": 65,
   "id": "32447aa5-a88b-49a8-9fed-287d70b5b143",
   "metadata": {},
   "outputs": [
    {
     "data": {
      "text/plain": [
       "numpy.ndarray"
      ]
     },
     "execution_count": 65,
     "metadata": {},
     "output_type": "execute_result"
    }
   ],
   "source": [
    "type(arr1)"
   ]
  },
  {
   "cell_type": "code",
   "execution_count": 66,
   "id": "1c88311a-8cca-41f6-a69d-4119c4107fbc",
   "metadata": {},
   "outputs": [],
   "source": [
    "arr2=np.array([1,3,5,7,9])"
   ]
  },
  {
   "cell_type": "code",
   "execution_count": 67,
   "id": "780fa5f1-7c64-4bac-bb5d-220e8d6a0083",
   "metadata": {},
   "outputs": [
    {
     "data": {
      "text/plain": [
       "2382430911536"
      ]
     },
     "execution_count": 67,
     "metadata": {},
     "output_type": "execute_result"
    }
   ],
   "source": [
    "id(arr1)"
   ]
  },
  {
   "cell_type": "code",
   "execution_count": 68,
   "id": "0a9fcbdb-ce23-4813-b6c8-367cf5683714",
   "metadata": {},
   "outputs": [
    {
     "data": {
      "text/plain": [
       "2382430912304"
      ]
     },
     "execution_count": 68,
     "metadata": {},
     "output_type": "execute_result"
    }
   ],
   "source": [
    "id(arr2)           "
   ]
  },
  {
   "cell_type": "code",
   "execution_count": 69,
   "id": "2d3352cc-84e1-49ae-9fa8-6a6fd7760254",
   "metadata": {},
   "outputs": [],
   "source": [
    "arr3=arr1"
   ]
  },
  {
   "cell_type": "code",
   "execution_count": 70,
   "id": "18727a1b-adcc-40f6-90dc-e06370afdad1",
   "metadata": {},
   "outputs": [
    {
     "data": {
      "text/plain": [
       "2382430911536"
      ]
     },
     "execution_count": 70,
     "metadata": {},
     "output_type": "execute_result"
    }
   ],
   "source": [
    "id(arr3)"
   ]
  },
  {
   "cell_type": "code",
   "execution_count": 71,
   "id": "4554bbdf-db82-4cb2-a64e-3d61368323f9",
   "metadata": {},
   "outputs": [],
   "source": [
    "arr4=np.copy(arr1)"
   ]
  },
  {
   "cell_type": "markdown",
   "id": "6f032d2e-4fc8-4fff-a5e0-8850a97513a7",
   "metadata": {},
   "source": [
    "arr4"
   ]
  },
  {
   "cell_type": "code",
   "execution_count": 72,
   "id": "f0f4e888-d750-416e-b6f4-a9ebad30ec84",
   "metadata": {},
   "outputs": [
    {
     "data": {
      "text/plain": [
       "2382430912016"
      ]
     },
     "execution_count": 72,
     "metadata": {},
     "output_type": "execute_result"
    }
   ],
   "source": [
    "id(arr4)"
   ]
  },
  {
   "cell_type": "markdown",
   "id": "1b41d37d-51c8-4672-a7d5-14fa9d5772b1",
   "metadata": {},
   "source": [
    "creating array with tuples"
   ]
  },
  {
   "cell_type": "code",
   "execution_count": 73,
   "id": "629f3a65-84a4-4fe4-9e8f-6763d5fdb241",
   "metadata": {},
   "outputs": [
    {
     "data": {
      "text/plain": [
       "tuple"
      ]
     },
     "execution_count": 73,
     "metadata": {},
     "output_type": "execute_result"
    }
   ],
   "source": [
    "type((1,3,5,7,9))"
   ]
  },
  {
   "cell_type": "code",
   "execution_count": 74,
   "id": "a798a267-9a0e-484b-80f9-90b595f94361",
   "metadata": {},
   "outputs": [
    {
     "data": {
      "text/plain": [
       "array([1, 3, 5, 7, 9])"
      ]
     },
     "execution_count": 74,
     "metadata": {},
     "output_type": "execute_result"
    }
   ],
   "source": [
    "np.array((1,3,5,7,9))"
   ]
  },
  {
   "cell_type": "markdown",
   "id": "1adc5358-93a7-442f-9a9b-9cfb51cbdd62",
   "metadata": {},
   "source": [
    "creating array  with dictionaries"
   ]
  },
  {
   "cell_type": "code",
   "execution_count": 75,
   "id": "5126ece8-278d-4b42-8ec7-7f4c7a676a4b",
   "metadata": {},
   "outputs": [
    {
     "data": {
      "text/plain": [
       "dict"
      ]
     },
     "execution_count": 75,
     "metadata": {},
     "output_type": "execute_result"
    }
   ],
   "source": [
    "type({'one':1,'two':2,'three':3})"
   ]
  },
  {
   "cell_type": "code",
   "execution_count": 76,
   "id": "40e7b19b-c633-4e16-a20d-2ff006dc8e48",
   "metadata": {},
   "outputs": [
    {
     "data": {
      "text/plain": [
       "array({'one': 1, 'two': 2, 'three': 3}, dtype=object)"
      ]
     },
     "execution_count": 76,
     "metadata": {},
     "output_type": "execute_result"
    }
   ],
   "source": [
    "np.array({'one':1,'two':2,'three':3})"
   ]
  },
  {
   "cell_type": "code",
   "execution_count": 77,
   "id": "57eccac9-c039-498e-8a52-dfaf4128cd13",
   "metadata": {},
   "outputs": [
    {
     "data": {
      "text/plain": [
       "{1, 2, 3, 4}"
      ]
     },
     "execution_count": 77,
     "metadata": {},
     "output_type": "execute_result"
    }
   ],
   "source": [
    "{1,1,2,2,2,3,3,4,4,4}"
   ]
  },
  {
   "cell_type": "code",
   "execution_count": 78,
   "id": "51d2786c-61a2-4533-bcf1-e3345b36a976",
   "metadata": {},
   "outputs": [
    {
     "data": {
      "text/plain": [
       "set"
      ]
     },
     "execution_count": 78,
     "metadata": {},
     "output_type": "execute_result"
    }
   ],
   "source": [
    "type({1,1,2,2,2,3,3,4,4,4})"
   ]
  },
  {
   "cell_type": "code",
   "execution_count": 79,
   "id": "9f1e075f-0557-4f67-b129-b263cccd1ccd",
   "metadata": {},
   "outputs": [
    {
     "data": {
      "text/plain": [
       "array({1, 2, 3, 4}, dtype=object)"
      ]
     },
     "execution_count": 79,
     "metadata": {},
     "output_type": "execute_result"
    }
   ],
   "source": [
    "np.array({1,1,2,2,2,3,3,4,4,4})"
   ]
  },
  {
   "cell_type": "code",
   "execution_count": 80,
   "id": "4220bcab-a33f-4f75-8e43-e77e3f82dfa4",
   "metadata": {},
   "outputs": [],
   "source": [
    "arr5=np.array([1,2,3,4,5])"
   ]
  },
  {
   "cell_type": "markdown",
   "id": "3c884dfc-9c4d-4ad3-940a-08e2c6321753",
   "metadata": {},
   "source": [
    "add 5 to all elements to the array"
   ]
  },
  {
   "cell_type": "code",
   "execution_count": 81,
   "id": "3501c370-7a00-48a0-aab4-f529e02e88e8",
   "metadata": {},
   "outputs": [
    {
     "name": "stdout",
     "output_type": "stream",
     "text": [
      "[ 6  7  8  9 10]\n"
     ]
    }
   ],
   "source": [
    "print(arr5+5)"
   ]
  },
  {
   "cell_type": "markdown",
   "id": "c3c260fe-7027-4958-b5e6-52b03ac3c9b3",
   "metadata": {},
   "source": [
    "multiply by 2 for all elements in the array"
   ]
  },
  {
   "cell_type": "code",
   "execution_count": 82,
   "id": "ceef2b87-89ce-49a8-bd93-2a47eed2b125",
   "metadata": {},
   "outputs": [
    {
     "name": "stdout",
     "output_type": "stream",
     "text": [
      "[ 2  4  6  8 10]\n"
     ]
    }
   ],
   "source": [
    "print(arr5*2)"
   ]
  },
  {
   "cell_type": "markdown",
   "id": "03677862-e51c-46b9-b365-88040f128910",
   "metadata": {},
   "source": [
    "creating array with a range"
   ]
  },
  {
   "cell_type": "code",
   "execution_count": 83,
   "id": "35559cc2-21e3-4702-bdcd-8dd65c7a24c2",
   "metadata": {},
   "outputs": [
    {
     "data": {
      "text/plain": [
       "[0, 1, 2, 3, 4, 5, 6, 7, 8, 9]"
      ]
     },
     "execution_count": 83,
     "metadata": {},
     "output_type": "execute_result"
    }
   ],
   "source": [
    "[i for i in range(10)]"
   ]
  },
  {
   "cell_type": "code",
   "execution_count": 84,
   "id": "39b49454-c2ca-4af9-99c8-a7e982868667",
   "metadata": {},
   "outputs": [
    {
     "data": {
      "text/plain": [
       "[0, 1, 2, 3, 4, 5, 6, 7, 8, 9]"
      ]
     },
     "execution_count": 84,
     "metadata": {},
     "output_type": "execute_result"
    }
   ],
   "source": [
    "[i for i in np.arange(10)]"
   ]
  },
  {
   "cell_type": "code",
   "execution_count": 85,
   "id": "2f7a1361-5d76-4a9a-8387-b55b85c7b92f",
   "metadata": {},
   "outputs": [
    {
     "data": {
      "text/plain": [
       "array([0, 1, 2, 3, 4, 5, 6, 7, 8, 9])"
      ]
     },
     "execution_count": 85,
     "metadata": {},
     "output_type": "execute_result"
    }
   ],
   "source": [
    "np.arange(10)"
   ]
  },
  {
   "cell_type": "code",
   "execution_count": 86,
   "id": "f67ddc2e-5003-4ad8-9c6f-7daa7eea513b",
   "metadata": {},
   "outputs": [
    {
     "data": {
      "text/plain": [
       "array([1, 2, 3, 4, 5, 6, 7, 8, 9])"
      ]
     },
     "execution_count": 86,
     "metadata": {},
     "output_type": "execute_result"
    }
   ],
   "source": [
    "np.arange(1,10)"
   ]
  },
  {
   "cell_type": "code",
   "execution_count": 87,
   "id": "16299020-518d-4007-a928-4074e95cbd33",
   "metadata": {},
   "outputs": [
    {
     "data": {
      "text/plain": [
       "array([1, 3, 5, 7, 9])"
      ]
     },
     "execution_count": 87,
     "metadata": {},
     "output_type": "execute_result"
    }
   ],
   "source": [
    "np.arange(1,10,2)"
   ]
  },
  {
   "cell_type": "code",
   "execution_count": 88,
   "id": "1d3ddc9c-2914-4162-8f39-b7a4ee4e4fce",
   "metadata": {},
   "outputs": [
    {
     "data": {
      "text/plain": [
       "array([ 0,  5, 10, 15])"
      ]
     },
     "execution_count": 88,
     "metadata": {},
     "output_type": "execute_result"
    }
   ],
   "source": [
    "np.arange(0,20,5)"
   ]
  },
  {
   "cell_type": "code",
   "execution_count": 89,
   "id": "7764fe55-e32f-4a7d-9a2c-e19a7d90dd34",
   "metadata": {},
   "outputs": [],
   "source": [
    "arr6=np.arange(7,71,7)"
   ]
  },
  {
   "cell_type": "code",
   "execution_count": 90,
   "id": "7a2d3f38-fcf6-488a-b81b-be60970e559f",
   "metadata": {},
   "outputs": [
    {
     "name": "stdout",
     "output_type": "stream",
     "text": [
      "[ 7 14 21 28 35 42 49 56 63 70]\n"
     ]
    }
   ],
   "source": [
    "print(arr6)"
   ]
  },
  {
   "cell_type": "markdown",
   "id": "6b7c6dfd-0fb0-420e-a6bd-f1819c850857",
   "metadata": {},
   "source": [
    "length of elements in array"
   ]
  },
  {
   "cell_type": "code",
   "execution_count": 91,
   "id": "8963dabf-c6ef-44a1-b203-22791d7c98fa",
   "metadata": {},
   "outputs": [
    {
     "data": {
      "text/plain": [
       "10"
      ]
     },
     "execution_count": 91,
     "metadata": {},
     "output_type": "execute_result"
    }
   ],
   "source": [
    "len(arr6)"
   ]
  },
  {
   "cell_type": "code",
   "execution_count": 92,
   "id": "100cdabb-b363-4584-925f-72059b6b83c8",
   "metadata": {},
   "outputs": [
    {
     "data": {
      "text/plain": [
       "10"
      ]
     },
     "execution_count": 92,
     "metadata": {},
     "output_type": "execute_result"
    }
   ],
   "source": [
    "arr6.size"
   ]
  },
  {
   "cell_type": "code",
   "execution_count": 93,
   "id": "8997a0ca-8f18-46dd-b9d2-f34c78eb1f75",
   "metadata": {},
   "outputs": [
    {
     "data": {
      "text/plain": [
       "numpy.ndarray"
      ]
     },
     "execution_count": 93,
     "metadata": {},
     "output_type": "execute_result"
    }
   ],
   "source": [
    "type(arr6)"
   ]
  },
  {
   "cell_type": "code",
   "execution_count": 94,
   "id": "2785e4ce-5adc-443e-ad56-9ef3b3eba326",
   "metadata": {},
   "outputs": [],
   "source": [
    "arr7=np.array([111,2.3,True])"
   ]
  },
  {
   "cell_type": "code",
   "execution_count": 95,
   "id": "af4d755e-a8f9-4c70-95a0-9621df2e7bac",
   "metadata": {},
   "outputs": [
    {
     "data": {
      "text/plain": [
       "numpy.float64"
      ]
     },
     "execution_count": 95,
     "metadata": {},
     "output_type": "execute_result"
    }
   ],
   "source": [
    "type(arr7[0])"
   ]
  },
  {
   "cell_type": "code",
   "execution_count": 96,
   "id": "bb349244-aa8c-4557-bac5-02dadedb110c",
   "metadata": {},
   "outputs": [
    {
     "data": {
      "text/plain": [
       "numpy.float64"
      ]
     },
     "execution_count": 96,
     "metadata": {},
     "output_type": "execute_result"
    }
   ],
   "source": [
    "type(arr7[1])"
   ]
  },
  {
   "cell_type": "code",
   "execution_count": 97,
   "id": "41569ca5-332a-4e61-af10-e11f45e5a2f2",
   "metadata": {},
   "outputs": [
    {
     "data": {
      "text/plain": [
       "numpy.float64"
      ]
     },
     "execution_count": 97,
     "metadata": {},
     "output_type": "execute_result"
    }
   ],
   "source": [
    "type(arr7[2])"
   ]
  },
  {
   "cell_type": "code",
   "execution_count": 98,
   "id": "70bc6ae7-458c-4861-ad7b-dd085801b5fc",
   "metadata": {},
   "outputs": [
    {
     "data": {
      "text/plain": [
       "numpy.ndarray"
      ]
     },
     "execution_count": 98,
     "metadata": {},
     "output_type": "execute_result"
    }
   ],
   "source": [
    "type(arr7)"
   ]
  },
  {
   "cell_type": "code",
   "execution_count": 99,
   "id": "0f6ccd39-a7f5-407a-aa3d-c84ffd13dede",
   "metadata": {},
   "outputs": [
    {
     "name": "stdout",
     "output_type": "stream",
     "text": [
      "1\n"
     ]
    }
   ],
   "source": [
    "a=1.2\n",
    "print(int(a))"
   ]
  },
  {
   "cell_type": "code",
   "execution_count": 100,
   "id": "747e0de0-324d-4a48-8bc7-04c9f4a9f8d8",
   "metadata": {},
   "outputs": [
    {
     "data": {
      "text/plain": [
       "256"
      ]
     },
     "execution_count": 100,
     "metadata": {},
     "output_type": "execute_result"
    }
   ],
   "source": [
    "2**8"
   ]
  },
  {
   "cell_type": "code",
   "execution_count": 101,
   "id": "4eb04154-753d-453a-a2e9-b4afede683bb",
   "metadata": {},
   "outputs": [
    {
     "data": {
      "text/plain": [
       "array(['apple', 'banana', 'strawberry'], dtype='<U10')"
      ]
     },
     "execution_count": 101,
     "metadata": {},
     "output_type": "execute_result"
    }
   ],
   "source": [
    "np.array(['apple','banana','strawberry'])"
   ]
  },
  {
   "cell_type": "code",
   "execution_count": 102,
   "id": "45188073-f1e5-4917-8dab-e5adc0af2511",
   "metadata": {},
   "outputs": [],
   "source": [
    "arr8=np.array(['apple','banana','strawberry'])"
   ]
  },
  {
   "cell_type": "code",
   "execution_count": 103,
   "id": "5a899d0d-5e96-4ab3-93e1-19f5bd484846",
   "metadata": {},
   "outputs": [
    {
     "data": {
      "text/plain": [
       "numpy.ndarray"
      ]
     },
     "execution_count": 103,
     "metadata": {},
     "output_type": "execute_result"
    }
   ],
   "source": [
    "type(arr8)"
   ]
  },
  {
   "cell_type": "markdown",
   "id": "d144a13e-8e4a-40c4-bc4b-ca0e4970240e",
   "metadata": {},
   "source": [
    "creating arrays with the linspace function"
   ]
  },
  {
   "cell_type": "code",
   "execution_count": 104,
   "id": "edc9736f-9f1f-4ad1-987b-a65a01a9369e",
   "metadata": {},
   "outputs": [
    {
     "data": {
      "text/plain": [
       "array([ 1.  ,  3.25,  5.5 ,  7.75, 10.  ])"
      ]
     },
     "execution_count": 104,
     "metadata": {},
     "output_type": "execute_result"
    }
   ],
   "source": [
    "np.linspace(1,10,5)"
   ]
  },
  {
   "cell_type": "code",
   "execution_count": 105,
   "id": "2fba6295-e56a-4196-bb2e-6706483cad8b",
   "metadata": {},
   "outputs": [
    {
     "data": {
      "text/plain": [
       "array([-10.        ,  -8.94736842,  -7.89473684,  -6.84210526,\n",
       "        -5.78947368,  -4.73684211,  -3.68421053,  -2.63157895,\n",
       "        -1.57894737,  -0.52631579,   0.52631579,   1.57894737,\n",
       "         2.63157895,   3.68421053,   4.73684211,   5.78947368,\n",
       "         6.84210526,   7.89473684,   8.94736842,  10.        ])"
      ]
     },
     "execution_count": 105,
     "metadata": {},
     "output_type": "execute_result"
    }
   ],
   "source": [
    "np.linspace(-10,10,20)"
   ]
  },
  {
   "cell_type": "markdown",
   "id": "19cf14dc-741f-46b8-8cde-2191d9fb0ef9",
   "metadata": {},
   "source": [
    "2 dimensional array"
   ]
  },
  {
   "cell_type": "code",
   "execution_count": 106,
   "id": "67449278-c9e3-4dba-8f88-c1657c39a539",
   "metadata": {},
   "outputs": [],
   "source": [
    "arr9=[[2,3],[7,9]]"
   ]
  },
  {
   "cell_type": "code",
   "execution_count": 107,
   "id": "7b240250-088a-4c42-b4cc-3ff36c5283f7",
   "metadata": {},
   "outputs": [
    {
     "name": "stdout",
     "output_type": "stream",
     "text": [
      "[[2 3]\n",
      " [7 9]]\n"
     ]
    }
   ],
   "source": [
    "a2=np.array(arr9)\n",
    "print(a2)"
   ]
  },
  {
   "cell_type": "code",
   "execution_count": 108,
   "id": "b4a2a9ff-2096-44bc-9354-89afb84a095e",
   "metadata": {},
   "outputs": [],
   "source": [
    "val=[[1,2,3],[2,3,5],[4,5,7]]"
   ]
  },
  {
   "cell_type": "code",
   "execution_count": 109,
   "id": "75758398-e2d5-45a2-9f08-171f3af6d1f8",
   "metadata": {},
   "outputs": [
    {
     "name": "stdout",
     "output_type": "stream",
     "text": [
      "[[1 2 3]\n",
      " [2 3 5]\n",
      " [4 5 7]]\n"
     ]
    }
   ],
   "source": [
    "a1=np.array(val)\n",
    "print(a1)"
   ]
  },
  {
   "cell_type": "code",
   "execution_count": 110,
   "id": "365a703f-aaef-43ef-8d03-bed4cfbef415",
   "metadata": {},
   "outputs": [
    {
     "data": {
      "text/plain": [
       "array([[1, 2, 4],\n",
       "       [2, 3, 5],\n",
       "       [3, 5, 7]])"
      ]
     },
     "execution_count": 110,
     "metadata": {},
     "output_type": "execute_result"
    }
   ],
   "source": [
    "a1.T"
   ]
  },
  {
   "cell_type": "code",
   "execution_count": 111,
   "id": "915d66a4-2516-4dd5-8b06-274d942b28ca",
   "metadata": {},
   "outputs": [
    {
     "data": {
      "text/plain": [
       "2"
      ]
     },
     "execution_count": 111,
     "metadata": {},
     "output_type": "execute_result"
    }
   ],
   "source": [
    "a1.ndim"
   ]
  },
  {
   "cell_type": "code",
   "execution_count": 112,
   "id": "4641ce29-6806-4f8e-bf93-3fe6fdf391d2",
   "metadata": {},
   "outputs": [
    {
     "data": {
      "text/plain": [
       "array([[[1, 2],\n",
       "        [3, 4]],\n",
       "\n",
       "       [[5, 6],\n",
       "        [7, 8]]])"
      ]
     },
     "execution_count": 112,
     "metadata": {},
     "output_type": "execute_result"
    }
   ],
   "source": [
    "np.array([[[1,2],[3,4]],[[5,6],[7,8]]])"
   ]
  },
  {
   "cell_type": "code",
   "execution_count": 113,
   "id": "3b4e42ad-1b9e-46ba-bbc1-87e5a49f9a3b",
   "metadata": {},
   "outputs": [
    {
     "data": {
      "text/plain": [
       "3"
      ]
     },
     "execution_count": 113,
     "metadata": {},
     "output_type": "execute_result"
    }
   ],
   "source": [
    "a2=np.array([[[1,2],[3,4]],[[5,6],[7,8]]])\n",
    "a2.ndim"
   ]
  },
  {
   "cell_type": "code",
   "execution_count": 114,
   "id": "1d7cfcab-7300-4648-827b-1477df117892",
   "metadata": {},
   "outputs": [
    {
     "data": {
      "text/plain": [
       "5"
      ]
     },
     "execution_count": 114,
     "metadata": {},
     "output_type": "execute_result"
    }
   ],
   "source": [
    "a1[1][2]"
   ]
  },
  {
   "cell_type": "code",
   "execution_count": 115,
   "id": "a13efa83-4e42-474b-babd-83984ab80329",
   "metadata": {},
   "outputs": [
    {
     "data": {
      "text/plain": [
       "array([3, 4])"
      ]
     },
     "execution_count": 115,
     "metadata": {},
     "output_type": "execute_result"
    }
   ],
   "source": [
    "a2[0][1]"
   ]
  },
  {
   "cell_type": "code",
   "execution_count": 116,
   "id": "f96d9591-3dff-4c58-a813-861028c49517",
   "metadata": {},
   "outputs": [
    {
     "data": {
      "text/plain": [
       "1"
      ]
     },
     "execution_count": 116,
     "metadata": {},
     "output_type": "execute_result"
    }
   ],
   "source": [
    "a2[0][0][0]\n"
   ]
  },
  {
   "cell_type": "code",
   "execution_count": 117,
   "id": "ab698d2d-840e-4b6b-80ad-d7879f237d06",
   "metadata": {},
   "outputs": [
    {
     "data": {
      "text/plain": [
       "4"
      ]
     },
     "execution_count": 117,
     "metadata": {},
     "output_type": "execute_result"
    }
   ],
   "source": [
    "a2[0][1][1]"
   ]
  },
  {
   "cell_type": "code",
   "execution_count": 118,
   "id": "0047f7a9-e2b5-42e1-a8f1-06908c1bf1ec",
   "metadata": {},
   "outputs": [
    {
     "data": {
      "text/plain": [
       "4"
      ]
     },
     "execution_count": 118,
     "metadata": {},
     "output_type": "execute_result"
    }
   ],
   "source": [
    "a2[0,1,1]"
   ]
  },
  {
   "cell_type": "code",
   "execution_count": 119,
   "id": "0d050575-bc53-48f9-8130-78a00e391520",
   "metadata": {},
   "outputs": [],
   "source": [
    "a3=np.zeros((2,3))"
   ]
  },
  {
   "cell_type": "code",
   "execution_count": 120,
   "id": "2008cfac-61e6-43fd-9762-6be87d42f3a9",
   "metadata": {},
   "outputs": [
    {
     "data": {
      "text/plain": [
       "numpy.ndarray"
      ]
     },
     "execution_count": 120,
     "metadata": {},
     "output_type": "execute_result"
    }
   ],
   "source": [
    "type(a3)"
   ]
  },
  {
   "cell_type": "code",
   "execution_count": 121,
   "id": "6ac5a724-313c-4a1f-aa3a-d49bac880ed0",
   "metadata": {},
   "outputs": [
    {
     "name": "stdout",
     "output_type": "stream",
     "text": [
      "[[0. 0. 0.]\n",
      " [0. 0. 0.]]\n"
     ]
    }
   ],
   "source": [
    "print(a3)"
   ]
  },
  {
   "cell_type": "markdown",
   "id": "89b278a8-34a8-4cea-b22e-3880d0221e81",
   "metadata": {},
   "source": [
    "properties of numpy array"
   ]
  },
  {
   "cell_type": "code",
   "execution_count": 1,
   "id": "81c7ca9f-67e6-40a6-818f-bad12e927b01",
   "metadata": {},
   "outputs": [],
   "source": [
    "import numpy as np"
   ]
  },
  {
   "cell_type": "code",
   "execution_count": 2,
   "id": "7b005bde-5b6e-428b-bda4-02f12fd57c97",
   "metadata": {},
   "outputs": [],
   "source": [
    "a=np.array([[1,2,3],[4,5,6],[7,8,9]])"
   ]
  },
  {
   "cell_type": "code",
   "execution_count": 3,
   "id": "4c617b46-07bc-4d85-a23d-72412fe33819",
   "metadata": {},
   "outputs": [
    {
     "name": "stdout",
     "output_type": "stream",
     "text": [
      "[[1 2 3]\n",
      " [4 5 6]\n",
      " [7 8 9]]\n"
     ]
    }
   ],
   "source": [
    "print(a)"
   ]
  },
  {
   "cell_type": "code",
   "execution_count": 4,
   "id": "b82c7042-9db3-4644-897e-70918fa7b1a9",
   "metadata": {},
   "outputs": [
    {
     "data": {
      "text/plain": [
       "2"
      ]
     },
     "execution_count": 4,
     "metadata": {},
     "output_type": "execute_result"
    }
   ],
   "source": [
    "a.ndim #dimension of array"
   ]
  },
  {
   "cell_type": "code",
   "execution_count": 5,
   "id": "06f483f2-f89f-40bd-bc02-e204a2d0b5fa",
   "metadata": {},
   "outputs": [
    {
     "data": {
      "text/plain": [
       "9"
      ]
     },
     "execution_count": 5,
     "metadata": {},
     "output_type": "execute_result"
    }
   ],
   "source": [
    "a.size #number of elements"
   ]
  },
  {
   "cell_type": "code",
   "execution_count": 6,
   "id": "c93c1d45-aa9f-449a-afe5-09c87ccd0d81",
   "metadata": {},
   "outputs": [
    {
     "data": {
      "text/plain": [
       "(3, 3)"
      ]
     },
     "execution_count": 6,
     "metadata": {},
     "output_type": "execute_result"
    }
   ],
   "source": [
    "a.shape #number of rows and columns"
   ]
  },
  {
   "cell_type": "code",
   "execution_count": 7,
   "id": "27b9b3e8-8057-48e6-874f-7ad030da1cd0",
   "metadata": {},
   "outputs": [],
   "source": [
    "a5=np.array([1,2,3,4])"
   ]
  },
  {
   "cell_type": "code",
   "execution_count": 8,
   "id": "28d6e6b6-75b9-46fc-8df3-e6f767fdad20",
   "metadata": {},
   "outputs": [
    {
     "data": {
      "text/plain": [
       "(4,)"
      ]
     },
     "execution_count": 8,
     "metadata": {},
     "output_type": "execute_result"
    }
   ],
   "source": [
    "a5.shape"
   ]
  },
  {
   "cell_type": "code",
   "execution_count": 9,
   "id": "08f5359b-5251-4457-bb5b-354ee32368b9",
   "metadata": {},
   "outputs": [],
   "source": [
    "a6=np.arange(15)"
   ]
  },
  {
   "cell_type": "code",
   "execution_count": 10,
   "id": "9b47293a-1ac5-4ec4-927f-3bec40e86926",
   "metadata": {},
   "outputs": [
    {
     "name": "stdout",
     "output_type": "stream",
     "text": [
      "[ 0  1  2  3  4  5  6  7  8  9 10 11 12 13 14]\n"
     ]
    }
   ],
   "source": [
    "print(a6)"
   ]
  },
  {
   "cell_type": "code",
   "execution_count": 11,
   "id": "777ea00f-34c8-4cdd-9fef-c4d688238801",
   "metadata": {},
   "outputs": [
    {
     "data": {
      "text/plain": [
       "array([[ 0,  1,  2,  3,  4],\n",
       "       [ 5,  6,  7,  8,  9],\n",
       "       [10, 11, 12, 13, 14]])"
      ]
     },
     "execution_count": 11,
     "metadata": {},
     "output_type": "execute_result"
    }
   ],
   "source": [
    "a6.reshape((3,5)) #reshape divides 1-d array to 2-d having 3 rows and 5 columns"
   ]
  },
  {
   "cell_type": "raw",
   "id": "78d92633-8cfd-41a6-95bb-46fc6f04bafc",
   "metadata": {},
   "source": [
    "a7=np.arange(18)"
   ]
  },
  {
   "cell_type": "code",
   "execution_count": 12,
   "id": "ca7398f5-7b88-4dd1-92c5-3cff0d7ffc93",
   "metadata": {},
   "outputs": [],
   "source": [
    "a7=np.arange(15)"
   ]
  },
  {
   "cell_type": "code",
   "execution_count": 13,
   "id": "186d1dc8-27fb-4090-81ab-be57bd32e2e0",
   "metadata": {},
   "outputs": [
    {
     "name": "stdout",
     "output_type": "stream",
     "text": [
      "[ 0  1  2  3  4  5  6  7  8  9 10 11 12 13 14]\n"
     ]
    }
   ],
   "source": [
    "print(a7)"
   ]
  },
  {
   "cell_type": "code",
   "execution_count": 14,
   "id": "64ca108b-d3d9-479c-a058-9f5b53516bb2",
   "metadata": {},
   "outputs": [
    {
     "data": {
      "text/plain": [
       "array([[ 0,  1,  2],\n",
       "       [ 3,  4,  5],\n",
       "       [ 6,  7,  8],\n",
       "       [ 9, 10, 11],\n",
       "       [12, 13, 14]])"
      ]
     },
     "execution_count": 14,
     "metadata": {},
     "output_type": "execute_result"
    }
   ],
   "source": [
    "a7.reshape((5,3))"
   ]
  },
  {
   "cell_type": "markdown",
   "id": "b581aa87-76d9-469d-b6d3-9d6dd4019c8b",
   "metadata": {},
   "source": [
    "random numbers"
   ]
  },
  {
   "cell_type": "code",
   "execution_count": 15,
   "id": "9f59caab-f39b-4d92-a2b2-f75935b613a8",
   "metadata": {},
   "outputs": [],
   "source": [
    "data=np.random.randn(2,3) #gets random numbers from gaussian curve or bell shape curve"
   ]
  },
  {
   "cell_type": "code",
   "execution_count": 16,
   "id": "0d32d7c0-b960-4e97-b925-8d84b56d97b9",
   "metadata": {},
   "outputs": [
    {
     "data": {
      "text/plain": [
       "array([[-0.50220496,  0.06239544, -1.98969635],\n",
       "       [ 0.95503175, -0.71423468,  1.95563799]])"
      ]
     },
     "execution_count": 16,
     "metadata": {},
     "output_type": "execute_result"
    }
   ],
   "source": [
    "data"
   ]
  },
  {
   "cell_type": "code",
   "execution_count": 17,
   "id": "40d28cb8-bb95-4233-98df-8e54aa462be3",
   "metadata": {},
   "outputs": [
    {
     "data": {
      "text/plain": [
       "-0.03884513687894272"
      ]
     },
     "execution_count": 17,
     "metadata": {},
     "output_type": "execute_result"
    }
   ],
   "source": [
    "np.mean(data)"
   ]
  },
  {
   "cell_type": "code",
   "execution_count": 18,
   "id": "42134414-abc6-435e-8d0c-0d76c0192c98",
   "metadata": {},
   "outputs": [],
   "source": [
    "values=np.random.randn(2,5)"
   ]
  },
  {
   "cell_type": "code",
   "execution_count": 19,
   "id": "70ec8b8b-48ee-4815-9861-24a9f1f803e5",
   "metadata": {},
   "outputs": [
    {
     "data": {
      "text/plain": [
       "array([[ 0.64935246,  0.37268346, -0.32414093, -0.83760148,  0.48414957],\n",
       "       [ 0.71809966, -0.11459143, -0.96475794,  0.59603757, -0.78427823]])"
      ]
     },
     "execution_count": 19,
     "metadata": {},
     "output_type": "execute_result"
    }
   ],
   "source": [
    "values"
   ]
  },
  {
   "cell_type": "code",
   "execution_count": 20,
   "id": "280b6fb8-90b0-4bc1-a083-6f822a0dafcb",
   "metadata": {},
   "outputs": [
    {
     "data": {
      "text/plain": [
       "-0.020504730526857983"
      ]
     },
     "execution_count": 20,
     "metadata": {},
     "output_type": "execute_result"
    }
   ],
   "source": [
    "np.mean(values)"
   ]
  },
  {
   "cell_type": "code",
   "execution_count": 21,
   "id": "adbdd151-7276-46da-9b4c-aaa751c4ef60",
   "metadata": {},
   "outputs": [],
   "source": [
    "data1=np.random.randn(100,100)"
   ]
  },
  {
   "cell_type": "code",
   "execution_count": 22,
   "id": "bcd8a5d5-5710-4fa6-bf99-2b140dba8696",
   "metadata": {},
   "outputs": [
    {
     "data": {
      "text/plain": [
       "array([[ 1.76649231,  1.38147598, -0.20256015, ..., -1.05591174,\n",
       "         0.53380501, -2.09691923],\n",
       "       [ 0.92777099, -0.03792306, -1.29102989, ...,  0.72191346,\n",
       "         1.65431089, -0.47635072],\n",
       "       [ 0.17381669, -0.91081029,  0.1323787 , ...,  0.94400269,\n",
       "         0.13094379,  1.46693527],\n",
       "       ...,\n",
       "       [ 1.23435546, -0.01382089, -0.12345063, ..., -0.18973542,\n",
       "         0.42534946, -0.05363438],\n",
       "       [-0.11325164,  1.13423524, -0.56310395, ...,  1.37092478,\n",
       "        -0.45245031,  0.63912065],\n",
       "       [-0.64662149,  0.29841653, -0.2935562 , ..., -0.48140024,\n",
       "        -0.02458534, -0.35060334]])"
      ]
     },
     "execution_count": 22,
     "metadata": {},
     "output_type": "execute_result"
    }
   ],
   "source": [
    "data1"
   ]
  },
  {
   "cell_type": "code",
   "execution_count": 23,
   "id": "424b1eb8-be7e-4734-a4b2-d49dae80798d",
   "metadata": {},
   "outputs": [
    {
     "data": {
      "text/plain": [
       "0.003531021979890141"
      ]
     },
     "execution_count": 23,
     "metadata": {},
     "output_type": "execute_result"
    }
   ],
   "source": [
    "np.mean(data1)"
   ]
  },
  {
   "cell_type": "markdown",
   "id": "b4b1ba01-c9ef-492a-b75d-f12120a532fd",
   "metadata": {},
   "source": [
    "compare python lists vs numpy array"
   ]
  },
  {
   "cell_type": "code",
   "execution_count": 24,
   "id": "d7d85fb1-3fcf-4fee-a60f-1f5b5ef89eec",
   "metadata": {},
   "outputs": [
    {
     "data": {
      "text/plain": [
       "array([      0,       1,       2, ..., 9999997, 9999998, 9999999])"
      ]
     },
     "execution_count": 24,
     "metadata": {},
     "output_type": "execute_result"
    }
   ],
   "source": [
    "np.arange(10000000)"
   ]
  },
  {
   "cell_type": "code",
   "execution_count": 25,
   "id": "9eb159ac-7e4a-4a9b-8d05-41fb6d486d81",
   "metadata": {},
   "outputs": [
    {
     "data": {
      "text/plain": [
       "[0,\n",
       " 1,\n",
       " 2,\n",
       " 3,\n",
       " 4,\n",
       " 5,\n",
       " 6,\n",
       " 7,\n",
       " 8,\n",
       " 9,\n",
       " 10,\n",
       " 11,\n",
       " 12,\n",
       " 13,\n",
       " 14,\n",
       " 15,\n",
       " 16,\n",
       " 17,\n",
       " 18,\n",
       " 19,\n",
       " 20,\n",
       " 21,\n",
       " 22,\n",
       " 23,\n",
       " 24,\n",
       " 25,\n",
       " 26,\n",
       " 27,\n",
       " 28,\n",
       " 29,\n",
       " 30,\n",
       " 31,\n",
       " 32,\n",
       " 33,\n",
       " 34,\n",
       " 35,\n",
       " 36,\n",
       " 37,\n",
       " 38,\n",
       " 39,\n",
       " 40,\n",
       " 41,\n",
       " 42,\n",
       " 43,\n",
       " 44,\n",
       " 45,\n",
       " 46,\n",
       " 47,\n",
       " 48,\n",
       " 49,\n",
       " 50,\n",
       " 51,\n",
       " 52,\n",
       " 53,\n",
       " 54,\n",
       " 55,\n",
       " 56,\n",
       " 57,\n",
       " 58,\n",
       " 59,\n",
       " 60,\n",
       " 61,\n",
       " 62,\n",
       " 63,\n",
       " 64,\n",
       " 65,\n",
       " 66,\n",
       " 67,\n",
       " 68,\n",
       " 69,\n",
       " 70,\n",
       " 71,\n",
       " 72,\n",
       " 73,\n",
       " 74,\n",
       " 75,\n",
       " 76,\n",
       " 77,\n",
       " 78,\n",
       " 79,\n",
       " 80,\n",
       " 81,\n",
       " 82,\n",
       " 83,\n",
       " 84,\n",
       " 85,\n",
       " 86,\n",
       " 87,\n",
       " 88,\n",
       " 89,\n",
       " 90,\n",
       " 91,\n",
       " 92,\n",
       " 93,\n",
       " 94,\n",
       " 95,\n",
       " 96,\n",
       " 97,\n",
       " 98,\n",
       " 99,\n",
       " 100,\n",
       " 101,\n",
       " 102,\n",
       " 103,\n",
       " 104,\n",
       " 105,\n",
       " 106,\n",
       " 107,\n",
       " 108,\n",
       " 109,\n",
       " 110,\n",
       " 111,\n",
       " 112,\n",
       " 113,\n",
       " 114,\n",
       " 115,\n",
       " 116,\n",
       " 117,\n",
       " 118,\n",
       " 119,\n",
       " 120,\n",
       " 121,\n",
       " 122,\n",
       " 123,\n",
       " 124,\n",
       " 125,\n",
       " 126,\n",
       " 127,\n",
       " 128,\n",
       " 129,\n",
       " 130,\n",
       " 131,\n",
       " 132,\n",
       " 133,\n",
       " 134,\n",
       " 135,\n",
       " 136,\n",
       " 137,\n",
       " 138,\n",
       " 139,\n",
       " 140,\n",
       " 141,\n",
       " 142,\n",
       " 143,\n",
       " 144,\n",
       " 145,\n",
       " 146,\n",
       " 147,\n",
       " 148,\n",
       " 149,\n",
       " 150,\n",
       " 151,\n",
       " 152,\n",
       " 153,\n",
       " 154,\n",
       " 155,\n",
       " 156,\n",
       " 157,\n",
       " 158,\n",
       " 159,\n",
       " 160,\n",
       " 161,\n",
       " 162,\n",
       " 163,\n",
       " 164,\n",
       " 165,\n",
       " 166,\n",
       " 167,\n",
       " 168,\n",
       " 169,\n",
       " 170,\n",
       " 171,\n",
       " 172,\n",
       " 173,\n",
       " 174,\n",
       " 175,\n",
       " 176,\n",
       " 177,\n",
       " 178,\n",
       " 179,\n",
       " 180,\n",
       " 181,\n",
       " 182,\n",
       " 183,\n",
       " 184,\n",
       " 185,\n",
       " 186,\n",
       " 187,\n",
       " 188,\n",
       " 189,\n",
       " 190,\n",
       " 191,\n",
       " 192,\n",
       " 193,\n",
       " 194,\n",
       " 195,\n",
       " 196,\n",
       " 197,\n",
       " 198,\n",
       " 199,\n",
       " 200,\n",
       " 201,\n",
       " 202,\n",
       " 203,\n",
       " 204,\n",
       " 205,\n",
       " 206,\n",
       " 207,\n",
       " 208,\n",
       " 209,\n",
       " 210,\n",
       " 211,\n",
       " 212,\n",
       " 213,\n",
       " 214,\n",
       " 215,\n",
       " 216,\n",
       " 217,\n",
       " 218,\n",
       " 219,\n",
       " 220,\n",
       " 221,\n",
       " 222,\n",
       " 223,\n",
       " 224,\n",
       " 225,\n",
       " 226,\n",
       " 227,\n",
       " 228,\n",
       " 229,\n",
       " 230,\n",
       " 231,\n",
       " 232,\n",
       " 233,\n",
       " 234,\n",
       " 235,\n",
       " 236,\n",
       " 237,\n",
       " 238,\n",
       " 239,\n",
       " 240,\n",
       " 241,\n",
       " 242,\n",
       " 243,\n",
       " 244,\n",
       " 245,\n",
       " 246,\n",
       " 247,\n",
       " 248,\n",
       " 249,\n",
       " 250,\n",
       " 251,\n",
       " 252,\n",
       " 253,\n",
       " 254,\n",
       " 255,\n",
       " 256,\n",
       " 257,\n",
       " 258,\n",
       " 259,\n",
       " 260,\n",
       " 261,\n",
       " 262,\n",
       " 263,\n",
       " 264,\n",
       " 265,\n",
       " 266,\n",
       " 267,\n",
       " 268,\n",
       " 269,\n",
       " 270,\n",
       " 271,\n",
       " 272,\n",
       " 273,\n",
       " 274,\n",
       " 275,\n",
       " 276,\n",
       " 277,\n",
       " 278,\n",
       " 279,\n",
       " 280,\n",
       " 281,\n",
       " 282,\n",
       " 283,\n",
       " 284,\n",
       " 285,\n",
       " 286,\n",
       " 287,\n",
       " 288,\n",
       " 289,\n",
       " 290,\n",
       " 291,\n",
       " 292,\n",
       " 293,\n",
       " 294,\n",
       " 295,\n",
       " 296,\n",
       " 297,\n",
       " 298,\n",
       " 299,\n",
       " 300,\n",
       " 301,\n",
       " 302,\n",
       " 303,\n",
       " 304,\n",
       " 305,\n",
       " 306,\n",
       " 307,\n",
       " 308,\n",
       " 309,\n",
       " 310,\n",
       " 311,\n",
       " 312,\n",
       " 313,\n",
       " 314,\n",
       " 315,\n",
       " 316,\n",
       " 317,\n",
       " 318,\n",
       " 319,\n",
       " 320,\n",
       " 321,\n",
       " 322,\n",
       " 323,\n",
       " 324,\n",
       " 325,\n",
       " 326,\n",
       " 327,\n",
       " 328,\n",
       " 329,\n",
       " 330,\n",
       " 331,\n",
       " 332,\n",
       " 333,\n",
       " 334,\n",
       " 335,\n",
       " 336,\n",
       " 337,\n",
       " 338,\n",
       " 339,\n",
       " 340,\n",
       " 341,\n",
       " 342,\n",
       " 343,\n",
       " 344,\n",
       " 345,\n",
       " 346,\n",
       " 347,\n",
       " 348,\n",
       " 349,\n",
       " 350,\n",
       " 351,\n",
       " 352,\n",
       " 353,\n",
       " 354,\n",
       " 355,\n",
       " 356,\n",
       " 357,\n",
       " 358,\n",
       " 359,\n",
       " 360,\n",
       " 361,\n",
       " 362,\n",
       " 363,\n",
       " 364,\n",
       " 365,\n",
       " 366,\n",
       " 367,\n",
       " 368,\n",
       " 369,\n",
       " 370,\n",
       " 371,\n",
       " 372,\n",
       " 373,\n",
       " 374,\n",
       " 375,\n",
       " 376,\n",
       " 377,\n",
       " 378,\n",
       " 379,\n",
       " 380,\n",
       " 381,\n",
       " 382,\n",
       " 383,\n",
       " 384,\n",
       " 385,\n",
       " 386,\n",
       " 387,\n",
       " 388,\n",
       " 389,\n",
       " 390,\n",
       " 391,\n",
       " 392,\n",
       " 393,\n",
       " 394,\n",
       " 395,\n",
       " 396,\n",
       " 397,\n",
       " 398,\n",
       " 399,\n",
       " 400,\n",
       " 401,\n",
       " 402,\n",
       " 403,\n",
       " 404,\n",
       " 405,\n",
       " 406,\n",
       " 407,\n",
       " 408,\n",
       " 409,\n",
       " 410,\n",
       " 411,\n",
       " 412,\n",
       " 413,\n",
       " 414,\n",
       " 415,\n",
       " 416,\n",
       " 417,\n",
       " 418,\n",
       " 419,\n",
       " 420,\n",
       " 421,\n",
       " 422,\n",
       " 423,\n",
       " 424,\n",
       " 425,\n",
       " 426,\n",
       " 427,\n",
       " 428,\n",
       " 429,\n",
       " 430,\n",
       " 431,\n",
       " 432,\n",
       " 433,\n",
       " 434,\n",
       " 435,\n",
       " 436,\n",
       " 437,\n",
       " 438,\n",
       " 439,\n",
       " 440,\n",
       " 441,\n",
       " 442,\n",
       " 443,\n",
       " 444,\n",
       " 445,\n",
       " 446,\n",
       " 447,\n",
       " 448,\n",
       " 449,\n",
       " 450,\n",
       " 451,\n",
       " 452,\n",
       " 453,\n",
       " 454,\n",
       " 455,\n",
       " 456,\n",
       " 457,\n",
       " 458,\n",
       " 459,\n",
       " 460,\n",
       " 461,\n",
       " 462,\n",
       " 463,\n",
       " 464,\n",
       " 465,\n",
       " 466,\n",
       " 467,\n",
       " 468,\n",
       " 469,\n",
       " 470,\n",
       " 471,\n",
       " 472,\n",
       " 473,\n",
       " 474,\n",
       " 475,\n",
       " 476,\n",
       " 477,\n",
       " 478,\n",
       " 479,\n",
       " 480,\n",
       " 481,\n",
       " 482,\n",
       " 483,\n",
       " 484,\n",
       " 485,\n",
       " 486,\n",
       " 487,\n",
       " 488,\n",
       " 489,\n",
       " 490,\n",
       " 491,\n",
       " 492,\n",
       " 493,\n",
       " 494,\n",
       " 495,\n",
       " 496,\n",
       " 497,\n",
       " 498,\n",
       " 499,\n",
       " 500,\n",
       " 501,\n",
       " 502,\n",
       " 503,\n",
       " 504,\n",
       " 505,\n",
       " 506,\n",
       " 507,\n",
       " 508,\n",
       " 509,\n",
       " 510,\n",
       " 511,\n",
       " 512,\n",
       " 513,\n",
       " 514,\n",
       " 515,\n",
       " 516,\n",
       " 517,\n",
       " 518,\n",
       " 519,\n",
       " 520,\n",
       " 521,\n",
       " 522,\n",
       " 523,\n",
       " 524,\n",
       " 525,\n",
       " 526,\n",
       " 527,\n",
       " 528,\n",
       " 529,\n",
       " 530,\n",
       " 531,\n",
       " 532,\n",
       " 533,\n",
       " 534,\n",
       " 535,\n",
       " 536,\n",
       " 537,\n",
       " 538,\n",
       " 539,\n",
       " 540,\n",
       " 541,\n",
       " 542,\n",
       " 543,\n",
       " 544,\n",
       " 545,\n",
       " 546,\n",
       " 547,\n",
       " 548,\n",
       " 549,\n",
       " 550,\n",
       " 551,\n",
       " 552,\n",
       " 553,\n",
       " 554,\n",
       " 555,\n",
       " 556,\n",
       " 557,\n",
       " 558,\n",
       " 559,\n",
       " 560,\n",
       " 561,\n",
       " 562,\n",
       " 563,\n",
       " 564,\n",
       " 565,\n",
       " 566,\n",
       " 567,\n",
       " 568,\n",
       " 569,\n",
       " 570,\n",
       " 571,\n",
       " 572,\n",
       " 573,\n",
       " 574,\n",
       " 575,\n",
       " 576,\n",
       " 577,\n",
       " 578,\n",
       " 579,\n",
       " 580,\n",
       " 581,\n",
       " 582,\n",
       " 583,\n",
       " 584,\n",
       " 585,\n",
       " 586,\n",
       " 587,\n",
       " 588,\n",
       " 589,\n",
       " 590,\n",
       " 591,\n",
       " 592,\n",
       " 593,\n",
       " 594,\n",
       " 595,\n",
       " 596,\n",
       " 597,\n",
       " 598,\n",
       " 599,\n",
       " 600,\n",
       " 601,\n",
       " 602,\n",
       " 603,\n",
       " 604,\n",
       " 605,\n",
       " 606,\n",
       " 607,\n",
       " 608,\n",
       " 609,\n",
       " 610,\n",
       " 611,\n",
       " 612,\n",
       " 613,\n",
       " 614,\n",
       " 615,\n",
       " 616,\n",
       " 617,\n",
       " 618,\n",
       " 619,\n",
       " 620,\n",
       " 621,\n",
       " 622,\n",
       " 623,\n",
       " 624,\n",
       " 625,\n",
       " 626,\n",
       " 627,\n",
       " 628,\n",
       " 629,\n",
       " 630,\n",
       " 631,\n",
       " 632,\n",
       " 633,\n",
       " 634,\n",
       " 635,\n",
       " 636,\n",
       " 637,\n",
       " 638,\n",
       " 639,\n",
       " 640,\n",
       " 641,\n",
       " 642,\n",
       " 643,\n",
       " 644,\n",
       " 645,\n",
       " 646,\n",
       " 647,\n",
       " 648,\n",
       " 649,\n",
       " 650,\n",
       " 651,\n",
       " 652,\n",
       " 653,\n",
       " 654,\n",
       " 655,\n",
       " 656,\n",
       " 657,\n",
       " 658,\n",
       " 659,\n",
       " 660,\n",
       " 661,\n",
       " 662,\n",
       " 663,\n",
       " 664,\n",
       " 665,\n",
       " 666,\n",
       " 667,\n",
       " 668,\n",
       " 669,\n",
       " 670,\n",
       " 671,\n",
       " 672,\n",
       " 673,\n",
       " 674,\n",
       " 675,\n",
       " 676,\n",
       " 677,\n",
       " 678,\n",
       " 679,\n",
       " 680,\n",
       " 681,\n",
       " 682,\n",
       " 683,\n",
       " 684,\n",
       " 685,\n",
       " 686,\n",
       " 687,\n",
       " 688,\n",
       " 689,\n",
       " 690,\n",
       " 691,\n",
       " 692,\n",
       " 693,\n",
       " 694,\n",
       " 695,\n",
       " 696,\n",
       " 697,\n",
       " 698,\n",
       " 699,\n",
       " 700,\n",
       " 701,\n",
       " 702,\n",
       " 703,\n",
       " 704,\n",
       " 705,\n",
       " 706,\n",
       " 707,\n",
       " 708,\n",
       " 709,\n",
       " 710,\n",
       " 711,\n",
       " 712,\n",
       " 713,\n",
       " 714,\n",
       " 715,\n",
       " 716,\n",
       " 717,\n",
       " 718,\n",
       " 719,\n",
       " 720,\n",
       " 721,\n",
       " 722,\n",
       " 723,\n",
       " 724,\n",
       " 725,\n",
       " 726,\n",
       " 727,\n",
       " 728,\n",
       " 729,\n",
       " 730,\n",
       " 731,\n",
       " 732,\n",
       " 733,\n",
       " 734,\n",
       " 735,\n",
       " 736,\n",
       " 737,\n",
       " 738,\n",
       " 739,\n",
       " 740,\n",
       " 741,\n",
       " 742,\n",
       " 743,\n",
       " 744,\n",
       " 745,\n",
       " 746,\n",
       " 747,\n",
       " 748,\n",
       " 749,\n",
       " 750,\n",
       " 751,\n",
       " 752,\n",
       " 753,\n",
       " 754,\n",
       " 755,\n",
       " 756,\n",
       " 757,\n",
       " 758,\n",
       " 759,\n",
       " 760,\n",
       " 761,\n",
       " 762,\n",
       " 763,\n",
       " 764,\n",
       " 765,\n",
       " 766,\n",
       " 767,\n",
       " 768,\n",
       " 769,\n",
       " 770,\n",
       " 771,\n",
       " 772,\n",
       " 773,\n",
       " 774,\n",
       " 775,\n",
       " 776,\n",
       " 777,\n",
       " 778,\n",
       " 779,\n",
       " 780,\n",
       " 781,\n",
       " 782,\n",
       " 783,\n",
       " 784,\n",
       " 785,\n",
       " 786,\n",
       " 787,\n",
       " 788,\n",
       " 789,\n",
       " 790,\n",
       " 791,\n",
       " 792,\n",
       " 793,\n",
       " 794,\n",
       " 795,\n",
       " 796,\n",
       " 797,\n",
       " 798,\n",
       " 799,\n",
       " 800,\n",
       " 801,\n",
       " 802,\n",
       " 803,\n",
       " 804,\n",
       " 805,\n",
       " 806,\n",
       " 807,\n",
       " 808,\n",
       " 809,\n",
       " 810,\n",
       " 811,\n",
       " 812,\n",
       " 813,\n",
       " 814,\n",
       " 815,\n",
       " 816,\n",
       " 817,\n",
       " 818,\n",
       " 819,\n",
       " 820,\n",
       " 821,\n",
       " 822,\n",
       " 823,\n",
       " 824,\n",
       " 825,\n",
       " 826,\n",
       " 827,\n",
       " 828,\n",
       " 829,\n",
       " 830,\n",
       " 831,\n",
       " 832,\n",
       " 833,\n",
       " 834,\n",
       " 835,\n",
       " 836,\n",
       " 837,\n",
       " 838,\n",
       " 839,\n",
       " 840,\n",
       " 841,\n",
       " 842,\n",
       " 843,\n",
       " 844,\n",
       " 845,\n",
       " 846,\n",
       " 847,\n",
       " 848,\n",
       " 849,\n",
       " 850,\n",
       " 851,\n",
       " 852,\n",
       " 853,\n",
       " 854,\n",
       " 855,\n",
       " 856,\n",
       " 857,\n",
       " 858,\n",
       " 859,\n",
       " 860,\n",
       " 861,\n",
       " 862,\n",
       " 863,\n",
       " 864,\n",
       " 865,\n",
       " 866,\n",
       " 867,\n",
       " 868,\n",
       " 869,\n",
       " 870,\n",
       " 871,\n",
       " 872,\n",
       " 873,\n",
       " 874,\n",
       " 875,\n",
       " 876,\n",
       " 877,\n",
       " 878,\n",
       " 879,\n",
       " 880,\n",
       " 881,\n",
       " 882,\n",
       " 883,\n",
       " 884,\n",
       " 885,\n",
       " 886,\n",
       " 887,\n",
       " 888,\n",
       " 889,\n",
       " 890,\n",
       " 891,\n",
       " 892,\n",
       " 893,\n",
       " 894,\n",
       " 895,\n",
       " 896,\n",
       " 897,\n",
       " 898,\n",
       " 899,\n",
       " 900,\n",
       " 901,\n",
       " 902,\n",
       " 903,\n",
       " 904,\n",
       " 905,\n",
       " 906,\n",
       " 907,\n",
       " 908,\n",
       " 909,\n",
       " 910,\n",
       " 911,\n",
       " 912,\n",
       " 913,\n",
       " 914,\n",
       " 915,\n",
       " 916,\n",
       " 917,\n",
       " 918,\n",
       " 919,\n",
       " 920,\n",
       " 921,\n",
       " 922,\n",
       " 923,\n",
       " 924,\n",
       " 925,\n",
       " 926,\n",
       " 927,\n",
       " 928,\n",
       " 929,\n",
       " 930,\n",
       " 931,\n",
       " 932,\n",
       " 933,\n",
       " 934,\n",
       " 935,\n",
       " 936,\n",
       " 937,\n",
       " 938,\n",
       " 939,\n",
       " 940,\n",
       " 941,\n",
       " 942,\n",
       " 943,\n",
       " 944,\n",
       " 945,\n",
       " 946,\n",
       " 947,\n",
       " 948,\n",
       " 949,\n",
       " 950,\n",
       " 951,\n",
       " 952,\n",
       " 953,\n",
       " 954,\n",
       " 955,\n",
       " 956,\n",
       " 957,\n",
       " 958,\n",
       " 959,\n",
       " 960,\n",
       " 961,\n",
       " 962,\n",
       " 963,\n",
       " 964,\n",
       " 965,\n",
       " 966,\n",
       " 967,\n",
       " 968,\n",
       " 969,\n",
       " 970,\n",
       " 971,\n",
       " 972,\n",
       " 973,\n",
       " 974,\n",
       " 975,\n",
       " 976,\n",
       " 977,\n",
       " 978,\n",
       " 979,\n",
       " 980,\n",
       " 981,\n",
       " 982,\n",
       " 983,\n",
       " 984,\n",
       " 985,\n",
       " 986,\n",
       " 987,\n",
       " 988,\n",
       " 989,\n",
       " 990,\n",
       " 991,\n",
       " 992,\n",
       " 993,\n",
       " 994,\n",
       " 995,\n",
       " 996,\n",
       " 997,\n",
       " 998,\n",
       " 999,\n",
       " ...]"
      ]
     },
     "execution_count": 25,
     "metadata": {},
     "output_type": "execute_result"
    }
   ],
   "source": [
    "list(range(10000000))"
   ]
  },
  {
   "cell_type": "code",
   "execution_count": 33,
   "id": "661b7c53-42c7-4b2d-a1dc-8df02272fbd9",
   "metadata": {},
   "outputs": [
    {
     "name": "stdout",
     "output_type": "stream",
     "text": [
      "CPU times: total: 24.1 s\n",
      "Wall time: 25 s\n"
     ]
    }
   ],
   "source": [
    "%time for i in range(1000):np.arange(10000000)*2"
   ]
  },
  {
   "cell_type": "code",
   "execution_count": 272,
   "id": "cc9ad3a6-73a4-4046-9ab7-001e146dc582",
   "metadata": {},
   "outputs": [
    {
     "ename": "KeyboardInterrupt",
     "evalue": "",
     "output_type": "error",
     "traceback": [
      "\u001b[1;31m---------------------------------------------------------------------------\u001b[0m",
      "\u001b[1;31mKeyboardInterrupt\u001b[0m                         Traceback (most recent call last)",
      "File \u001b[1;32m<timed exec>:1\u001b[0m\n",
      "\u001b[1;31mKeyboardInterrupt\u001b[0m: "
     ]
    }
   ],
   "source": [
    "%time for i in range(1000):list(range(10000000))*2"
   ]
  },
  {
   "cell_type": "code",
   "execution_count": 26,
   "id": "d641d3f6-9c37-463d-b25f-952285872be5",
   "metadata": {},
   "outputs": [],
   "source": [
    "b=np.array([1,2,3,4])"
   ]
  },
  {
   "cell_type": "code",
   "execution_count": 27,
   "id": "388f45d6-298c-409c-8f68-8a09af1d0f3f",
   "metadata": {},
   "outputs": [
    {
     "data": {
      "text/plain": [
       "array([1, 2, 3, 4])"
      ]
     },
     "execution_count": 27,
     "metadata": {},
     "output_type": "execute_result"
    }
   ],
   "source": [
    "b"
   ]
  },
  {
   "cell_type": "code",
   "execution_count": 28,
   "id": "6f145c95-0a91-4fa1-9bf6-37b8f82f4abf",
   "metadata": {},
   "outputs": [],
   "source": [
    "c=np.append(a,[5,6,7])"
   ]
  },
  {
   "cell_type": "code",
   "execution_count": 29,
   "id": "e230dfd4-0dad-4b6a-bfb9-498e8b2729d2",
   "metadata": {},
   "outputs": [
    {
     "data": {
      "text/plain": [
       "array([1, 2, 3, 4, 5, 6, 7, 8, 9, 5, 6, 7])"
      ]
     },
     "execution_count": 29,
     "metadata": {},
     "output_type": "execute_result"
    }
   ],
   "source": [
    "c"
   ]
  },
  {
   "cell_type": "code",
   "execution_count": 30,
   "id": "e8d51d3f-94dd-47b5-bb69-ddfbeb977f10",
   "metadata": {},
   "outputs": [],
   "source": [
    "d=np.array([[1,2,3],[4,5,6],[7,8,9]])"
   ]
  },
  {
   "cell_type": "code",
   "execution_count": 31,
   "id": "007a61f3-d4e1-4ae7-b328-c986475c87c6",
   "metadata": {},
   "outputs": [
    {
     "data": {
      "text/plain": [
       "2"
      ]
     },
     "execution_count": 31,
     "metadata": {},
     "output_type": "execute_result"
    }
   ],
   "source": [
    "d.ndim"
   ]
  },
  {
   "cell_type": "code",
   "execution_count": 32,
   "id": "d18a8e60-d053-4eee-8e15-070da769c354",
   "metadata": {},
   "outputs": [
    {
     "data": {
      "text/plain": [
       "array([[1, 2, 3],\n",
       "       [4, 5, 6],\n",
       "       [7, 8, 9]])"
      ]
     },
     "execution_count": 32,
     "metadata": {},
     "output_type": "execute_result"
    }
   ],
   "source": [
    "d"
   ]
  },
  {
   "cell_type": "code",
   "execution_count": 44,
   "id": "b503d803-83b4-40bb-89e8-f841435670d7",
   "metadata": {},
   "outputs": [],
   "source": [
    "d1=np.append(d,[[10,11,12]],axis=0) #adding a row (axis=0)"
   ]
  },
  {
   "cell_type": "code",
   "execution_count": 45,
   "id": "30dc59d8-1864-4919-a1b9-180a5a8f6268",
   "metadata": {},
   "outputs": [
    {
     "data": {
      "text/plain": [
       "array([[ 1,  2,  3],\n",
       "       [ 4,  5,  6],\n",
       "       [ 7,  8,  9],\n",
       "       [10, 11, 12]])"
      ]
     },
     "execution_count": 45,
     "metadata": {},
     "output_type": "execute_result"
    }
   ],
   "source": [
    "d1"
   ]
  },
  {
   "cell_type": "code",
   "execution_count": 46,
   "id": "761c293a-834b-4d6d-a57c-00ab182362a4",
   "metadata": {},
   "outputs": [],
   "source": [
    "d2=np.append(d1,[[1],[4],[7],[10]],axis=1) #adding a column (axis=1)"
   ]
  },
  {
   "cell_type": "code",
   "execution_count": 47,
   "id": "5af85f11-821d-4789-8487-7e60ada74edb",
   "metadata": {},
   "outputs": [
    {
     "data": {
      "text/plain": [
       "array([[ 1,  2,  3,  1],\n",
       "       [ 4,  5,  6,  4],\n",
       "       [ 7,  8,  9,  7],\n",
       "       [10, 11, 12, 10]])"
      ]
     },
     "execution_count": 47,
     "metadata": {},
     "output_type": "execute_result"
    }
   ],
   "source": [
    "d2"
   ]
  },
  {
   "cell_type": "markdown",
   "id": "3ed04a1d-7be7-48f0-a7ff-939d6ebeffb5",
   "metadata": {},
   "source": [
    "delete an element from array"
   ]
  },
  {
   "cell_type": "code",
   "execution_count": 48,
   "id": "a933362f-5965-452b-b465-3f6fe02ac631",
   "metadata": {},
   "outputs": [],
   "source": [
    "a=np.array([[1,2,3],[4,5,6]])"
   ]
  },
  {
   "cell_type": "code",
   "execution_count": 49,
   "id": "59465e2e-2e49-45b5-bf1c-c12012873aa4",
   "metadata": {},
   "outputs": [
    {
     "data": {
      "text/plain": [
       "array([[1, 2, 3],\n",
       "       [4, 5, 6]])"
      ]
     },
     "execution_count": 49,
     "metadata": {},
     "output_type": "execute_result"
    }
   ],
   "source": [
    "a"
   ]
  },
  {
   "cell_type": "code",
   "execution_count": 50,
   "id": "208e970d-9aa6-411f-8043-432310cc2167",
   "metadata": {},
   "outputs": [
    {
     "data": {
      "text/plain": [
       "array([2, 3, 4, 5, 6])"
      ]
     },
     "execution_count": 50,
     "metadata": {},
     "output_type": "execute_result"
    }
   ],
   "source": [
    "np.delete(a,0)"
   ]
  },
  {
   "cell_type": "code",
   "execution_count": 51,
   "id": "a98783b9-f5df-49d9-b4e7-43adc1ab3ab7",
   "metadata": {},
   "outputs": [],
   "source": [
    "a1=np.delete(a,0)"
   ]
  },
  {
   "cell_type": "code",
   "execution_count": 52,
   "id": "1fd5b5b4-496b-4971-8f1c-2ecdec94bf69",
   "metadata": {},
   "outputs": [
    {
     "data": {
      "text/plain": [
       "array([2, 3, 4, 5, 6])"
      ]
     },
     "execution_count": 52,
     "metadata": {},
     "output_type": "execute_result"
    }
   ],
   "source": [
    "a1"
   ]
  },
  {
   "cell_type": "code",
   "execution_count": 53,
   "id": "964ce5eb-9574-4fd9-8518-c21cee8a6810",
   "metadata": {},
   "outputs": [
    {
     "data": {
      "text/plain": [
       "array([[1, 2, 3],\n",
       "       [4, 5, 6]])"
      ]
     },
     "execution_count": 53,
     "metadata": {},
     "output_type": "execute_result"
    }
   ],
   "source": [
    "a"
   ]
  },
  {
   "cell_type": "code",
   "execution_count": 57,
   "id": "b8ed8418-1733-44e3-bdf4-f89a44b4cb10",
   "metadata": {},
   "outputs": [
    {
     "data": {
      "text/plain": [
       "array([[4, 5, 6]])"
      ]
     },
     "execution_count": 57,
     "metadata": {},
     "output_type": "execute_result"
    }
   ],
   "source": [
    "np.delete(a,0,axis=0) #delete row"
   ]
  },
  {
   "cell_type": "code",
   "execution_count": 58,
   "id": "55352a60-8fc7-44b9-b026-6ca213a9baf3",
   "metadata": {},
   "outputs": [
    {
     "data": {
      "text/plain": [
       "array([[1, 2, 3],\n",
       "       [4, 5, 6]])"
      ]
     },
     "execution_count": 58,
     "metadata": {},
     "output_type": "execute_result"
    }
   ],
   "source": [
    "a"
   ]
  },
  {
   "cell_type": "code",
   "execution_count": 59,
   "id": "73167f1f-c315-4ca5-a154-4f8c1bcffb75",
   "metadata": {},
   "outputs": [
    {
     "data": {
      "text/plain": [
       "array([[2, 3],\n",
       "       [5, 6]])"
      ]
     },
     "execution_count": 59,
     "metadata": {},
     "output_type": "execute_result"
    }
   ],
   "source": [
    "np.delete(a,0,axis=1) #delete column"
   ]
  },
  {
   "cell_type": "code",
   "execution_count": 60,
   "id": "fa5d467b-c7dd-4309-89f7-11af71276e31",
   "metadata": {},
   "outputs": [
    {
     "data": {
      "text/plain": [
       "array([[1, 2, 3],\n",
       "       [4, 5, 6]])"
      ]
     },
     "execution_count": 60,
     "metadata": {},
     "output_type": "execute_result"
    }
   ],
   "source": [
    "a"
   ]
  },
  {
   "cell_type": "markdown",
   "id": "8e7dd99e-5b78-491d-a978-27a8a2fd67f8",
   "metadata": {},
   "source": [
    "basic mathematical operation on arrays"
   ]
  },
  {
   "cell_type": "code",
   "execution_count": 122,
   "id": "dd7b1d67-dd0c-4422-aacd-03831ea35ee8",
   "metadata": {},
   "outputs": [],
   "source": [
    "z1=np.array([1,2,3,4,5])"
   ]
  },
  {
   "cell_type": "code",
   "execution_count": 123,
   "id": "3003ab50-c4d8-4644-ace3-4b408c2aeb89",
   "metadata": {},
   "outputs": [
    {
     "data": {
      "text/plain": [
       "array([1, 2, 3, 4, 5])"
      ]
     },
     "execution_count": 123,
     "metadata": {},
     "output_type": "execute_result"
    }
   ],
   "source": [
    "z1"
   ]
  },
  {
   "cell_type": "code",
   "execution_count": 124,
   "id": "44686295-1428-4d3f-b5d3-a665d1889a33",
   "metadata": {},
   "outputs": [],
   "source": [
    "z2=np.array([6,7,8,9,10])"
   ]
  },
  {
   "cell_type": "code",
   "execution_count": 125,
   "id": "31f95350-9c24-4deb-b257-a2574b75687f",
   "metadata": {},
   "outputs": [
    {
     "data": {
      "text/plain": [
       "array([ 6,  7,  8,  9, 10])"
      ]
     },
     "execution_count": 125,
     "metadata": {},
     "output_type": "execute_result"
    }
   ],
   "source": [
    "z2"
   ]
  },
  {
   "cell_type": "code",
   "execution_count": 128,
   "id": "2858d4ba-50e8-4c93-b7c2-959bab92635e",
   "metadata": {},
   "outputs": [
    {
     "data": {
      "text/plain": [
       "array([ 7,  9, 11, 13, 15])"
      ]
     },
     "execution_count": 128,
     "metadata": {},
     "output_type": "execute_result"
    }
   ],
   "source": [
    "z1+z2"
   ]
  },
  {
   "cell_type": "code",
   "execution_count": 129,
   "id": "c252a5c5-f266-4f20-80ce-a7d33ba6f01b",
   "metadata": {},
   "outputs": [
    {
     "data": {
      "text/plain": [
       "array([-5, -5, -5, -5, -5])"
      ]
     },
     "execution_count": 129,
     "metadata": {},
     "output_type": "execute_result"
    }
   ],
   "source": [
    "z1-z2"
   ]
  },
  {
   "cell_type": "code",
   "execution_count": 130,
   "id": "4da14184-054c-4d75-93e3-ef970944375e",
   "metadata": {},
   "outputs": [
    {
     "data": {
      "text/plain": [
       "array([5, 5, 5, 5, 5])"
      ]
     },
     "execution_count": 130,
     "metadata": {},
     "output_type": "execute_result"
    }
   ],
   "source": [
    "z2-z1"
   ]
  },
  {
   "cell_type": "code",
   "execution_count": 131,
   "id": "bfbf7b03-a0c6-4abd-84b0-26397a556ba9",
   "metadata": {},
   "outputs": [
    {
     "data": {
      "text/plain": [
       "array([ 6, 14, 24, 36, 50])"
      ]
     },
     "execution_count": 131,
     "metadata": {},
     "output_type": "execute_result"
    }
   ],
   "source": [
    "z1*z2"
   ]
  },
  {
   "cell_type": "code",
   "execution_count": 132,
   "id": "82183907-c232-413c-81d8-e2aed67c3af4",
   "metadata": {},
   "outputs": [
    {
     "data": {
      "text/plain": [
       "array([0.16666667, 0.28571429, 0.375     , 0.44444444, 0.5       ])"
      ]
     },
     "execution_count": 132,
     "metadata": {},
     "output_type": "execute_result"
    }
   ],
   "source": [
    "z1/z2"
   ]
  },
  {
   "cell_type": "code",
   "execution_count": 133,
   "id": "473ae6ec-793b-4183-8b54-dc5c1a6d59d9",
   "metadata": {},
   "outputs": [
    {
     "data": {
      "text/plain": [
       "array([0, 0, 0, 0, 0])"
      ]
     },
     "execution_count": 133,
     "metadata": {},
     "output_type": "execute_result"
    }
   ],
   "source": [
    "z1//z2"
   ]
  },
  {
   "cell_type": "code",
   "execution_count": 134,
   "id": "4cb8c1c6-1e50-4f17-befb-78c7e98bff65",
   "metadata": {},
   "outputs": [
    {
     "data": {
      "text/plain": [
       "array([     6,     49,    512,   6561, 100000])"
      ]
     },
     "execution_count": 134,
     "metadata": {},
     "output_type": "execute_result"
    }
   ],
   "source": [
    "z2**z1"
   ]
  },
  {
   "cell_type": "code",
   "execution_count": 135,
   "id": "11604f6f-2fc4-4a7e-b3de-83d53e4864bc",
   "metadata": {},
   "outputs": [],
   "source": [
    "v=np.array([1,2,3])"
   ]
  },
  {
   "cell_type": "code",
   "execution_count": 136,
   "id": "470dace6-79ec-45e9-8c73-96e148620dce",
   "metadata": {},
   "outputs": [
    {
     "data": {
      "text/plain": [
       "array([1, 2, 3])"
      ]
     },
     "execution_count": 136,
     "metadata": {},
     "output_type": "execute_result"
    }
   ],
   "source": [
    "v"
   ]
  },
  {
   "cell_type": "code",
   "execution_count": 148,
   "id": "3826a498-06f5-4702-9b88-c1bc51e87c01",
   "metadata": {},
   "outputs": [
    {
     "data": {
      "text/plain": [
       "array([3, 6, 9])"
      ]
     },
     "execution_count": 148,
     "metadata": {},
     "output_type": "execute_result"
    }
   ],
   "source": [
    "v*3 #multiplies 3 for all elements in the  numpy array"
   ]
  },
  {
   "cell_type": "code",
   "execution_count": 149,
   "id": "621a784a-6529-4a9e-9f02-eda0cca4da60",
   "metadata": {},
   "outputs": [],
   "source": [
    "v1=[1,2,3]"
   ]
  },
  {
   "cell_type": "code",
   "execution_count": 150,
   "id": "c8ce0196-79d3-4e40-a22b-8ae5a80c67c0",
   "metadata": {},
   "outputs": [
    {
     "data": {
      "text/plain": [
       "[1, 2, 3]"
      ]
     },
     "execution_count": 150,
     "metadata": {},
     "output_type": "execute_result"
    }
   ],
   "source": [
    "v1"
   ]
  },
  {
   "cell_type": "code",
   "execution_count": 151,
   "id": "2c221160-8dff-4b6f-ac27-ea3641ad9d66",
   "metadata": {},
   "outputs": [
    {
     "data": {
      "text/plain": [
       "[1, 2, 3, 1, 2, 3, 1, 2, 3]"
      ]
     },
     "execution_count": 151,
     "metadata": {},
     "output_type": "execute_result"
    }
   ],
   "source": [
    "v1*3 #repeats the elements in the array 3 times"
   ]
  },
  {
   "cell_type": "code",
   "execution_count": 154,
   "id": "8ffc0131-e0b9-488c-8f28-994c4340480e",
   "metadata": {},
   "outputs": [],
   "source": [
    "s=[1,2,3]\n",
    "f=[4,5,6]"
   ]
  },
  {
   "cell_type": "code",
   "execution_count": 155,
   "id": "bbe8e1fe-a4f4-46b1-9991-fd8aaa69dcf8",
   "metadata": {},
   "outputs": [
    {
     "data": {
      "text/plain": [
       "[1, 2, 3, 4, 5, 6]"
      ]
     },
     "execution_count": 155,
     "metadata": {},
     "output_type": "execute_result"
    }
   ],
   "source": [
    "s+f"
   ]
  },
  {
   "cell_type": "code",
   "execution_count": 160,
   "id": "00aabb62-2f7b-47b2-93e4-4768e49cf01a",
   "metadata": {},
   "outputs": [
    {
     "data": {
      "text/plain": [
       "array([1, 1, 1, 2, 2, 2, 3, 3, 3])"
      ]
     },
     "execution_count": 160,
     "metadata": {},
     "output_type": "execute_result"
    }
   ],
   "source": [
    "np.repeat(v,3) "
   ]
  },
  {
   "cell_type": "code",
   "execution_count": 161,
   "id": "98032d8f-3610-4811-a586-d69843074d82",
   "metadata": {},
   "outputs": [
    {
     "data": {
      "text/plain": [
       "array([1, 2, 3, 1, 2, 3, 1, 2, 3])"
      ]
     },
     "execution_count": 161,
     "metadata": {},
     "output_type": "execute_result"
    }
   ],
   "source": [
    "np.tile(v,3)"
   ]
  },
  {
   "cell_type": "code",
   "execution_count": 162,
   "id": "755d543a-3a0c-4416-b55c-bdda79df18d1",
   "metadata": {},
   "outputs": [],
   "source": [
    "g=np.arange(15)"
   ]
  },
  {
   "cell_type": "code",
   "execution_count": 176,
   "id": "c272fa64-5ae2-46ed-81e0-2f542bcafc5b",
   "metadata": {},
   "outputs": [],
   "source": [
    "h=g.reshape((3,5))"
   ]
  },
  {
   "cell_type": "code",
   "execution_count": 177,
   "id": "83a257c3-8c94-4752-89df-369fc9524837",
   "metadata": {},
   "outputs": [],
   "source": [
    "m=np.tile(h,3)"
   ]
  },
  {
   "cell_type": "code",
   "execution_count": 178,
   "id": "dfe10212-4907-408d-9195-1f713e8941db",
   "metadata": {},
   "outputs": [
    {
     "data": {
      "text/plain": [
       "array([[ 0,  1,  2,  3,  4,  0,  1,  2,  3,  4,  0,  1,  2,  3,  4],\n",
       "       [ 5,  6,  7,  8,  9,  5,  6,  7,  8,  9,  5,  6,  7,  8,  9],\n",
       "       [10, 11, 12, 13, 14, 10, 11, 12, 13, 14, 10, 11, 12, 13, 14]])"
      ]
     },
     "execution_count": 178,
     "metadata": {},
     "output_type": "execute_result"
    }
   ],
   "source": [
    "m"
   ]
  },
  {
   "cell_type": "code",
   "execution_count": 179,
   "id": "f3ab85f2-e8b4-4ee6-bcfb-58a1c4950919",
   "metadata": {},
   "outputs": [
    {
     "data": {
      "text/plain": [
       "array([1, 4, 9])"
      ]
     },
     "execution_count": 179,
     "metadata": {},
     "output_type": "execute_result"
    }
   ],
   "source": [
    "v**2"
   ]
  },
  {
   "cell_type": "code",
   "execution_count": 180,
   "id": "b3ac810f-2a96-430c-8b0b-88fdae69b420",
   "metadata": {},
   "outputs": [
    {
     "data": {
      "text/plain": [
       "array([0.16666667, 0.14285714, 0.125     , 0.11111111, 0.1       ])"
      ]
     },
     "execution_count": 180,
     "metadata": {},
     "output_type": "execute_result"
    }
   ],
   "source": [
    "z2/(z2**2)"
   ]
  },
  {
   "cell_type": "markdown",
   "id": "776f9af9-045e-44ca-b81c-c8ab59ed31cc",
   "metadata": {},
   "source": [
    "vectorization"
   ]
  },
  {
   "cell_type": "code",
   "execution_count": 187,
   "id": "b30375a9-bbc4-4c9f-8ee1-d65ad7a8dc83",
   "metadata": {},
   "outputs": [
    {
     "data": {
      "text/plain": [
       "array([False, False, False, False, False])"
      ]
     },
     "execution_count": 187,
     "metadata": {},
     "output_type": "execute_result"
    }
   ],
   "source": [
    "z1==z2"
   ]
  },
  {
   "cell_type": "code",
   "execution_count": 188,
   "id": "d6c0163c-bf56-46da-be8d-6c753dc4601d",
   "metadata": {},
   "outputs": [
    {
     "data": {
      "text/plain": [
       "array([ True,  True,  True,  True,  True])"
      ]
     },
     "execution_count": 188,
     "metadata": {},
     "output_type": "execute_result"
    }
   ],
   "source": [
    "z1!=z2"
   ]
  },
  {
   "cell_type": "code",
   "execution_count": 189,
   "id": "1877f9bb-9cf1-47df-98df-6516cf20cd76",
   "metadata": {},
   "outputs": [
    {
     "data": {
      "text/plain": [
       "array([False, False, False, False, False])"
      ]
     },
     "execution_count": 189,
     "metadata": {},
     "output_type": "execute_result"
    }
   ],
   "source": [
    "z1>z2"
   ]
  },
  {
   "cell_type": "code",
   "execution_count": 190,
   "id": "e0ef70c6-3898-4852-80d0-4ee6ba631a4c",
   "metadata": {},
   "outputs": [
    {
     "data": {
      "text/plain": [
       "array([ True,  True,  True,  True,  True])"
      ]
     },
     "execution_count": 190,
     "metadata": {},
     "output_type": "execute_result"
    }
   ],
   "source": [
    "z2>z1"
   ]
  },
  {
   "cell_type": "code",
   "execution_count": 191,
   "id": "bf862a70-4dbe-4814-8c09-0163c0526732",
   "metadata": {},
   "outputs": [
    {
     "data": {
      "text/plain": [
       "array([False,  True,  True])"
      ]
     },
     "execution_count": 191,
     "metadata": {},
     "output_type": "execute_result"
    }
   ],
   "source": [
    "v>1"
   ]
  },
  {
   "cell_type": "code",
   "execution_count": 192,
   "id": "3869bcb7-ef00-4de8-893c-6e3254f6bcf3",
   "metadata": {},
   "outputs": [
    {
     "data": {
      "text/plain": [
       "array([ True, False, False, False, False])"
      ]
     },
     "execution_count": 192,
     "metadata": {},
     "output_type": "execute_result"
    }
   ],
   "source": [
    "z1==1"
   ]
  },
  {
   "cell_type": "code",
   "execution_count": 193,
   "id": "89059be4-cd3b-4ba2-ae74-ad3f338afe7e",
   "metadata": {},
   "outputs": [
    {
     "data": {
      "text/plain": [
       "array([1.        , 1.41421356, 1.73205081])"
      ]
     },
     "execution_count": 193,
     "metadata": {},
     "output_type": "execute_result"
    }
   ],
   "source": [
    "np.sqrt(v)"
   ]
  },
  {
   "cell_type": "code",
   "execution_count": 211,
   "id": "d2b59fe1-fd61-4784-a973-3788de000c40",
   "metadata": {},
   "outputs": [],
   "source": [
    "x=np.arange(1,11)"
   ]
  },
  {
   "cell_type": "code",
   "execution_count": 212,
   "id": "d1858b1b-b815-4d38-bb00-820f82cf2fe1",
   "metadata": {},
   "outputs": [
    {
     "data": {
      "text/plain": [
       "array([ 1,  2,  3,  4,  5,  6,  7,  8,  9, 10])"
      ]
     },
     "execution_count": 212,
     "metadata": {},
     "output_type": "execute_result"
    }
   ],
   "source": [
    "x"
   ]
  },
  {
   "cell_type": "code",
   "execution_count": 215,
   "id": "35caf9d7-ff6f-4946-bb4b-6fe0d22029ab",
   "metadata": {},
   "outputs": [],
   "source": [
    "x_mean=x.mean()"
   ]
  },
  {
   "cell_type": "code",
   "execution_count": 234,
   "id": "4715d233-102b-4bfa-939b-31ccd8cffb51",
   "metadata": {},
   "outputs": [
    {
     "data": {
      "text/plain": [
       "5.5"
      ]
     },
     "execution_count": 234,
     "metadata": {},
     "output_type": "execute_result"
    }
   ],
   "source": [
    "x_mean"
   ]
  },
  {
   "cell_type": "code",
   "execution_count": 235,
   "id": "bf0d3c13-3385-4889-a486-5bf59eacfb6a",
   "metadata": {},
   "outputs": [
    {
     "data": {
      "text/plain": [
       "55"
      ]
     },
     "execution_count": 235,
     "metadata": {},
     "output_type": "execute_result"
    }
   ],
   "source": [
    "sum"
   ]
  },
  {
   "cell_type": "code",
   "execution_count": 236,
   "id": "db843ae4-d8b1-4a7f-9c30-6079a3063c45",
   "metadata": {},
   "outputs": [
    {
     "data": {
      "text/plain": [
       "array([ 4.5,  3.5,  2.5,  1.5,  0.5, -0.5, -1.5, -2.5, -3.5, -4.5])"
      ]
     },
     "execution_count": 236,
     "metadata": {},
     "output_type": "execute_result"
    }
   ],
   "source": [
    "x_mean-x"
   ]
  },
  {
   "cell_type": "code",
   "execution_count": 237,
   "id": "aee9c9a8-aac8-4eda-b4e1-9c7d25d87b96",
   "metadata": {},
   "outputs": [],
   "source": [
    "z=(x_mean-x)**2"
   ]
  },
  {
   "cell_type": "code",
   "execution_count": 238,
   "id": "ceb151a0",
   "metadata": {},
   "outputs": [],
   "source": [
    "ans=z.sum()"
   ]
  },
  {
   "cell_type": "code",
   "execution_count": 239,
   "id": "052cd650-dea7-4e14-8384-8816948a5c1b",
   "metadata": {},
   "outputs": [
    {
     "data": {
      "text/plain": [
       "82.5"
      ]
     },
     "execution_count": 239,
     "metadata": {},
     "output_type": "execute_result"
    }
   ],
   "source": [
    "ans"
   ]
  },
  {
   "cell_type": "code",
   "execution_count": 240,
   "id": "2a1a0297-eca4-4298-b965-e02626673b74",
   "metadata": {},
   "outputs": [],
   "source": [
    "var=ans/x.size"
   ]
  },
  {
   "cell_type": "code",
   "execution_count": 241,
   "id": "d232b20c-fb24-48af-835c-f550aff300ea",
   "metadata": {},
   "outputs": [
    {
     "data": {
      "text/plain": [
       "8.25"
      ]
     },
     "execution_count": 241,
     "metadata": {},
     "output_type": "execute_result"
    }
   ],
   "source": [
    "var"
   ]
  },
  {
   "cell_type": "code",
   "execution_count": 242,
   "id": "fd46f499-2efe-4951-a21d-a9e0a3a22e9c",
   "metadata": {},
   "outputs": [],
   "source": [
    "standard_deviation=np.sqrt(var)"
   ]
  },
  {
   "cell_type": "code",
   "execution_count": 243,
   "id": "46fd5a58-7539-4041-a37a-2eee1aafcbe8",
   "metadata": {},
   "outputs": [
    {
     "data": {
      "text/plain": [
       "2.8722813232690143"
      ]
     },
     "execution_count": 243,
     "metadata": {},
     "output_type": "execute_result"
    }
   ],
   "source": [
    "standard_deviation"
   ]
  },
  {
   "cell_type": "code",
   "execution_count": 248,
   "id": "23da74db-11d5-4e65-8ab9-faf1d323034d",
   "metadata": {},
   "outputs": [],
   "source": [
    "x1=x.cumsum()"
   ]
  },
  {
   "cell_type": "code",
   "execution_count": 251,
   "id": "649ce307-0afe-4d2b-9f20-a5ef305e19af",
   "metadata": {},
   "outputs": [
    {
     "data": {
      "text/plain": [
       "array([ 1,  3,  6, 10, 15, 21, 28, 36, 45, 55])"
      ]
     },
     "execution_count": 251,
     "metadata": {},
     "output_type": "execute_result"
    }
   ],
   "source": [
    "x1"
   ]
  },
  {
   "cell_type": "code",
   "execution_count": 249,
   "id": "9a6a6235-d782-4052-96c4-b2f7b2b20146",
   "metadata": {},
   "outputs": [
    {
     "data": {
      "text/plain": [
       "55"
      ]
     },
     "execution_count": 249,
     "metadata": {},
     "output_type": "execute_result"
    }
   ],
   "source": [
    "x1.max()"
   ]
  },
  {
   "cell_type": "code",
   "execution_count": 250,
   "id": "692dd38f-dfa2-4884-8b5e-f8a6da779c53",
   "metadata": {},
   "outputs": [
    {
     "data": {
      "text/plain": [
       "1"
      ]
     },
     "execution_count": 250,
     "metadata": {},
     "output_type": "execute_result"
    }
   ],
   "source": [
    "x1.min()"
   ]
  },
  {
   "cell_type": "code",
   "execution_count": 253,
   "id": "5ae5bbb5-6110-4c76-85c9-1e8c2d320f4d",
   "metadata": {},
   "outputs": [
    {
     "data": {
      "text/plain": [
       "10"
      ]
     },
     "execution_count": 253,
     "metadata": {},
     "output_type": "execute_result"
    }
   ],
   "source": [
    "x.max()"
   ]
  },
  {
   "cell_type": "code",
   "execution_count": 254,
   "id": "aa69a6ce-064d-480c-aa01-52e67190c15a",
   "metadata": {},
   "outputs": [
    {
     "data": {
      "text/plain": [
       "1"
      ]
     },
     "execution_count": 254,
     "metadata": {},
     "output_type": "execute_result"
    }
   ],
   "source": [
    "x.min()"
   ]
  },
  {
   "cell_type": "code",
   "execution_count": 4,
   "id": "4c2de2ad-8176-40fe-81a7-0148e7f49c17",
   "metadata": {},
   "outputs": [],
   "source": [
    "import numpy as np"
   ]
  },
  {
   "cell_type": "markdown",
   "id": "36209a71-d109-4692-adb8-98e410981c3e",
   "metadata": {},
   "source": [
    "statistical methods of numpy array"
   ]
  },
  {
   "cell_type": "code",
   "execution_count": 7,
   "id": "f79bc714-42f2-4991-bb1a-455eb5ab2e70",
   "metadata": {},
   "outputs": [],
   "source": [
    "n=np.arange(15)"
   ]
  },
  {
   "cell_type": "code",
   "execution_count": 8,
   "id": "183e3117-6d38-4647-afdb-9ea2a68d0884",
   "metadata": {},
   "outputs": [],
   "source": [
    "n1=n.reshape(3,5)"
   ]
  },
  {
   "cell_type": "code",
   "execution_count": null,
   "id": "2f6ab9d4-e94e-4e3b-bfff-24650a42fbab",
   "metadata": {},
   "outputs": [],
   "source": []
  },
  {
   "cell_type": "code",
   "execution_count": 9,
   "id": "36c1439b-3658-4594-bc99-3446192e46f7",
   "metadata": {},
   "outputs": [
    {
     "data": {
      "text/plain": [
       "array([5., 6., 7., 8., 9.])"
      ]
     },
     "execution_count": 9,
     "metadata": {},
     "output_type": "execute_result"
    }
   ],
   "source": [
    "np.mean(n1,axis=0)"
   ]
  },
  {
   "cell_type": "code",
   "execution_count": 10,
   "id": "586def3b-6120-4dd6-a831-921e5525ecd0",
   "metadata": {},
   "outputs": [
    {
     "data": {
      "text/plain": [
       "array([ 2.,  7., 12.])"
      ]
     },
     "execution_count": 10,
     "metadata": {},
     "output_type": "execute_result"
    }
   ],
   "source": [
    "np.mean(n1,axis=1)"
   ]
  },
  {
   "cell_type": "markdown",
   "id": "a76236a3-7951-43b0-9f4a-61158af444f7",
   "metadata": {},
   "source": [
    "random numbers in numpy"
   ]
  },
  {
   "cell_type": "code",
   "execution_count": 11,
   "id": "c399c0ce-9fba-499d-a03c-2cd7914929b2",
   "metadata": {},
   "outputs": [
    {
     "data": {
      "text/plain": [
       "3"
      ]
     },
     "execution_count": 11,
     "metadata": {},
     "output_type": "execute_result"
    }
   ],
   "source": [
    "np.random.randint(10)"
   ]
  },
  {
   "cell_type": "code",
   "execution_count": 12,
   "id": "7ddbdf0b-aa6f-4749-9c87-42aaff6438a9",
   "metadata": {},
   "outputs": [
    {
     "data": {
      "text/plain": [
       "9"
      ]
     },
     "execution_count": 12,
     "metadata": {},
     "output_type": "execute_result"
    }
   ],
   "source": [
    "np.random.randint(1,11)"
   ]
  },
  {
   "cell_type": "code",
   "execution_count": 13,
   "id": "86239a35-192f-4cf6-bbeb-01b257fb1216",
   "metadata": {},
   "outputs": [
    {
     "data": {
      "text/plain": [
       "array([6, 4])"
      ]
     },
     "execution_count": 13,
     "metadata": {},
     "output_type": "execute_result"
    }
   ],
   "source": [
    "np.random.randint(1,11,2)"
   ]
  },
  {
   "cell_type": "code",
   "execution_count": 14,
   "id": "9c657d31-47aa-4b68-a93a-c58753a88fa6",
   "metadata": {},
   "outputs": [],
   "source": [
    "np.random.seed(123)\n",
    "a=np.random.randint(1,11,size=1000)"
   ]
  },
  {
   "cell_type": "code",
   "execution_count": 15,
   "id": "4cb70d6d-bc23-4f8d-bdae-61661499b7ae",
   "metadata": {},
   "outputs": [
    {
     "data": {
      "text/plain": [
       "array([ 3,  3,  7,  2,  4, 10,  7,  2,  1,  2, 10,  1,  1, 10,  4,  5,  1,\n",
       "        1,  5,  2,  8,  4,  3,  5,  8,  3,  5,  9,  1,  8, 10,  4,  5,  7,\n",
       "        2,  6,  7,  3,  2,  9,  4,  6,  1,  3,  7,  3,  5,  5,  7,  4,  1,\n",
       "        7,  5,  8,  7,  8,  2,  6,  8, 10,  3,  5,  9,  2,  3,  2,  2,  4,\n",
       "        6, 10,  1,  9,  2,  7,  4,  4,  6, 10,  8, 10,  3,  4,  4,  4,  9,\n",
       "        7, 10,  8,  7,  4, 10,  7,  7,  7,  2,  4,  5,  4,  2,  1,  6,  9,\n",
       "        7,  9, 10,  2,  1,  4,  2,  4,  5,  8,  7,  2,  5,  4,  4,  8,  7,\n",
       "        9,  7,  5,  5,  8,  1,  1, 10,  9,  9,  5,  9,  7,  2,  7,  9,  8,\n",
       "       10,  2,  8,  2,  8, 10,  9,  8,  2,  4,  2,  9,  8,  6,  2,  3,  6,\n",
       "        3,  3, 10,  4,  3,  7,  8, 10,  2,  4,  9,  4,  8, 10, 10,  4,  4,\n",
       "        6,  7,  1,  9,  8,  8,  5,  5,  6,  1,  9, 10,  3,  6,  2,  6, 10,\n",
       "        3,  5,  4,  1,  4,  8,  8,  3,  6,  2,  8,  6, 10,  2,  3,  9,  6,\n",
       "        1, 10,  4,  4,  4,  2,  8,  7,  4,  2,  8,  3,  7,  6, 10,  9, 10,\n",
       "        5,  8,  9,  6, 10,  3,  5,  4,  4,  2,  8,  9,  6,  8,  8,  8,  6,\n",
       "        1,  1,  9,  2,  1,  5,  6,  5,  6,  1,  8,  2,  3,  3,  8,  8,  4,\n",
       "        7,  2,  9,  5,  2,  7,  6, 10,  1,  4,  2,  4,  8,  8,  8,  6,  4,\n",
       "        7,  4,  6,  2,  6, 10,  2,  4, 10,  2,  6,  7,  2,  6,  1,  8,  1,\n",
       "        4,  1,  7,  3,  8,  6,  2,  1,  1,  3,  7,  6, 10,  2,  6,  4,  7,\n",
       "        5,  8,  2,  7,  1,  4,  2,  4,  1,  9,  6,  2,  5,  4,  3,  3,  1,\n",
       "        3,  1,  3,  8, 10,  1,  4, 10,  8,  1,  6,  5,  7,  1,  8,  9,  9,\n",
       "        2,  1,  2,  8,  6,  4,  1,  5,  9,  5, 10,  4,  6,  2,  9,  1, 10,\n",
       "        2,  6,  9,  9,  5,  7,  9,  8, 10,  3,  1,  1, 10, 10,  6,  4,  6,\n",
       "        6,  3,  3,  8,  4,  2,  4, 10,  4,  7,  3,  4,  2, 10,  9,  1,  3,\n",
       "        4,  8, 10,  3,  8, 10,  8,  2,  5,  8,  5,  8,  9,  1,  3,  8,  5,\n",
       "        4,  8,  4,  8,  1,  8,  7,  9,  7,  9,  1,  6,  4,  3,  5,  4,  4,\n",
       "       10,  8,  2,  9,  1,  2,  5,  8,  3,  5,  9,  4,  5, 10,  7,  3,  8,\n",
       "        8,  8,  5,  8,  9,  5,  1,  8,  7,  4,  5,  2,  2,  8,  3,  8,  9,\n",
       "       10,  5,  5,  5,  8,  8, 10, 10,  5,  2,  6,  6,  9, 10,  6,  2,  1,\n",
       "        7,  1, 10,  5,  7,  5,  6,  4,  5,  7,  3,  6,  3,  5,  4,  3,  5,\n",
       "        9,  1,  7,  9,  9,  6,  7,  6,  7,  1,  5, 10,  1,  9,  1,  6,  7,\n",
       "        7,  9,  9,  5,  5,  1,  2, 10,  1,  8,  6,  5,  8,  3,  4,  6,  6,\n",
       "        5,  3,  7, 10,  8, 10,  5, 10,  7,  6,  8,  4, 10,  2,  4, 10,  4,\n",
       "        9,  4,  6,  7,  8,  7,  6,  8,  2,  2,  7,  7,  5, 10,  1, 10,  4,\n",
       "        9,  6,  4,  4,  9,  8,  1,  2,  8,  3,  4,  6,  6,  1,  3,  6,  9,\n",
       "       10,  8, 10,  8,  5,  6,  2,  9,  7,  9,  5,  3,  8,  2,  7,  3,  7,\n",
       "        6,  7,  1,  4,  3,  3, 10,  8,  6,  6,  1,  1, 10,  4,  8,  2,  9,\n",
       "        3,  6,  1,  2,  1,  8,  8,  6,  9,  2,  6,  7,  8,  1,  7,  5,  2,\n",
       "        5,  3,  3,  2,  1, 10,  2,  2,  7,  7,  4, 10,  7,  8,  8,  7,  2,\n",
       "       10,  4,  8,  3,  4,  9,  1,  4,  4, 10,  9,  7,  4,  8,  6,  9,  5,\n",
       "        9,  6,  2,  8,  3,  8,  9,  2,  8,  2,  9,  2, 10,  3,  4,  5,  3,\n",
       "        1,  8,  6, 10,  9,  6,  1,  6,  6,  2,  4,  9,  1,  9,  1,  1, 10,\n",
       "        3,  6,  2,  3,  4,  1,  7,  8,  4, 10,  8, 10,  5,  9,  1, 10,  8,\n",
       "        1,  1,  3,  5, 10,  2, 10,  6,  9,  6,  7,  9,  5,  9,  5,  2,  4,\n",
       "        3,  8,  1,  7,  3,  8,  4,  7,  5,  3,  7, 10, 10,  5,  8,  1,  4,\n",
       "        4,  2,  3,  2,  4,  1,  5,  8,  5,  5,  8,  7,  4,  4, 10,  7,  8,\n",
       "        5, 10,  2,  8,  5,  1,  2,  3,  4, 10,  1,  7,  9,  3,  5,  2, 10,\n",
       "        7,  1,  4,  6,  3, 10,  7,  8, 10,  6,  8,  6,  5,  5,  8,  9,  1,\n",
       "        3,  3,  1,  8,  2,  2,  1,  3,  8,  6, 10,  4,  4,  7,  6,  5,  9,\n",
       "       10,  7,  5,  9,  1,  7,  5, 10,  1,  1,  6,  9,  1,  9,  2,  7,  5,\n",
       "        8,  3,  6,  5,  7,  4,  1,  5, 10, 10,  1,  3,  8,  7,  1,  4,  7,\n",
       "        5,  2,  6,  4,  9, 10,  1,  9, 10,  8,  3,  5,  1,  9,  4,  3,  4,\n",
       "        7,  3,  9,  6,  5,  5,  1,  1,  4,  9,  6,  5,  2,  5,  3,  2,  5,\n",
       "        2,  9,  2,  2,  8,  3,  9, 10,  9,  4,  4,  5,  4,  4,  7,  2,  7,\n",
       "        3,  8,  8,  1,  6,  5,  7,  2,  2,  5,  1,  8,  7,  9,  8,  7,  9,\n",
       "        3,  7,  5,  1,  6,  9,  7,  5,  3,  5,  1,  1,  6, 10,  1, 10,  9,\n",
       "        7,  6,  6,  4,  9,  2,  9,  4,  8,  9,  6, 10,  2,  5, 10,  4,  5,\n",
       "        5,  5,  1,  1,  7,  9,  5,  9,  1,  2,  8,  7,  3,  7,  5,  3,  5,\n",
       "        8,  6,  9,  2,  4,  4, 10,  2,  6,  6,  3,  5,  7, 10,  1, 10,  6,\n",
       "        4,  2,  8,  7,  6,  7,  3,  9,  2,  3,  5,  8, 10,  6])"
      ]
     },
     "execution_count": 15,
     "metadata": {},
     "output_type": "execute_result"
    }
   ],
   "source": [
    "a"
   ]
  },
  {
   "cell_type": "code",
   "execution_count": 16,
   "id": "bcf182e1-0918-489e-900d-88028b219251",
   "metadata": {},
   "outputs": [
    {
     "data": {
      "text/plain": [
       "array([ 2,  7,  6,  4,  2,  6,  9,  9,  6,  6,  5, 10,  4,  4,  5,  2, 10,\n",
       "        6, 10,  8])"
      ]
     },
     "execution_count": 16,
     "metadata": {},
     "output_type": "execute_result"
    }
   ],
   "source": [
    "np.random.randint(123)\n",
    "a1=np.random.randint(1,11,size=20)\n",
    "a1"
   ]
  },
  {
   "cell_type": "code",
   "execution_count": 17,
   "id": "26ed1841-af59-4974-a759-cd5ec3ed2ff7",
   "metadata": {},
   "outputs": [
    {
     "data": {
      "text/plain": [
       "20"
      ]
     },
     "execution_count": 17,
     "metadata": {},
     "output_type": "execute_result"
    }
   ],
   "source": [
    "a1.size"
   ]
  },
  {
   "cell_type": "code",
   "execution_count": 18,
   "id": "07bccec3-4020-4b32-9a55-ba333bf436e2",
   "metadata": {},
   "outputs": [
    {
     "data": {
      "text/plain": [
       "array([ 1,  2,  3,  4,  5,  6,  7,  8,  9, 10])"
      ]
     },
     "execution_count": 18,
     "metadata": {},
     "output_type": "execute_result"
    }
   ],
   "source": [
    "np.unique(a)"
   ]
  },
  {
   "cell_type": "code",
   "execution_count": 19,
   "id": "f1087c94-2ecc-4c08-b639-6bd5c9a3b0e3",
   "metadata": {},
   "outputs": [
    {
     "data": {
      "text/plain": [
       "5.0"
      ]
     },
     "execution_count": 19,
     "metadata": {},
     "output_type": "execute_result"
    }
   ],
   "source": [
    "np.median(a)"
   ]
  },
  {
   "cell_type": "code",
   "execution_count": 20,
   "id": "b5526710-ebce-4d58-8c2a-92956df6fe76",
   "metadata": {},
   "outputs": [
    {
     "data": {
      "text/plain": [
       "5485"
      ]
     },
     "execution_count": 20,
     "metadata": {},
     "output_type": "execute_result"
    }
   ],
   "source": [
    "np.sum(a)"
   ]
  },
  {
   "cell_type": "code",
   "execution_count": 21,
   "id": "e651d164-33c9-46f7-9080-5e2af0e6d111",
   "metadata": {},
   "outputs": [
    {
     "data": {
      "text/plain": [
       "8.193775"
      ]
     },
     "execution_count": 21,
     "metadata": {},
     "output_type": "execute_result"
    }
   ],
   "source": [
    "np.var(a)"
   ]
  },
  {
   "cell_type": "code",
   "execution_count": 24,
   "id": "ae17d1ee-3d81-43b6-90f5-8e10198b004d",
   "metadata": {},
   "outputs": [
    {
     "data": {
      "text/plain": [
       "8.19"
      ]
     },
     "execution_count": 24,
     "metadata": {},
     "output_type": "execute_result"
    }
   ],
   "source": [
    "np.round(np.var(a),2)"
   ]
  },
  {
   "cell_type": "code",
   "execution_count": 25,
   "id": "4f883f40-f17e-41de-8f38-07df2ab3ae8c",
   "metadata": {},
   "outputs": [
    {
     "data": {
      "text/plain": [
       "2.862477074144001"
      ]
     },
     "execution_count": 25,
     "metadata": {},
     "output_type": "execute_result"
    }
   ],
   "source": [
    "np.std(a)"
   ]
  },
  {
   "cell_type": "code",
   "execution_count": 26,
   "id": "bafaa112-466e-47dd-bbd9-2fb65b5784b2",
   "metadata": {},
   "outputs": [
    {
     "data": {
      "text/plain": [
       "2.862"
      ]
     },
     "execution_count": 26,
     "metadata": {},
     "output_type": "execute_result"
    }
   ],
   "source": [
    "np.round(np.std(a),3)"
   ]
  },
  {
   "cell_type": "code",
   "execution_count": 27,
   "id": "78f82d47-9dcf-480d-8204-8738aae76ff8",
   "metadata": {},
   "outputs": [
    {
     "data": {
      "text/plain": [
       "10"
      ]
     },
     "execution_count": 27,
     "metadata": {},
     "output_type": "execute_result"
    }
   ],
   "source": [
    "a.max()"
   ]
  },
  {
   "cell_type": "code",
   "execution_count": 28,
   "id": "064d182e-2348-44e1-abff-919639bee059",
   "metadata": {},
   "outputs": [
    {
     "data": {
      "text/plain": [
       "1"
      ]
     },
     "execution_count": 28,
     "metadata": {},
     "output_type": "execute_result"
    }
   ],
   "source": [
    "a.min()"
   ]
  },
  {
   "cell_type": "code",
   "execution_count": 34,
   "id": "3be117db-bee2-4a5c-bc20-03830767aa7a",
   "metadata": {},
   "outputs": [],
   "source": [
    " c=np.arange(-10,10)"
   ]
  },
  {
   "cell_type": "code",
   "execution_count": 35,
   "id": "944c4c6b-397b-4814-a1f0-02272b4e4ce6",
   "metadata": {},
   "outputs": [
    {
     "data": {
      "text/plain": [
       "array([-10,  -9,  -8,  -7,  -6,  -5,  -4,  -3,  -2,  -1,   0,   1,   2,\n",
       "         3,   4,   5,   6,   7,   8,   9])"
      ]
     },
     "execution_count": 35,
     "metadata": {},
     "output_type": "execute_result"
    }
   ],
   "source": [
    "c"
   ]
  },
  {
   "cell_type": "code",
   "execution_count": 40,
   "id": "59de61cf-b695-4cf2-8d90-9a0b39908fd3",
   "metadata": {},
   "outputs": [
    {
     "data": {
      "text/plain": [
       "19"
      ]
     },
     "execution_count": 40,
     "metadata": {},
     "output_type": "execute_result"
    }
   ],
   "source": [
    "c.argmax() #returns location"
   ]
  },
  {
   "cell_type": "code",
   "execution_count": 41,
   "id": "e2760c75-1f98-44e2-8c64-9070fd5cb70d",
   "metadata": {},
   "outputs": [
    {
     "data": {
      "text/plain": [
       "0"
      ]
     },
     "execution_count": 41,
     "metadata": {},
     "output_type": "execute_result"
    }
   ],
   "source": [
    "c.argmin() #returns location"
   ]
  },
  {
   "cell_type": "markdown",
   "id": "06be1c25-1dbf-4832-baff-37c820525ae1",
   "metadata": {},
   "source": [
    "working on matrices"
   ]
  },
  {
   "cell_type": "code",
   "execution_count": 47,
   "id": "0ccd7854-af0d-482c-93b1-dd750f1f5d7c",
   "metadata": {},
   "outputs": [],
   "source": [
    "g=np.array([[1,2],[4,5]])"
   ]
  },
  {
   "cell_type": "code",
   "execution_count": 51,
   "id": "da93cb99-09c0-4beb-b1cb-9e7a208e8d11",
   "metadata": {},
   "outputs": [
    {
     "data": {
      "text/plain": [
       "array([[1, 2],\n",
       "       [4, 5]])"
      ]
     },
     "execution_count": 51,
     "metadata": {},
     "output_type": "execute_result"
    }
   ],
   "source": [
    "g"
   ]
  },
  {
   "cell_type": "code",
   "execution_count": 52,
   "id": "e7121dbb-3d7a-4fd4-90fd-2a99b687f762",
   "metadata": {},
   "outputs": [],
   "source": [
    "h=np.array([[1,2],[4,5]])"
   ]
  },
  {
   "cell_type": "code",
   "execution_count": 53,
   "id": "4f4dca74-7691-43df-9619-7c26204a4c43",
   "metadata": {},
   "outputs": [
    {
     "data": {
      "text/plain": [
       "array([[1, 2],\n",
       "       [4, 5]])"
      ]
     },
     "execution_count": 53,
     "metadata": {},
     "output_type": "execute_result"
    }
   ],
   "source": [
    "h"
   ]
  },
  {
   "cell_type": "code",
   "execution_count": 54,
   "id": "7b29b608-bd1f-4dc7-895f-7855101bd2de",
   "metadata": {},
   "outputs": [
    {
     "data": {
      "text/plain": [
       "array([[ 1,  4],\n",
       "       [16, 25]])"
      ]
     },
     "execution_count": 54,
     "metadata": {},
     "output_type": "execute_result"
    }
   ],
   "source": [
    "g*h"
   ]
  },
  {
   "cell_type": "code",
   "execution_count": 56,
   "id": "a494c054-357c-458c-a5e1-5130f397dfc4",
   "metadata": {},
   "outputs": [
    {
     "data": {
      "text/plain": [
       "array([[ 9, 12],\n",
       "       [24, 33]])"
      ]
     },
     "execution_count": 56,
     "metadata": {},
     "output_type": "execute_result"
    }
   ],
   "source": [
    "np.dot(g,h)"
   ]
  },
  {
   "cell_type": "code",
   "execution_count": 58,
   "id": "22197e81-cf0b-4bca-8a0a-65b6d6fa8038",
   "metadata": {},
   "outputs": [
    {
     "data": {
      "text/plain": [
       "array([[ 9, 12],\n",
       "       [24, 33]])"
      ]
     },
     "execution_count": 58,
     "metadata": {},
     "output_type": "execute_result"
    }
   ],
   "source": [
    "g.dot(h)"
   ]
  },
  {
   "cell_type": "code",
   "execution_count": 59,
   "id": "eb5330bd-17af-40da-9100-95657c894692",
   "metadata": {},
   "outputs": [
    {
     "data": {
      "text/plain": [
       "array([[1, 4],\n",
       "       [2, 5]])"
      ]
     },
     "execution_count": 59,
     "metadata": {},
     "output_type": "execute_result"
    }
   ],
   "source": [
    "np.transpose(g)"
   ]
  },
  {
   "cell_type": "code",
   "execution_count": 60,
   "id": "17ce24be-6815-4a75-8419-1ad79afde288",
   "metadata": {},
   "outputs": [
    {
     "data": {
      "text/plain": [
       "array([[1, 4],\n",
       "       [2, 5]])"
      ]
     },
     "execution_count": 60,
     "metadata": {},
     "output_type": "execute_result"
    }
   ],
   "source": [
    "np.transpose(h)"
   ]
  },
  {
   "cell_type": "code",
   "execution_count": 61,
   "id": "fdff3b3f-6dce-49c8-b4e7-27ab50952124",
   "metadata": {},
   "outputs": [
    {
     "data": {
      "text/plain": [
       "array([[1, 4],\n",
       "       [2, 5]])"
      ]
     },
     "execution_count": 61,
     "metadata": {},
     "output_type": "execute_result"
    }
   ],
   "source": [
    "g.transpose()"
   ]
  },
  {
   "cell_type": "code",
   "execution_count": 62,
   "id": "854ea0ef-88f1-4013-9a8f-71e7c1aa241d",
   "metadata": {},
   "outputs": [
    {
     "data": {
      "text/plain": [
       "array([[1, 4],\n",
       "       [2, 5]])"
      ]
     },
     "execution_count": 62,
     "metadata": {},
     "output_type": "execute_result"
    }
   ],
   "source": [
    "g.T"
   ]
  },
  {
   "cell_type": "code",
   "execution_count": 64,
   "id": "2fe2bd23-a530-4c86-bc4d-05e7c293b13e",
   "metadata": {},
   "outputs": [
    {
     "data": {
      "text/plain": [
       "array([[-1.66666667,  0.66666667],\n",
       "       [ 1.33333333, -0.33333333]])"
      ]
     },
     "execution_count": 64,
     "metadata": {},
     "output_type": "execute_result"
    }
   ],
   "source": [
    "np.linalg.inv(g)"
   ]
  },
  {
   "cell_type": "code",
   "execution_count": 65,
   "id": "16742f0a-caf6-4d30-82ce-8debcbd12c45",
   "metadata": {},
   "outputs": [
    {
     "data": {
      "text/plain": [
       "array([[-1.66666667,  0.66666667],\n",
       "       [ 1.33333333, -0.33333333]])"
      ]
     },
     "execution_count": 65,
     "metadata": {},
     "output_type": "execute_result"
    }
   ],
   "source": [
    "np.linalg.inv(h)"
   ]
  },
  {
   "cell_type": "code",
   "execution_count": 66,
   "id": "99cdb01d-a140-42fe-a809-f4baccf9bfd9",
   "metadata": {},
   "outputs": [
    {
     "data": {
      "text/plain": [
       "-2.9999999999999996"
      ]
     },
     "execution_count": 66,
     "metadata": {},
     "output_type": "execute_result"
    }
   ],
   "source": [
    "np.linalg.det(g)"
   ]
  },
  {
   "cell_type": "code",
   "execution_count": 67,
   "id": "37e8d813-8984-4d40-9403-ab8e3bf1244b",
   "metadata": {},
   "outputs": [
    {
     "data": {
      "text/plain": [
       "-2.9999999999999996"
      ]
     },
     "execution_count": 67,
     "metadata": {},
     "output_type": "execute_result"
    }
   ],
   "source": [
    "np.linalg.det(h)"
   ]
  },
  {
   "cell_type": "code",
   "execution_count": 68,
   "id": "da532ef3-34bd-4ec0-b3f3-57f6ce2a03aa",
   "metadata": {},
   "outputs": [],
   "source": [
    "A=np.array([[0,2],[1,3]])"
   ]
  },
  {
   "cell_type": "code",
   "execution_count": 69,
   "id": "8f00f66c-e9fb-43c5-b28c-3c5dd7664263",
   "metadata": {},
   "outputs": [
    {
     "data": {
      "text/plain": [
       "-2.0"
      ]
     },
     "execution_count": 69,
     "metadata": {},
     "output_type": "execute_result"
    }
   ],
   "source": [
    "np.linalg.det(A)"
   ]
  },
  {
   "cell_type": "markdown",
   "id": "f403eab5-3ef9-4b84-be7c-3fbac9b707bf",
   "metadata": {},
   "source": [
    "numpy indexing and slicing"
   ]
  },
  {
   "cell_type": "code",
   "execution_count": 70,
   "id": "210b561c-d9b9-4041-9e53-f38e17c52450",
   "metadata": {},
   "outputs": [],
   "source": [
    "import numpy as numpy"
   ]
  },
  {
   "cell_type": "code",
   "execution_count": 71,
   "id": "28bd08b3-49ca-46b2-b408-a0576d8e94a3",
   "metadata": {},
   "outputs": [],
   "source": [
    "a=np.array([0,1,2,3])"
   ]
  },
  {
   "cell_type": "code",
   "execution_count": 89,
   "id": "e59c55f6-cc4e-4e4a-91e4-199609c465b5",
   "metadata": {},
   "outputs": [],
   "source": [
    "b=np.array([[0,1,2,3],\n",
    "    [4,5,6,7],\n",
    "    [8,9,10,11]])"
   ]
  },
  {
   "cell_type": "code",
   "execution_count": 90,
   "id": "ae6d9a56-7cc6-4490-a059-038c0c38757d",
   "metadata": {},
   "outputs": [
    {
     "data": {
      "text/plain": [
       "0"
      ]
     },
     "execution_count": 90,
     "metadata": {},
     "output_type": "execute_result"
    }
   ],
   "source": [
    "a[0]"
   ]
  },
  {
   "cell_type": "code",
   "execution_count": 91,
   "id": "e3843c0c-2a04-44c9-97b9-9943a30b6dca",
   "metadata": {},
   "outputs": [
    {
     "data": {
      "text/plain": [
       "array([0, 1, 2, 3])"
      ]
     },
     "execution_count": 91,
     "metadata": {},
     "output_type": "execute_result"
    }
   ],
   "source": [
    "b[0]"
   ]
  },
  {
   "cell_type": "code",
   "execution_count": 92,
   "id": "335d2491-b302-4ab2-ab4e-672e27099b66",
   "metadata": {},
   "outputs": [
    {
     "data": {
      "text/plain": [
       "1"
      ]
     },
     "execution_count": 92,
     "metadata": {},
     "output_type": "execute_result"
    }
   ],
   "source": [
    "b[0][1]"
   ]
  },
  {
   "cell_type": "code",
   "execution_count": 93,
   "id": "3995d023-21fd-4685-8dde-e1e04eff2a05",
   "metadata": {},
   "outputs": [
    {
     "data": {
      "text/plain": [
       "50"
      ]
     },
     "execution_count": 93,
     "metadata": {},
     "output_type": "execute_result"
    }
   ],
   "source": [
    "a1=np.array([0,10,20,30,40,50])\n",
    "a1[5]"
   ]
  },
  {
   "cell_type": "code",
   "execution_count": 94,
   "id": "683d1bac-84ff-48d8-a460-d8cb506e4bf1",
   "metadata": {},
   "outputs": [],
   "source": [
    "a1[5]=70"
   ]
  },
  {
   "cell_type": "code",
   "execution_count": 95,
   "id": "467ed8bf-107b-408b-8f41-754efc888573",
   "metadata": {},
   "outputs": [
    {
     "data": {
      "text/plain": [
       "array([ 0, 10, 20, 30, 40, 70])"
      ]
     },
     "execution_count": 95,
     "metadata": {},
     "output_type": "execute_result"
    }
   ],
   "source": [
    "a1"
   ]
  },
  {
   "cell_type": "code",
   "execution_count": 99,
   "id": "63b8fad8-ba57-4061-8f50-4f6bf1f2167f",
   "metadata": {},
   "outputs": [],
   "source": [
    "b=np.array([[0,1,2,3],\n",
    "    [4,5,6,7],\n",
    "    [8,9,10,11]])"
   ]
  },
  {
   "cell_type": "code",
   "execution_count": 100,
   "id": "36541b79-7a42-4911-b197-2102c7dfec42",
   "metadata": {},
   "outputs": [],
   "source": [
    "b[0]=[9,8,7,6]"
   ]
  },
  {
   "cell_type": "code",
   "execution_count": 101,
   "id": "067aeb70-9c07-4a37-b78d-93149495b66a",
   "metadata": {},
   "outputs": [
    {
     "data": {
      "text/plain": [
       "array([[ 9,  8,  7,  6],\n",
       "       [ 4,  5,  6,  7],\n",
       "       [ 8,  9, 10, 11]])"
      ]
     },
     "execution_count": 101,
     "metadata": {},
     "output_type": "execute_result"
    }
   ],
   "source": [
    "b"
   ]
  },
  {
   "cell_type": "code",
   "execution_count": 102,
   "id": "5032c439-468b-4c9d-940c-d0944c1370bc",
   "metadata": {},
   "outputs": [],
   "source": [
    "b[0][1]=78"
   ]
  },
  {
   "cell_type": "code",
   "execution_count": 103,
   "id": "6c1f0be3-410c-4802-9047-1280593314c8",
   "metadata": {},
   "outputs": [
    {
     "data": {
      "text/plain": [
       "array([[ 9, 78,  7,  6],\n",
       "       [ 4,  5,  6,  7],\n",
       "       [ 8,  9, 10, 11]])"
      ]
     },
     "execution_count": 103,
     "metadata": {},
     "output_type": "execute_result"
    }
   ],
   "source": [
    "b"
   ]
  },
  {
   "cell_type": "code",
   "execution_count": 105,
   "id": "ac538269-ee9c-4520-b908-09ee88d260d3",
   "metadata": {},
   "outputs": [
    {
     "data": {
      "text/plain": [
       "0"
      ]
     },
     "execution_count": 105,
     "metadata": {},
     "output_type": "execute_result"
    }
   ],
   "source": [
    "a[0]"
   ]
  },
  {
   "cell_type": "code",
   "execution_count": 111,
   "id": "1a270c93-582f-46a0-a2d7-cfeef205d9b6",
   "metadata": {},
   "outputs": [
    {
     "data": {
      "text/plain": [
       "array([10, 30, 40])"
      ]
     },
     "execution_count": 111,
     "metadata": {},
     "output_type": "execute_result"
    }
   ],
   "source": [
    "a1=np.array([0,10,20,30,40,50])\n",
    "a1[[1,3,4]]"
   ]
  },
  {
   "cell_type": "code",
   "execution_count": 112,
   "id": "12644ccb-1b00-4b84-8f49-3228aa5cb4cc",
   "metadata": {},
   "outputs": [],
   "source": [
    "a2=np.arange(10,100,10).reshape(3,3)"
   ]
  },
  {
   "cell_type": "code",
   "execution_count": 113,
   "id": "f927cbd7-f71d-4623-9a35-2645c29a5528",
   "metadata": {},
   "outputs": [
    {
     "data": {
      "text/plain": [
       "array([[10, 20, 30],\n",
       "       [40, 50, 60],\n",
       "       [70, 80, 90]])"
      ]
     },
     "execution_count": 113,
     "metadata": {},
     "output_type": "execute_result"
    }
   ],
   "source": [
    "a2"
   ]
  },
  {
   "cell_type": "code",
   "execution_count": 114,
   "id": "d2c3fd22-b1d8-43f7-bb5c-9f4d22a39419",
   "metadata": {},
   "outputs": [],
   "source": [
    "a2[2,2]=95"
   ]
  },
  {
   "cell_type": "code",
   "execution_count": 115,
   "id": "107b08e6-f1fa-4e6c-8214-c260d80cabe4",
   "metadata": {},
   "outputs": [
    {
     "data": {
      "text/plain": [
       "array([[10, 20, 30],\n",
       "       [40, 50, 60],\n",
       "       [70, 80, 95]])"
      ]
     },
     "execution_count": 115,
     "metadata": {},
     "output_type": "execute_result"
    }
   ],
   "source": [
    "a2"
   ]
  },
  {
   "cell_type": "code",
   "execution_count": 117,
   "id": "9d063d3b-b41e-4edc-99e5-f175e75cf6f9",
   "metadata": {},
   "outputs": [
    {
     "data": {
      "text/plain": [
       "30"
      ]
     },
     "execution_count": 117,
     "metadata": {},
     "output_type": "execute_result"
    }
   ],
   "source": [
    "a2[0,2]"
   ]
  },
  {
   "cell_type": "code",
   "execution_count": 120,
   "id": "c443913b-d1bb-44b6-98e2-d8054fb8e3ad",
   "metadata": {},
   "outputs": [],
   "source": [
    "a2[2]=np.array([45,55,65])"
   ]
  },
  {
   "cell_type": "code",
   "execution_count": 121,
   "id": "cbd7a394-32ca-4f83-9f88-b115da4e45ce",
   "metadata": {},
   "outputs": [
    {
     "data": {
      "text/plain": [
       "array([[10, 20, 30],\n",
       "       [40, 50, 60],\n",
       "       [45, 55, 65]])"
      ]
     },
     "execution_count": 121,
     "metadata": {},
     "output_type": "execute_result"
    }
   ],
   "source": [
    "a2 "
   ]
  },
  {
   "cell_type": "code",
   "execution_count": 122,
   "id": "fdb3f48e-0d98-4152-b373-07bb5ef65b88",
   "metadata": {},
   "outputs": [
    {
     "data": {
      "text/plain": [
       "array([10, 55])"
      ]
     },
     "execution_count": 122,
     "metadata": {},
     "output_type": "execute_result"
    }
   ],
   "source": [
    "a2[[0,2],[0,1]]"
   ]
  },
  {
   "cell_type": "code",
   "execution_count": 124,
   "id": "644bb652-930c-4d92-8270-2be94efd0c25",
   "metadata": {},
   "outputs": [],
   "source": [
    "a=np.array([1,2,3,4,5,6])"
   ]
  },
  {
   "cell_type": "code",
   "execution_count": 125,
   "id": "7ab7229b-761f-4c76-b1cb-16c8da0f758f",
   "metadata": {},
   "outputs": [
    {
     "data": {
      "text/plain": [
       "array([4, 5, 6])"
      ]
     },
     "execution_count": 125,
     "metadata": {},
     "output_type": "execute_result"
    }
   ],
   "source": [
    "a[a>3]"
   ]
  },
  {
   "cell_type": "code",
   "execution_count": 126,
   "id": "bdb8d64a-f41b-4d13-bc10-e750faed242e",
   "metadata": {},
   "outputs": [
    {
     "data": {
      "text/plain": [
       "array([2, 4, 6])"
      ]
     },
     "execution_count": 126,
     "metadata": {},
     "output_type": "execute_result"
    }
   ],
   "source": [
    "a[a%2==0]"
   ]
  },
  {
   "cell_type": "markdown",
   "id": "09d33994-e62b-4878-a2a4-18fb91b7dda8",
   "metadata": {},
   "source": [
    "array slicing"
   ]
  },
  {
   "cell_type": "code",
   "execution_count": 127,
   "id": "1dd1030b-7b63-4303-b20c-f897434fb8a9",
   "metadata": {},
   "outputs": [],
   "source": [
    "b1=np.array([0,10,20,30,40,50])"
   ]
  },
  {
   "cell_type": "code",
   "execution_count": 128,
   "id": "14ff927d-bb8a-42ab-8493-c1d3645291ce",
   "metadata": {},
   "outputs": [
    {
     "data": {
      "text/plain": [
       "array([10, 20, 30])"
      ]
     },
     "execution_count": 128,
     "metadata": {},
     "output_type": "execute_result"
    }
   ],
   "source": [
    "b1[1:4]"
   ]
  },
  {
   "cell_type": "code",
   "execution_count": 129,
   "id": "68f2441e-9a28-4bc4-9b94-2a6b89bed002",
   "metadata": {},
   "outputs": [
    {
     "data": {
      "text/plain": [
       "array([20, 30, 40])"
      ]
     },
     "execution_count": 129,
     "metadata": {},
     "output_type": "execute_result"
    }
   ],
   "source": [
    "b1[2:5]"
   ]
  },
  {
   "cell_type": "code",
   "execution_count": 130,
   "id": "47dbfeee-fddb-4d04-9b8a-7960c8a752ef",
   "metadata": {},
   "outputs": [
    {
     "data": {
      "text/plain": [
       "array([ 0, 10, 20])"
      ]
     },
     "execution_count": 130,
     "metadata": {},
     "output_type": "execute_result"
    }
   ],
   "source": [
    "b1[ :3]"
   ]
  },
  {
   "cell_type": "code",
   "execution_count": 131,
   "id": "d0c3971d-bf56-4c24-bc1e-427d468ca3f9",
   "metadata": {},
   "outputs": [
    {
     "data": {
      "text/plain": [
       "array([20, 30, 40, 50])"
      ]
     },
     "execution_count": 131,
     "metadata": {},
     "output_type": "execute_result"
    }
   ],
   "source": [
    "b1[2:]"
   ]
  },
  {
   "cell_type": "code",
   "execution_count": 132,
   "id": "c6d07d8c-4060-45f8-a208-aea79e666358",
   "metadata": {},
   "outputs": [],
   "source": [
    "arr2d=np.arange(1,10).reshape(3,3)"
   ]
  },
  {
   "cell_type": "code",
   "execution_count": 133,
   "id": "e5f5624a-23a9-4314-aaa5-c55c66eaf358",
   "metadata": {},
   "outputs": [
    {
     "data": {
      "text/plain": [
       "array([[1, 2, 3],\n",
       "       [4, 5, 6],\n",
       "       [7, 8, 9]])"
      ]
     },
     "execution_count": 133,
     "metadata": {},
     "output_type": "execute_result"
    }
   ],
   "source": [
    "arr2d"
   ]
  },
  {
   "cell_type": "code",
   "execution_count": 134,
   "id": "aea8a681-d0a0-460c-8bc1-5f988c744e36",
   "metadata": {},
   "outputs": [
    {
     "data": {
      "text/plain": [
       "array([[1, 2, 3],\n",
       "       [4, 5, 6]])"
      ]
     },
     "execution_count": 134,
     "metadata": {},
     "output_type": "execute_result"
    }
   ],
   "source": [
    "arr2d[:2]"
   ]
  },
  {
   "cell_type": "code",
   "execution_count": 135,
   "id": "f52e5aaf-bd66-4e81-a519-7b4849bcf142",
   "metadata": {},
   "outputs": [
    {
     "data": {
      "text/plain": [
       "array([[7, 8, 9]])"
      ]
     },
     "execution_count": 135,
     "metadata": {},
     "output_type": "execute_result"
    }
   ],
   "source": [
    "arr2d[2:]"
   ]
  },
  {
   "cell_type": "code",
   "execution_count": 136,
   "id": "197e3791-750d-4b3f-b147-eb8288c564ff",
   "metadata": {},
   "outputs": [
    {
     "data": {
      "text/plain": [
       "array([[4, 5, 6]])"
      ]
     },
     "execution_count": 136,
     "metadata": {},
     "output_type": "execute_result"
    }
   ],
   "source": [
    "arr2d[1:2]"
   ]
  },
  {
   "cell_type": "code",
   "execution_count": 137,
   "id": "d355a238-f4e6-4eff-b3a9-5d97c8b7775b",
   "metadata": {},
   "outputs": [
    {
     "data": {
      "text/plain": [
       "array([[2, 3],\n",
       "       [5, 6]])"
      ]
     },
     "execution_count": 137,
     "metadata": {},
     "output_type": "execute_result"
    }
   ],
   "source": [
    "arr2d[:2,1:]"
   ]
  },
  {
   "cell_type": "code",
   "execution_count": 138,
   "id": "79ef43fe-b43f-4380-a601-931aa818d38d",
   "metadata": {},
   "outputs": [
    {
     "data": {
      "text/plain": [
       "array([[3],\n",
       "       [6]])"
      ]
     },
     "execution_count": 138,
     "metadata": {},
     "output_type": "execute_result"
    }
   ],
   "source": [
    "arr2d[:2,2:]"
   ]
  },
  {
   "cell_type": "code",
   "execution_count": 139,
   "id": "be30ff5d-4cd0-40e3-be94-d1ea22e15ef9",
   "metadata": {},
   "outputs": [
    {
     "data": {
      "text/plain": [
       "array([[3]])"
      ]
     },
     "execution_count": 139,
     "metadata": {},
     "output_type": "execute_result"
    }
   ],
   "source": [
    "arr2d[:1,2:]"
   ]
  },
  {
   "cell_type": "code",
   "execution_count": 142,
   "id": "bf3b3498-ca6b-4dcc-96a1-7deac982fd3c",
   "metadata": {},
   "outputs": [
    {
     "data": {
      "text/plain": [
       "array([4, 5])"
      ]
     },
     "execution_count": 142,
     "metadata": {},
     "output_type": "execute_result"
    }
   ],
   "source": [
    "arr2d[1,:2]"
   ]
  },
  {
   "cell_type": "code",
   "execution_count": 143,
   "id": "e1af0a67-8787-46f7-bc42-afb46d5074ca",
   "metadata": {},
   "outputs": [
    {
     "data": {
      "text/plain": [
       "array([5, 6])"
      ]
     },
     "execution_count": 143,
     "metadata": {},
     "output_type": "execute_result"
    }
   ],
   "source": [
    "arr2d[1,1:3]"
   ]
  },
  {
   "cell_type": "code",
   "execution_count": 144,
   "id": "841fdf6f-57e8-4e56-9252-c4ac2e73ea2d",
   "metadata": {},
   "outputs": [
    {
     "data": {
      "text/plain": [
       "array([5, 6])"
      ]
     },
     "execution_count": 144,
     "metadata": {},
     "output_type": "execute_result"
    }
   ],
   "source": [
    "arr2d[1,1:]"
   ]
  },
  {
   "cell_type": "code",
   "execution_count": 150,
   "id": "12cc901c-7e4e-4165-8f99-35a48561b76b",
   "metadata": {},
   "outputs": [
    {
     "data": {
      "text/plain": [
       "array([[5, 6],\n",
       "       [8, 9]])"
      ]
     },
     "execution_count": 150,
     "metadata": {},
     "output_type": "execute_result"
    }
   ],
   "source": [
    "arr2d[1:3,1:3]"
   ]
  },
  {
   "cell_type": "code",
   "execution_count": 151,
   "id": "b0a81a10-5449-42ff-831f-52979899c793",
   "metadata": {},
   "outputs": [
    {
     "data": {
      "text/plain": [
       "array([[1, 2],\n",
       "       [4, 5]])"
      ]
     },
     "execution_count": 151,
     "metadata": {},
     "output_type": "execute_result"
    }
   ],
   "source": [
    "arr2d[:2,:2]"
   ]
  },
  {
   "cell_type": "code",
   "execution_count": 152,
   "id": "c9d05ab3-be76-42fb-9c2a-930c9e37418e",
   "metadata": {},
   "outputs": [
    {
     "data": {
      "text/plain": [
       "array([3, 6])"
      ]
     },
     "execution_count": 152,
     "metadata": {},
     "output_type": "execute_result"
    }
   ],
   "source": [
    "arr2d[:2,2]"
   ]
  },
  {
   "cell_type": "code",
   "execution_count": 154,
   "id": "74afd123-395f-4db4-956f-aae31f6d3d18",
   "metadata": {},
   "outputs": [
    {
     "data": {
      "text/plain": [
       "array([[1],\n",
       "       [4],\n",
       "       [7]])"
      ]
     },
     "execution_count": 154,
     "metadata": {},
     "output_type": "execute_result"
    }
   ],
   "source": [
    "arr2d[:,:1]"
   ]
  },
  {
   "cell_type": "code",
   "execution_count": 159,
   "id": "777d806c-57ff-492e-b1d7-0b551ccfc54c",
   "metadata": {},
   "outputs": [
    {
     "data": {
      "text/plain": [
       "array([[3],\n",
       "       [6],\n",
       "       [9]])"
      ]
     },
     "execution_count": 159,
     "metadata": {},
     "output_type": "execute_result"
    }
   ],
   "source": [
    "arr2d[:,2:3]"
   ]
  },
  {
   "cell_type": "code",
   "execution_count": 160,
   "id": "ae6831ce-dc39-4fe7-9f2a-b674d85ba4f7",
   "metadata": {},
   "outputs": [
    {
     "data": {
      "text/plain": [
       "array([[2],\n",
       "       [5],\n",
       "       [8]])"
      ]
     },
     "execution_count": 160,
     "metadata": {},
     "output_type": "execute_result"
    }
   ],
   "source": [
    "arr2d[:,1:2]"
   ]
  },
  {
   "cell_type": "code",
   "execution_count": 161,
   "id": "03fb5971-cfe0-4d1a-9f46-b944a5c7eafe",
   "metadata": {},
   "outputs": [
    {
     "data": {
      "text/plain": [
       "array([[2, 3],\n",
       "       [5, 6]])"
      ]
     },
     "execution_count": 161,
     "metadata": {},
     "output_type": "execute_result"
    }
   ],
   "source": [
    "arr2d[:2,1:]"
   ]
  },
  {
   "cell_type": "code",
   "execution_count": 162,
   "id": "d663910f-5553-44dd-8432-e4e50117d389",
   "metadata": {},
   "outputs": [
    {
     "data": {
      "text/plain": [
       "array([7, 8, 9])"
      ]
     },
     "execution_count": 162,
     "metadata": {},
     "output_type": "execute_result"
    }
   ],
   "source": [
    "arr2d[2]"
   ]
  },
  {
   "cell_type": "code",
   "execution_count": 163,
   "id": "249355db-10c4-40c3-9533-024d63295080",
   "metadata": {},
   "outputs": [
    {
     "data": {
      "text/plain": [
       "array([7, 8, 9])"
      ]
     },
     "execution_count": 163,
     "metadata": {},
     "output_type": "execute_result"
    }
   ],
   "source": [
    "arr2d[2,:]"
   ]
  },
  {
   "cell_type": "code",
   "execution_count": 164,
   "id": "d062790c-e946-4db8-bfb2-b1e8c701521c",
   "metadata": {},
   "outputs": [
    {
     "data": {
      "text/plain": [
       "array([[7, 8, 9]])"
      ]
     },
     "execution_count": 164,
     "metadata": {},
     "output_type": "execute_result"
    }
   ],
   "source": [
    "arr2d[2:,:]"
   ]
  },
  {
   "cell_type": "code",
   "execution_count": 165,
   "id": "359bb293-29e3-402c-8795-fdc0e27d5971",
   "metadata": {},
   "outputs": [
    {
     "data": {
      "text/plain": [
       "array([[1, 2],\n",
       "       [4, 5],\n",
       "       [7, 8]])"
      ]
     },
     "execution_count": 165,
     "metadata": {},
     "output_type": "execute_result"
    }
   ],
   "source": [
    "arr2d[:,:2]"
   ]
  },
  {
   "cell_type": "code",
   "execution_count": 166,
   "id": "c28c4f7f-42ec-449a-9218-5c955839a2bb",
   "metadata": {},
   "outputs": [
    {
     "data": {
      "text/plain": [
       "array([6])"
      ]
     },
     "execution_count": 166,
     "metadata": {},
     "output_type": "execute_result"
    }
   ],
   "source": [
    "arr2d[1,2:]"
   ]
  },
  {
   "cell_type": "code",
   "execution_count": 167,
   "id": "e51eaf93-17ee-4966-9a56-cc81dab737b0",
   "metadata": {},
   "outputs": [
    {
     "data": {
      "text/plain": [
       "array([[4, 5]])"
      ]
     },
     "execution_count": 167,
     "metadata": {},
     "output_type": "execute_result"
    }
   ],
   "source": [
    "arr2d[1:2,:2]"
   ]
  },
  {
   "cell_type": "markdown",
   "id": "803cb56f-59af-48fd-b379-e94aab6386f5",
   "metadata": {},
   "source": [
    "selecting in boolean values"
   ]
  },
  {
   "cell_type": "code",
   "execution_count": 3,
   "id": "55247de6-63f3-4ae0-aa80-092d2035a924",
   "metadata": {},
   "outputs": [],
   "source": [
    "import numpy as np"
   ]
  },
  {
   "cell_type": "code",
   "execution_count": 4,
   "id": "6c4e5d63-ec1a-4521-ae2c-9a9dc59fb4af",
   "metadata": {},
   "outputs": [],
   "source": [
    "names=np.array(['bob','joe','tom','bob','tom','joe','joe'])"
   ]
  },
  {
   "cell_type": "code",
   "execution_count": 5,
   "id": "c434024b-e423-422a-b45d-78ef637177d0",
   "metadata": {},
   "outputs": [
    {
     "data": {
      "text/plain": [
       "array(['bob', 'joe', 'tom', 'bob', 'tom', 'joe', 'joe'], dtype='<U3')"
      ]
     },
     "execution_count": 5,
     "metadata": {},
     "output_type": "execute_result"
    }
   ],
   "source": [
    "names"
   ]
  },
  {
   "cell_type": "code",
   "execution_count": 6,
   "id": "469daaac-2879-43fb-9108-c18561d5feef",
   "metadata": {},
   "outputs": [
    {
     "data": {
      "text/plain": [
       "array([ True, False, False,  True, False, False, False])"
      ]
     },
     "execution_count": 6,
     "metadata": {},
     "output_type": "execute_result"
    }
   ],
   "source": [
    "names=='bob'"
   ]
  },
  {
   "cell_type": "code",
   "execution_count": 8,
   "id": "6a06681b-da2d-44b0-a515-69f078310f46",
   "metadata": {},
   "outputs": [
    {
     "data": {
      "text/plain": [
       "array(['bob', 'bob'], dtype='<U3')"
      ]
     },
     "execution_count": 8,
     "metadata": {},
     "output_type": "execute_result"
    }
   ],
   "source": [
    "names[names=='bob']"
   ]
  },
  {
   "cell_type": "code",
   "execution_count": 9,
   "id": "46b7b057-4685-4cd9-b4f7-5b56fcb93e6b",
   "metadata": {},
   "outputs": [
    {
     "data": {
      "text/plain": [
       "array([[0., 0., 0., 0.],\n",
       "       [0., 0., 0., 0.],\n",
       "       [0., 0., 0., 0.],\n",
       "       [0., 0., 0., 0.],\n",
       "       [0., 0., 0., 0.],\n",
       "       [0., 0., 0., 0.],\n",
       "       [0., 0., 0., 0.],\n",
       "       [0., 0., 0., 0.]])"
      ]
     },
     "execution_count": 9,
     "metadata": {},
     "output_type": "execute_result"
    }
   ],
   "source": [
    "np.empty((8,4))"
   ]
  },
  {
   "cell_type": "code",
   "execution_count": 10,
   "id": "d9b24962-8acc-4e64-aefc-2aea6edb3ec2",
   "metadata": {},
   "outputs": [],
   "source": [
    "arr=np.empty((8,4))"
   ]
  },
  {
   "cell_type": "code",
   "execution_count": 11,
   "id": "fa1651a9-99a2-425a-aea4-fcb4486a4d61",
   "metadata": {},
   "outputs": [],
   "source": [
    "for i in range(8):\n",
    "    arr[i]=i"
   ]
  },
  {
   "cell_type": "code",
   "execution_count": 12,
   "id": "4164fb34-9aaa-4ee9-ac12-fe9e5e8463e9",
   "metadata": {},
   "outputs": [
    {
     "data": {
      "text/plain": [
       "array([[0., 0., 0., 0.],\n",
       "       [1., 1., 1., 1.],\n",
       "       [2., 2., 2., 2.],\n",
       "       [3., 3., 3., 3.],\n",
       "       [4., 4., 4., 4.],\n",
       "       [5., 5., 5., 5.],\n",
       "       [6., 6., 6., 6.],\n",
       "       [7., 7., 7., 7.]])"
      ]
     },
     "execution_count": 12,
     "metadata": {},
     "output_type": "execute_result"
    }
   ],
   "source": [
    "arr"
   ]
  },
  {
   "cell_type": "code",
   "execution_count": 13,
   "id": "0baa5dce-b59e-408d-b64b-18233bea9c87",
   "metadata": {},
   "outputs": [
    {
     "data": {
      "text/plain": [
       "array([[2., 2., 2., 2.],\n",
       "       [1., 1., 1., 1.],\n",
       "       [4., 4., 4., 4.]])"
      ]
     },
     "execution_count": 13,
     "metadata": {},
     "output_type": "execute_result"
    }
   ],
   "source": [
    "arr[[2,1,4]]"
   ]
  },
  {
   "cell_type": "code",
   "execution_count": 14,
   "id": "723d9c8f-2248-4561-869b-e764ff3fa7ad",
   "metadata": {},
   "outputs": [
    {
     "data": {
      "text/plain": [
       "array([[5., 5., 5., 5.],\n",
       "       [3., 3., 3., 3.]])"
      ]
     },
     "execution_count": 14,
     "metadata": {},
     "output_type": "execute_result"
    }
   ],
   "source": [
    "arr[[-3,-5]]"
   ]
  },
  {
   "cell_type": "code",
   "execution_count": 15,
   "id": "648af8b1-39de-43f4-bb16-24e68112cde2",
   "metadata": {},
   "outputs": [],
   "source": [
    "m=np.arange(20)"
   ]
  },
  {
   "cell_type": "code",
   "execution_count": 16,
   "id": "068f76f3-af11-48a4-9b6c-b03fecbeff6c",
   "metadata": {},
   "outputs": [
    {
     "data": {
      "text/plain": [
       "array([ 0,  1,  2,  3,  4,  5,  6,  7,  8,  9, 10, 11, 12, 13, 14, 15, 16,\n",
       "       17, 18, 19])"
      ]
     },
     "execution_count": 16,
     "metadata": {},
     "output_type": "execute_result"
    }
   ],
   "source": [
    "m"
   ]
  },
  {
   "cell_type": "code",
   "execution_count": 17,
   "id": "5dcd9a24-65c1-47c3-9280-eae20d6c434e",
   "metadata": {},
   "outputs": [
    {
     "data": {
      "text/plain": [
       "20"
      ]
     },
     "execution_count": 17,
     "metadata": {},
     "output_type": "execute_result"
    }
   ],
   "source": [
    "m.size"
   ]
  },
  {
   "cell_type": "code",
   "execution_count": 23,
   "id": "c652e190-24c1-4863-8925-60f48dffd4e5",
   "metadata": {},
   "outputs": [
    {
     "name": "stdout",
     "output_type": "stream",
     "text": [
      "0\n",
      "5\n",
      "10\n",
      "15\n"
     ]
    }
   ],
   "source": [
    "for i in m:\n",
    "    if m[i]%5==0:\n",
    "        print(m[i])  "
   ]
  },
  {
   "cell_type": "code",
   "execution_count": 24,
   "id": "6d5bf7e3-5411-48fd-bb71-23cddff2ae91",
   "metadata": {},
   "outputs": [],
   "source": [
    "arr2=np.arange(20)"
   ]
  },
  {
   "cell_type": "code",
   "execution_count": 27,
   "id": "700ddd04-d5bc-4540-92aa-80f5300652a7",
   "metadata": {},
   "outputs": [],
   "source": [
    "arr5=(arr2%5==0)"
   ]
  },
  {
   "cell_type": "code",
   "execution_count": 28,
   "id": "2dfc5099-73ef-4953-9a59-d3f0fddd1de8",
   "metadata": {},
   "outputs": [
    {
     "data": {
      "text/plain": [
       "array([ 0,  5, 10, 15])"
      ]
     },
     "execution_count": 28,
     "metadata": {},
     "output_type": "execute_result"
    }
   ],
   "source": [
    "arr2[arr5]"
   ]
  },
  {
   "cell_type": "code",
   "execution_count": 31,
   "id": "d6e651d0-ab1e-45ca-b32d-9f3483090e61",
   "metadata": {},
   "outputs": [],
   "source": [
    "arr6=(arr2>10)"
   ]
  },
  {
   "cell_type": "code",
   "execution_count": 32,
   "id": "742d70f7-795a-4c12-9709-7dff3acaef4f",
   "metadata": {},
   "outputs": [
    {
     "data": {
      "text/plain": [
       "array([11, 12, 13, 14, 15, 16, 17, 18, 19])"
      ]
     },
     "execution_count": 32,
     "metadata": {},
     "output_type": "execute_result"
    }
   ],
   "source": [
    "arr2[arr6]"
   ]
  },
  {
   "cell_type": "code",
   "execution_count": 35,
   "id": "bab9ca1e-55d5-47d8-88e1-3ff44a6cb563",
   "metadata": {},
   "outputs": [
    {
     "data": {
      "text/plain": [
       "array([15])"
      ]
     },
     "execution_count": 35,
     "metadata": {},
     "output_type": "execute_result"
    }
   ],
   "source": [
    "arr2[arr5 & arr6]"
   ]
  },
  {
   "cell_type": "code",
   "execution_count": 36,
   "id": "3e8c5568-082f-4f36-956b-1e3bc81be6bd",
   "metadata": {},
   "outputs": [
    {
     "data": {
      "text/plain": [
       "array([ 0,  5, 10, 11, 12, 13, 14, 15, 16, 17, 18, 19])"
      ]
     },
     "execution_count": 36,
     "metadata": {},
     "output_type": "execute_result"
    }
   ],
   "source": [
    "arr2[arr5 | arr6]"
   ]
  },
  {
   "cell_type": "code",
   "execution_count": null,
   "id": "da24a936-baed-4c56-b2cd-1f5e86a668af",
   "metadata": {},
   "outputs": [],
   "source": []
  },
  {
   "cell_type": "code",
   "execution_count": null,
   "id": "565901c9-0081-4976-9c32-4159b7da27dc",
   "metadata": {},
   "outputs": [],
   "source": []
  }
 ],
 "metadata": {
  "kernelspec": {
   "display_name": "Python 3 (ipykernel)",
   "language": "python",
   "name": "python3"
  },
  "language_info": {
   "codemirror_mode": {
    "name": "ipython",
    "version": 3
   },
   "file_extension": ".py",
   "mimetype": "text/x-python",
   "name": "python",
   "nbconvert_exporter": "python",
   "pygments_lexer": "ipython3",
   "version": "3.12.7"
  }
 },
 "nbformat": 4,
 "nbformat_minor": 5
}
