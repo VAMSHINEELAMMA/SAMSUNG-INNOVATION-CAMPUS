{
  "cells": [
    {
      "cell_type": "markdown",
      "metadata": {
        "id": "view-in-github",
        "colab_type": "text"
      },
      "source": [
        "<a href=\"https://colab.research.google.com/github/VAMSHINEELAMMA/SAMSUNG-INNOVATION-CAMPUS/blob/main/ex_0105.ipynb\" target=\"_parent\"><img src=\"https://colab.research.google.com/assets/colab-badge.svg\" alt=\"Open In Colab\"/></a>"
      ]
    },
    {
      "cell_type": "code",
      "execution_count": 1,
      "metadata": {
        "id": "Yz5sRFrTgDy0",
        "outputId": "4536a8fe-1ae3-445c-a6a6-f2898c3c1043",
        "colab": {
          "base_uri": "https://localhost:8080/"
        }
      },
      "outputs": [
        {
          "output_type": "stream",
          "name": "stdout",
          "text": [
            "How old are you? 7\n",
            "7 years old... You are a bit too young.\n"
          ]
        }
      ],
      "source": [
        "x = input(\"How old are you? \")\n",
        "x = int(x)\n",
        "if x < 8 :\n",
        "    print( str(x) + \" years old... You are a bit too young.\")\n",
        "elif x >=8 and x<19:\n",
        "    print( str(x) + \" years old... You must be a student.\")\n",
        "else:\n",
        "    print( \"You are all grown up!\")"
      ]
    },
    {
      "cell_type": "code",
      "execution_count": 2,
      "metadata": {
        "id": "oEllga-rgDy2",
        "outputId": "53c6769c-bcae-423e-a119-5368b30fdc93",
        "colab": {
          "base_uri": "https://localhost:8080/"
        }
      },
      "outputs": [
        {
          "output_type": "stream",
          "name": "stdout",
          "text": [
            "How much is 2*3? 6\n",
            "Correct.\n"
          ]
        }
      ],
      "source": [
        "x = input(\"How much is 2*3? \")\n",
        "x = int(x)\n",
        "if x == 2*3 :\n",
        "    print( \"Correct.\")\n",
        "else:\n",
        "    print( \"Incorrect\")"
      ]
    },
    {
      "cell_type": "code",
      "execution_count": 3,
      "metadata": {
        "id": "O8xhvMuZgDy2",
        "outputId": "7739d1fc-b51b-4d0d-870d-054298dc69a9",
        "colab": {
          "base_uri": "https://localhost:8080/"
        }
      },
      "outputs": [
        {
          "output_type": "stream",
          "name": "stdout",
          "text": [
            "How much is 2*3? 6\n",
            "Correct.\n"
          ]
        }
      ],
      "source": [
        "x = input(\"How much is 2*3? \")\n",
        "x = int(x)\n",
        "if x !=2*3 :\n",
        "    print( \"Incorrect\")\n",
        "else:\n",
        "    print( \"Correct.\")"
      ]
    },
    {
      "cell_type": "code",
      "execution_count": 4,
      "metadata": {
        "id": "_RD9sfjZgDy3",
        "outputId": "f89a7f5d-e7b5-4619-d02f-dd8f2c316b4f",
        "colab": {
          "base_uri": "https://localhost:8080/"
        }
      },
      "outputs": [
        {
          "output_type": "stream",
          "name": "stdout",
          "text": [
            "How much is 2*3? 6\n",
            "Correct.\n"
          ]
        }
      ],
      "source": [
        "x = input(\"How much is 2*3? \")\n",
        "x = int(x)\n",
        "y = ( x == 2*3)                                         # A Boolean statement.\n",
        "if y:\n",
        "    print( \"Correct.\")\n",
        "else:\n",
        "    print( \"Incorrect\")"
      ]
    },
    {
      "cell_type": "code",
      "execution_count": 5,
      "metadata": {
        "id": "VID-UqdcgDy5",
        "outputId": "2566d9ec-fdfa-4c79-9fbf-991186f3a317",
        "colab": {
          "base_uri": "https://localhost:8080/"
        }
      },
      "outputs": [
        {
          "output_type": "stream",
          "name": "stdout",
          "text": [
            "Sum from 1 to 10 = 55\n"
          ]
        }
      ],
      "source": [
        "sum = 0\n",
        "for x in range(1, 11):\n",
        "    sum += x\n",
        "print(\"Sum from 1 to 10 = \" + str(sum))"
      ]
    },
    {
      "cell_type": "code",
      "execution_count": 6,
      "metadata": {
        "id": "1hDb5URhgDy6",
        "outputId": "31625e25-2864-42bd-9d13-a5de2d6c9fcc",
        "colab": {
          "base_uri": "https://localhost:8080/"
        }
      },
      "outputs": [
        {
          "output_type": "stream",
          "name": "stdout",
          "text": [
            "Sum of even numbers from 2 to 100 = 2550\n"
          ]
        }
      ],
      "source": [
        "sum = 0\n",
        "for x in range(2,101,2):\n",
        "    sum += x\n",
        "print(\"Sum of even numbers from 2 to 100 = \" + str(sum))"
      ]
    },
    {
      "cell_type": "code",
      "execution_count": 7,
      "metadata": {
        "id": "nSc3xKucgDy6",
        "outputId": "1c86ca44-615a-459d-a30d-d7d72266cb4c",
        "colab": {
          "base_uri": "https://localhost:8080/"
        }
      },
      "outputs": [
        {
          "output_type": "stream",
          "name": "stdout",
          "text": [
            "Sum of even numbers between 1 and 100 = 2550\n"
          ]
        }
      ],
      "source": [
        "sum = 0\n",
        "for x in range(1,101):\n",
        "    if ( x % 2 ==0):\n",
        "        sum += x\n",
        "print(\"Sum of even numbers between 1 and 100 = \" + str(sum))"
      ]
    },
    {
      "cell_type": "code",
      "execution_count": 8,
      "metadata": {
        "id": "sPQmPBKrgDy6",
        "outputId": "d6b21e67-621c-48e7-e481-a90b49c44132",
        "colab": {
          "base_uri": "https://localhost:8080/"
        }
      },
      "outputs": [
        {
          "output_type": "stream",
          "name": "stdout",
          "text": [
            "Sum of odd numbers between 1 and 100 = 2500\n"
          ]
        }
      ],
      "source": [
        "sum = 0\n",
        "for x in range(1,101):\n",
        "    if ( x % 2 !=0):\n",
        "        sum += x\n",
        "print(\"Sum of odd numbers between 1 and 100 = \" + str(sum))"
      ]
    },
    {
      "cell_type": "code",
      "execution_count": 9,
      "metadata": {
        "id": "x3xWHjCygDy7",
        "outputId": "007d8c0a-66fe-4b83-c600-37960e98a4da",
        "colab": {
          "base_uri": "https://localhost:8080/"
        }
      },
      "outputs": [
        {
          "output_type": "stream",
          "name": "stdout",
          "text": [
            "Sum of multiples of 5 between 1 and 100 = 1050\n"
          ]
        }
      ],
      "source": [
        "sum = 0\n",
        "for x in range(1,101):\n",
        "    if x % 5 == 0:\n",
        "        sum += x\n",
        "print(\"Sum of multiples of 5 between 1 and 100 = \" + str(sum))"
      ]
    },
    {
      "cell_type": "code",
      "execution_count": 10,
      "metadata": {
        "id": "15n7Uad7gDy7",
        "outputId": "a966db96-ec44-4eb0-ff02-2219fd89a697",
        "colab": {
          "base_uri": "https://localhost:8080/"
        }
      },
      "outputs": [
        {
          "output_type": "stream",
          "name": "stdout",
          "text": [
            "You\n",
            "need\n",
            "Python!\n"
          ]
        }
      ],
      "source": [
        "my_list = ['You', 'need', 'Python!']\n",
        "for x in my_list:\n",
        "    print(x)"
      ]
    },
    {
      "cell_type": "code",
      "execution_count": 11,
      "metadata": {
        "id": "Be43zuVdgDy7",
        "outputId": "7b6f9ea9-9992-47f3-fcdc-ef76969028b3",
        "colab": {
          "base_uri": "https://localhost:8080/"
        }
      },
      "outputs": [
        {
          "output_type": "stream",
          "name": "stdout",
          "text": [
            "2 * 2 =  4 \n",
            "2 * 3 =  6 \n",
            "2 * 4 =  8 \n",
            "2 * 5 = 10 \n",
            "2 * 6 = 12 \n",
            "2 * 7 = 14 \n",
            "2 * 8 = 16 \n",
            "2 * 9 = 18 \n",
            "3 * 2 =  6 \n",
            "3 * 3 =  9 \n",
            "3 * 4 = 12 \n",
            "3 * 5 = 15 \n",
            "3 * 6 = 18 \n",
            "3 * 7 = 21 \n",
            "3 * 8 = 24 \n",
            "3 * 9 = 27 \n",
            "4 * 2 =  8 \n",
            "4 * 3 = 12 \n",
            "4 * 4 = 16 \n",
            "4 * 5 = 20 \n",
            "4 * 6 = 24 \n",
            "4 * 7 = 28 \n",
            "4 * 8 = 32 \n",
            "4 * 9 = 36 \n",
            "5 * 2 = 10 \n",
            "5 * 3 = 15 \n",
            "5 * 4 = 20 \n",
            "5 * 5 = 25 \n",
            "5 * 6 = 30 \n",
            "5 * 7 = 35 \n",
            "5 * 8 = 40 \n",
            "5 * 9 = 45 \n",
            "6 * 2 = 12 \n",
            "6 * 3 = 18 \n",
            "6 * 4 = 24 \n",
            "6 * 5 = 30 \n",
            "6 * 6 = 36 \n",
            "6 * 7 = 42 \n",
            "6 * 8 = 48 \n",
            "6 * 9 = 54 \n",
            "7 * 2 = 14 \n",
            "7 * 3 = 21 \n",
            "7 * 4 = 28 \n",
            "7 * 5 = 35 \n",
            "7 * 6 = 42 \n",
            "7 * 7 = 49 \n",
            "7 * 8 = 56 \n",
            "7 * 9 = 63 \n",
            "8 * 2 = 16 \n",
            "8 * 3 = 24 \n",
            "8 * 4 = 32 \n",
            "8 * 5 = 40 \n",
            "8 * 6 = 48 \n",
            "8 * 7 = 56 \n",
            "8 * 8 = 64 \n",
            "8 * 9 = 72 \n",
            "9 * 2 = 18 \n",
            "9 * 3 = 27 \n",
            "9 * 4 = 36 \n",
            "9 * 5 = 45 \n",
            "9 * 6 = 54 \n",
            "9 * 7 = 63 \n",
            "9 * 8 = 72 \n",
            "9 * 9 = 81 \n"
          ]
        }
      ],
      "source": [
        "# Multiplication table.\n",
        "# A 'for' loop within another.\n",
        "for i in range(2,10):\n",
        "    for j in range(2,10):\n",
        "        print( \"%1d * %1d = %2d \" % ( i, j, i * j))"
      ]
    },
    {
      "cell_type": "code",
      "execution_count": 12,
      "metadata": {
        "id": "Fi7HPPX7gDy7",
        "outputId": "795f089d-7544-4297-e879-b559f65b1a15",
        "colab": {
          "base_uri": "https://localhost:8080/"
        }
      },
      "outputs": [
        {
          "output_type": "stream",
          "name": "stdout",
          "text": [
            "Sum of 1 through 10 = 55\n"
          ]
        }
      ],
      "source": [
        "counter = 0\n",
        "sum = 0\n",
        "while counter < 11:\n",
        "    sum += counter\n",
        "    counter += 1\n",
        "print(\"Sum of 1 through 10 = \" + str(sum))"
      ]
    },
    {
      "cell_type": "code",
      "execution_count": 13,
      "metadata": {
        "id": "-4wNY3IpgDy8",
        "outputId": "0ca02e6c-1f84-4c06-85a9-c5254b0f583e",
        "colab": {
          "base_uri": "https://localhost:8080/"
        }
      },
      "outputs": [
        {
          "output_type": "stream",
          "name": "stdout",
          "text": [
            "Sum of multiples of 5 between 0 and 1000 = 100500\n"
          ]
        }
      ],
      "source": [
        "counter = 0\n",
        "sum = 0\n",
        "while counter < 1001:\n",
        "    if counter % 5 == 0:\n",
        "        sum += counter\n",
        "    counter += 1\n",
        "print(\"Sum of multiples of 5 between 0 and 1000 = \" + str(sum))"
      ]
    },
    {
      "cell_type": "code",
      "execution_count": 14,
      "metadata": {
        "id": "Uizgp_6egDy8",
        "outputId": "7dd7f6e9-2b1a-4948-d48f-590d4aa826f4",
        "colab": {
          "base_uri": "https://localhost:8080/"
        }
      },
      "outputs": [
        {
          "output_type": "stream",
          "name": "stdout",
          "text": [
            "2 * 2 =  4 \n",
            "2 * 3 =  6 \n",
            "2 * 4 =  8 \n",
            "2 * 5 = 10 \n",
            "2 * 6 = 12 \n",
            "2 * 7 = 14 \n",
            "2 * 8 = 16 \n",
            "2 * 9 = 18 \n",
            "3 * 2 =  6 \n",
            "3 * 3 =  9 \n",
            "3 * 4 = 12 \n",
            "3 * 5 = 15 \n",
            "3 * 6 = 18 \n",
            "3 * 7 = 21 \n",
            "3 * 8 = 24 \n",
            "3 * 9 = 27 \n",
            "4 * 2 =  8 \n",
            "4 * 3 = 12 \n",
            "4 * 4 = 16 \n",
            "4 * 5 = 20 \n",
            "4 * 6 = 24 \n",
            "4 * 7 = 28 \n",
            "4 * 8 = 32 \n",
            "4 * 9 = 36 \n",
            "5 * 2 = 10 \n",
            "5 * 3 = 15 \n",
            "5 * 4 = 20 \n",
            "5 * 5 = 25 \n",
            "5 * 6 = 30 \n",
            "5 * 7 = 35 \n",
            "5 * 8 = 40 \n",
            "5 * 9 = 45 \n",
            "6 * 2 = 12 \n",
            "6 * 3 = 18 \n",
            "6 * 4 = 24 \n",
            "6 * 5 = 30 \n",
            "6 * 6 = 36 \n",
            "6 * 7 = 42 \n",
            "6 * 8 = 48 \n",
            "6 * 9 = 54 \n",
            "7 * 2 = 14 \n",
            "7 * 3 = 21 \n",
            "7 * 4 = 28 \n",
            "7 * 5 = 35 \n",
            "7 * 6 = 42 \n",
            "7 * 7 = 49 \n",
            "7 * 8 = 56 \n",
            "7 * 9 = 63 \n",
            "8 * 2 = 16 \n",
            "8 * 3 = 24 \n",
            "8 * 4 = 32 \n",
            "8 * 5 = 40 \n",
            "8 * 6 = 48 \n",
            "8 * 7 = 56 \n",
            "8 * 8 = 64 \n",
            "8 * 9 = 72 \n",
            "9 * 2 = 18 \n",
            "9 * 3 = 27 \n",
            "9 * 4 = 36 \n",
            "9 * 5 = 45 \n",
            "9 * 6 = 54 \n",
            "9 * 7 = 63 \n",
            "9 * 8 = 72 \n",
            "9 * 9 = 81 \n"
          ]
        }
      ],
      "source": [
        "# Multiplication table.\n",
        "# A 'while' loop within another.\n",
        "i = 1\n",
        "while i < 9:\n",
        "    i += 1\n",
        "    j = 2\n",
        "    while j < 10:\n",
        "        print( \"%1d * %1d = %2d \" % ( i, j, i*j))\n",
        "        j += 1"
      ]
    },
    {
      "cell_type": "code",
      "execution_count": 15,
      "metadata": {
        "id": "RDJuJK6ggDy8",
        "outputId": "737754e0-7657-4aff-bc0f-a4143f980108",
        "colab": {
          "base_uri": "https://localhost:8080/"
        }
      },
      "outputs": [
        {
          "output_type": "stream",
          "name": "stdout",
          "text": [
            "2 * 1 =  2 \n",
            "2 * 2 =  4 \n",
            "2 * 3 =  6 \n",
            "2 * 4 =  8 \n",
            "2 * 5 = 10 \n",
            "2 * 6 = 12 \n",
            "2 * 7 = 14 \n",
            "2 * 8 = 16 \n",
            "2 * 9 = 18 \n",
            "3 * 1 =  3 \n",
            "3 * 2 =  6 \n",
            "3 * 3 =  9 \n",
            "3 * 4 = 12 \n",
            "3 * 5 = 15 \n",
            "3 * 6 = 18 \n",
            "3 * 7 = 21 \n",
            "3 * 8 = 24 \n",
            "3 * 9 = 27 \n",
            "4 * 1 =  4 \n",
            "4 * 2 =  8 \n",
            "4 * 3 = 12 \n",
            "4 * 4 = 16 \n",
            "4 * 5 = 20 \n",
            "4 * 6 = 24 \n",
            "4 * 7 = 28 \n",
            "4 * 8 = 32 \n",
            "4 * 9 = 36 \n",
            "5 * 1 =  5 \n",
            "5 * 2 = 10 \n",
            "5 * 3 = 15 \n",
            "5 * 4 = 20 \n",
            "5 * 5 = 25 \n",
            "5 * 6 = 30 \n",
            "5 * 7 = 35 \n",
            "5 * 8 = 40 \n",
            "5 * 9 = 45 \n",
            "6 * 1 =  6 \n",
            "6 * 2 = 12 \n",
            "6 * 3 = 18 \n",
            "6 * 4 = 24 \n",
            "6 * 5 = 30 \n",
            "6 * 6 = 36 \n",
            "6 * 7 = 42 \n",
            "6 * 8 = 48 \n",
            "6 * 9 = 54 \n",
            "7 * 1 =  7 \n",
            "7 * 2 = 14 \n",
            "7 * 3 = 21 \n",
            "7 * 4 = 28 \n",
            "7 * 5 = 35 \n",
            "7 * 6 = 42 \n",
            "7 * 7 = 49 \n",
            "7 * 8 = 56 \n",
            "7 * 9 = 63 \n",
            "8 * 1 =  8 \n",
            "8 * 2 = 16 \n",
            "8 * 3 = 24 \n",
            "8 * 4 = 32 \n",
            "8 * 5 = 40 \n",
            "8 * 6 = 48 \n",
            "8 * 7 = 56 \n",
            "8 * 8 = 64 \n",
            "8 * 9 = 72 \n",
            "9 * 1 =  9 \n",
            "9 * 2 = 18 \n",
            "9 * 3 = 27 \n",
            "9 * 4 = 36 \n",
            "9 * 5 = 45 \n",
            "9 * 6 = 54 \n",
            "9 * 7 = 63 \n",
            "9 * 8 = 72 \n",
            "9 * 9 = 81 \n"
          ]
        }
      ],
      "source": [
        "# Multiplication table.\n",
        "# A 'for' loop within a 'while' loop.\n",
        "i = 1\n",
        "while i < 9:\n",
        "    i += 1\n",
        "    for j in range(1,10):\n",
        "        print( \"%1d * %1d = %2d \" % ( i, j, i*j))\n",
        "        j += 1"
      ]
    },
    {
      "cell_type": "code",
      "execution_count": 15,
      "metadata": {
        "id": "24AE_mNAgDy8"
      },
      "outputs": [],
      "source": []
    }
  ],
  "metadata": {
    "kernelspec": {
      "display_name": "Python 3",
      "language": "python",
      "name": "python3"
    },
    "language_info": {
      "codemirror_mode": {
        "name": "ipython",
        "version": 3
      },
      "file_extension": ".py",
      "mimetype": "text/x-python",
      "name": "python",
      "nbconvert_exporter": "python",
      "pygments_lexer": "ipython3",
      "version": "3.7.3"
    },
    "colab": {
      "provenance": [],
      "include_colab_link": true
    }
  },
  "nbformat": 4,
  "nbformat_minor": 0
}
