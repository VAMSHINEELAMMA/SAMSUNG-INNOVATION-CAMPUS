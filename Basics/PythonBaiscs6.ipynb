{
  "cells": [
    {
      "cell_type": "markdown",
      "metadata": {
        "id": "view-in-github",
        "colab_type": "text"
      },
      "source": [
        "<a href=\"https://colab.research.google.com/github/VAMSHINEELAMMA/SAMSUNG-INNOVATION-CAMPUS/blob/main/ex_0106.ipynb\" target=\"_parent\"><img src=\"https://colab.research.google.com/assets/colab-badge.svg\" alt=\"Open In Colab\"/></a>"
      ]
    },
    {
      "cell_type": "code",
      "execution_count": 1,
      "metadata": {
        "id": "xzKTNVFXgdKA",
        "outputId": "c05ce794-e28f-4a4b-99d4-a32659a5453d",
        "colab": {
          "base_uri": "https://localhost:8080/"
        }
      },
      "outputs": [
        {
          "output_type": "execute_result",
          "data": {
            "text/plain": [
              "12"
            ]
          },
          "metadata": {},
          "execution_count": 1
        }
      ],
      "source": [
        "def prod(a,b):\n",
        "    x = a*b\n",
        "    return x\n",
        "prod(3,4)"
      ]
    },
    {
      "cell_type": "code",
      "execution_count": 2,
      "metadata": {
        "id": "6lNwPyA_gdKA",
        "outputId": "547cad39-cd71-4078-9174-8446e2068fa2",
        "colab": {
          "base_uri": "https://localhost:8080/"
        }
      },
      "outputs": [
        {
          "output_type": "stream",
          "name": "stdout",
          "text": [
            "Hello World!\n"
          ]
        }
      ],
      "source": [
        "def output():\n",
        "    return  'Hello World!'\n",
        "print(output())"
      ]
    },
    {
      "cell_type": "code",
      "execution_count": 3,
      "metadata": {
        "id": "pWfZluIlgdKB",
        "outputId": "15e1f4a7-668b-4b9c-849c-b2ca13de1ccb",
        "colab": {
          "base_uri": "https://localhost:8080/"
        }
      },
      "outputs": [
        {
          "output_type": "stream",
          "name": "stdout",
          "text": [
            "21\n"
          ]
        }
      ],
      "source": [
        "def times3(a):\n",
        "    print(3*a)\n",
        "    return\n",
        "times3(7)"
      ]
    },
    {
      "cell_type": "code",
      "execution_count": 4,
      "metadata": {
        "id": "aiyRfNr3gdKC",
        "outputId": "4afc9bb4-fef4-46fb-cde9-da7e6779d3eb",
        "colab": {
          "base_uri": "https://localhost:8080/"
        }
      },
      "outputs": [
        {
          "output_type": "execute_result",
          "data": {
            "text/plain": [
              "55"
            ]
          },
          "metadata": {},
          "execution_count": 4
        }
      ],
      "source": [
        "sum_total = 0\n",
        "def increase():\n",
        "    global sum_total\n",
        "    for i in range(11):\n",
        "        sum_total += i\n",
        "increase()\n",
        "sum_total"
      ]
    },
    {
      "cell_type": "code",
      "execution_count": 5,
      "metadata": {
        "id": "VAixIFeYgdKC"
      },
      "outputs": [],
      "source": [
        "def sum_up(*vals):\n",
        "    total = 0\n",
        "    for x in vals:\n",
        "        total += x\n",
        "    return total"
      ]
    },
    {
      "cell_type": "code",
      "execution_count": 6,
      "metadata": {
        "id": "fnHg5nWHgdKC",
        "outputId": "72350008-893a-4e05-db26-0dbd15d96272",
        "colab": {
          "base_uri": "https://localhost:8080/"
        }
      },
      "outputs": [
        {
          "output_type": "execute_result",
          "data": {
            "text/plain": [
              "6"
            ]
          },
          "metadata": {},
          "execution_count": 6
        }
      ],
      "source": [
        "sum_up(1,2,3)"
      ]
    },
    {
      "cell_type": "code",
      "execution_count": 7,
      "metadata": {
        "id": "C5BzTEC1gdKC",
        "outputId": "57684dfe-dacb-4a39-e36f-5699df718421",
        "colab": {
          "base_uri": "https://localhost:8080/"
        }
      },
      "outputs": [
        {
          "output_type": "execute_result",
          "data": {
            "text/plain": [
              "15"
            ]
          },
          "metadata": {},
          "execution_count": 7
        }
      ],
      "source": [
        "sum_up(1,2,3,4,5)"
      ]
    },
    {
      "cell_type": "code",
      "execution_count": 8,
      "metadata": {
        "id": "M7FbQuujgdKC"
      },
      "outputs": [],
      "source": [
        "def ArithmeticOprs(a,b):\n",
        "    return a + b, a-b, a * b, a/b"
      ]
    },
    {
      "cell_type": "code",
      "execution_count": 9,
      "metadata": {
        "id": "3RF-FmNagdKC",
        "outputId": "23374569-2067-4da8-a577-55fe89995512",
        "colab": {
          "base_uri": "https://localhost:8080/"
        }
      },
      "outputs": [
        {
          "output_type": "execute_result",
          "data": {
            "text/plain": [
              "tuple"
            ]
          },
          "metadata": {},
          "execution_count": 9
        }
      ],
      "source": [
        "type(ArithmeticOprs(4,2))"
      ]
    },
    {
      "cell_type": "code",
      "execution_count": 10,
      "metadata": {
        "id": "zaj_zSVBgdKC",
        "outputId": "fbf24a33-40ad-46f1-cfc0-8327fbf6d034",
        "colab": {
          "base_uri": "https://localhost:8080/"
        }
      },
      "outputs": [
        {
          "output_type": "execute_result",
          "data": {
            "text/plain": [
              "(6, 2, 8, 2.0)"
            ]
          },
          "metadata": {},
          "execution_count": 10
        }
      ],
      "source": [
        "ArithmeticOprs(4,2)"
      ]
    },
    {
      "cell_type": "code",
      "execution_count": 11,
      "metadata": {
        "id": "JYxcOr-RgdKC"
      },
      "outputs": [],
      "source": [
        "def ArithmeticOprs(a=2,b=1):\n",
        "    return a + b, a - b, a * b, a/b"
      ]
    },
    {
      "cell_type": "code",
      "execution_count": 12,
      "metadata": {
        "id": "AXBzetJpgdKD",
        "outputId": "df075a5f-9f9a-4c48-faec-6ba36f341d7a",
        "colab": {
          "base_uri": "https://localhost:8080/"
        }
      },
      "outputs": [
        {
          "output_type": "execute_result",
          "data": {
            "text/plain": [
              "(3, 1, 2, 2.0)"
            ]
          },
          "metadata": {},
          "execution_count": 12
        }
      ],
      "source": [
        "ArithmeticOprs()"
      ]
    },
    {
      "cell_type": "code",
      "execution_count": 13,
      "metadata": {
        "id": "s80kCe3CgdKD",
        "outputId": "3e649d21-8acf-45cf-fae8-77bf47d9832d",
        "colab": {
          "base_uri": "https://localhost:8080/"
        }
      },
      "outputs": [
        {
          "output_type": "execute_result",
          "data": {
            "text/plain": [
              "(4, 2, 3, 3.0)"
            ]
          },
          "metadata": {},
          "execution_count": 13
        }
      ],
      "source": [
        "ArithmeticOprs(3)"
      ]
    },
    {
      "cell_type": "code",
      "execution_count": 14,
      "metadata": {
        "id": "elgj9v4SgdKD",
        "outputId": "fde58294-bacb-43bf-fc6e-55b96b12ac99",
        "colab": {
          "base_uri": "https://localhost:8080/"
        }
      },
      "outputs": [
        {
          "output_type": "execute_result",
          "data": {
            "text/plain": [
              "(5, -1, 6, 0.6666666666666666)"
            ]
          },
          "metadata": {},
          "execution_count": 14
        }
      ],
      "source": [
        "ArithmeticOprs(b=3)"
      ]
    },
    {
      "cell_type": "code",
      "execution_count": 15,
      "metadata": {
        "id": "5Zl2M2BNgdKD"
      },
      "outputs": [],
      "source": [
        "# 'result' inside of the function body and 'result' outside of it are different variables.\n",
        "result = 333\n",
        "def average(*a):\n",
        "    result = 0\n",
        "    for x in a:\n",
        "        result += x\n",
        "    result /= len(a)\n",
        "    return result"
      ]
    },
    {
      "cell_type": "code",
      "execution_count": 16,
      "metadata": {
        "id": "RoNeGQ_egdKD",
        "outputId": "afb18fba-d8c8-4efe-a618-cc25e97422b6",
        "colab": {
          "base_uri": "https://localhost:8080/"
        }
      },
      "outputs": [
        {
          "output_type": "execute_result",
          "data": {
            "text/plain": [
              "3.0"
            ]
          },
          "metadata": {},
          "execution_count": 16
        }
      ],
      "source": [
        "average(1,2,3,4,5)"
      ]
    },
    {
      "cell_type": "code",
      "execution_count": 17,
      "metadata": {
        "id": "jDGKrTaegdKD",
        "outputId": "b2689658-309d-446a-ef41-12ff1525efdb",
        "colab": {
          "base_uri": "https://localhost:8080/"
        }
      },
      "outputs": [
        {
          "output_type": "execute_result",
          "data": {
            "text/plain": [
              "333"
            ]
          },
          "metadata": {},
          "execution_count": 17
        }
      ],
      "source": [
        "# 'result' defined outside of the function kept its original value.\n",
        "result"
      ]
    },
    {
      "cell_type": "code",
      "execution_count": 18,
      "metadata": {
        "id": "ZzA2__uogdKD"
      },
      "outputs": [],
      "source": [
        "# Please, notice that there is no explicit return value.\n",
        "result = 0\n",
        "def average(*a):\n",
        "    global result\n",
        "    for x in a:\n",
        "        result += x\n",
        "    result /= len(a)\n",
        "    return"
      ]
    },
    {
      "cell_type": "code",
      "execution_count": 19,
      "metadata": {
        "id": "R01aGGd9gdKD"
      },
      "outputs": [],
      "source": [
        "average(1,2,3,4,5)"
      ]
    },
    {
      "cell_type": "code",
      "execution_count": 20,
      "metadata": {
        "id": "GpA1qmkdgdKD",
        "outputId": "feb90c83-26a6-478e-f337-eed73f7e259f",
        "colab": {
          "base_uri": "https://localhost:8080/"
        }
      },
      "outputs": [
        {
          "output_type": "execute_result",
          "data": {
            "text/plain": [
              "3.0"
            ]
          },
          "metadata": {},
          "execution_count": 20
        }
      ],
      "source": [
        "# Now, 'result' contains the value calculated byh the function.\n",
        "result"
      ]
    },
    {
      "cell_type": "code",
      "execution_count": 21,
      "metadata": {
        "id": "SCdgI5DmgdKD"
      },
      "outputs": [],
      "source": [
        "# This function returns a lambda function.\n",
        "def makeMyFunc(a):\n",
        "    return lambda x: a*x"
      ]
    },
    {
      "cell_type": "code",
      "execution_count": 22,
      "metadata": {
        "id": "D3Xekxd7gdKD"
      },
      "outputs": [],
      "source": [
        "# Assign lambda function to a variable, so that it can be used just like any other function.\n",
        "myFunc = makeMyFunc(3)"
      ]
    },
    {
      "cell_type": "code",
      "execution_count": 23,
      "metadata": {
        "id": "c1S3A4P4gdKD",
        "outputId": "7cdcb2b8-03d3-43d0-befd-a02225079eba",
        "colab": {
          "base_uri": "https://localhost:8080/"
        }
      },
      "outputs": [
        {
          "output_type": "execute_result",
          "data": {
            "text/plain": [
              "function"
            ]
          },
          "metadata": {},
          "execution_count": 23
        }
      ],
      "source": [
        "type(myFunc)"
      ]
    },
    {
      "cell_type": "code",
      "execution_count": 24,
      "metadata": {
        "id": "bxVG9Q3AgdKD",
        "outputId": "d86b7f2b-b3d1-44f8-d7b0-309a36f458a5",
        "colab": {
          "base_uri": "https://localhost:8080/"
        }
      },
      "outputs": [
        {
          "output_type": "execute_result",
          "data": {
            "text/plain": [
              "12"
            ]
          },
          "metadata": {},
          "execution_count": 24
        }
      ],
      "source": [
        "myFunc(4)"
      ]
    },
    {
      "cell_type": "code",
      "execution_count": 25,
      "metadata": {
        "id": "Ou1Amx-3gdKD"
      },
      "outputs": [],
      "source": [
        "a = [1, 2, 3, 4, 5, 6, 7, 8, 9, 10]"
      ]
    },
    {
      "cell_type": "code",
      "execution_count": 26,
      "metadata": {
        "id": "9MS2VAA4gdKG",
        "outputId": "f6fe66c6-f7a3-41d4-ce8d-3dcadde1061d",
        "colab": {
          "base_uri": "https://localhost:8080/"
        }
      },
      "outputs": [
        {
          "output_type": "execute_result",
          "data": {
            "text/plain": [
              "[2, 4, 6, 8, 10, 12, 14, 16, 18, 20]"
            ]
          },
          "metadata": {},
          "execution_count": 26
        }
      ],
      "source": [
        "# Map the lambda function to each element of the list.\n",
        "list(map(lambda x: x * 2, a))"
      ]
    },
    {
      "cell_type": "code",
      "execution_count": 27,
      "metadata": {
        "id": "uGYC7aXJgdKG",
        "outputId": "27f530f8-6465-4569-eb86-9a165e267177",
        "colab": {
          "base_uri": "https://localhost:8080/"
        }
      },
      "outputs": [
        {
          "output_type": "execute_result",
          "data": {
            "text/plain": [
              "[3, 6, 9]"
            ]
          },
          "metadata": {},
          "execution_count": 27
        }
      ],
      "source": [
        "# Filter the list elements according to the condition given by the lambda function.\n",
        "list(filter(lambda x: x % 3 ==0, a))"
      ]
    },
    {
      "cell_type": "code",
      "execution_count": 28,
      "metadata": {
        "id": "_yIeIusRgdKH",
        "outputId": "e3bfd297-456d-4bac-91b5-ec333ccc575e",
        "colab": {
          "base_uri": "https://localhost:8080/"
        }
      },
      "outputs": [
        {
          "output_type": "stream",
          "name": "stdout",
          "text": [
            "--2025-09-01 04:21:41--  https://raw.githubusercontent.com/stefannae/SIC-Artificial-Intelligence/main/SIC_AI_Coding_Exercises/SIC_AI_Chapter_02_Coding_Exercises/myModule.py\n",
            "Resolving raw.githubusercontent.com (raw.githubusercontent.com)... 185.199.108.133, 185.199.109.133, 185.199.110.133, ...\n",
            "Connecting to raw.githubusercontent.com (raw.githubusercontent.com)|185.199.108.133|:443... connected.\n",
            "HTTP request sent, awaiting response... 200 OK\n",
            "Length: 246 [text/plain]\n",
            "Saving to: ‘myModule.py’\n",
            "\n",
            "\rmyModule.py           0%[                    ]       0  --.-KB/s               \rmyModule.py         100%[===================>]     246  --.-KB/s    in 0s      \n",
            "\n",
            "2025-09-01 04:21:42 (4.34 MB/s) - ‘myModule.py’ saved [246/246]\n",
            "\n"
          ]
        }
      ],
      "source": [
        "# Download the example module from the GitHub repo if it does not exist locally\n",
        "!wget --no-clobber https://raw.githubusercontent.com/stefannae/SIC-Artificial-Intelligence/main/SIC_AI_Coding_Exercises/SIC_AI_Chapter_02_Coding_Exercises/myModule.py"
      ]
    },
    {
      "cell_type": "code",
      "execution_count": 29,
      "metadata": {
        "id": "bFXIvgRCgdKH"
      },
      "outputs": [],
      "source": [
        "import myModule as md"
      ]
    },
    {
      "cell_type": "code",
      "execution_count": 30,
      "metadata": {
        "id": "6fhstOq8gdKH",
        "outputId": "92d7f77c-643a-4df7-9bf6-1bec247bf30c",
        "colab": {
          "base_uri": "https://localhost:8080/"
        }
      },
      "outputs": [
        {
          "output_type": "execute_result",
          "data": {
            "text/plain": [
              "7"
            ]
          },
          "metadata": {},
          "execution_count": 30
        }
      ],
      "source": [
        "md.sum(3,4)"
      ]
    },
    {
      "cell_type": "code",
      "execution_count": 31,
      "metadata": {
        "id": "h_tVjjXUgdKH",
        "outputId": "6a6992a2-c777-4b8f-a578-cd9f21b65b1a",
        "colab": {
          "base_uri": "https://localhost:8080/"
        }
      },
      "outputs": [
        {
          "output_type": "execute_result",
          "data": {
            "text/plain": [
              "20"
            ]
          },
          "metadata": {},
          "execution_count": 31
        }
      ],
      "source": [
        "md.product(4,5)"
      ]
    },
    {
      "cell_type": "code",
      "execution_count": 31,
      "metadata": {
        "id": "cRPP2rIhgdKH"
      },
      "outputs": [],
      "source": []
    }
  ],
  "metadata": {
    "kernelspec": {
      "display_name": "Python 3",
      "language": "python",
      "name": "python3"
    },
    "language_info": {
      "codemirror_mode": {
        "name": "ipython",
        "version": 3
      },
      "file_extension": ".py",
      "mimetype": "text/x-python",
      "name": "python",
      "nbconvert_exporter": "python",
      "pygments_lexer": "ipython3",
      "version": "3.7.3"
    },
    "colab": {
      "provenance": [],
      "include_colab_link": true
    }
  },
  "nbformat": 4,
  "nbformat_minor": 0
}
