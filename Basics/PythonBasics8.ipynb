{
  "cells": [
    {
      "cell_type": "markdown",
      "metadata": {
        "id": "view-in-github",
        "colab_type": "text"
      },
      "source": [
        "<a href=\"https://colab.research.google.com/github/VAMSHINEELAMMA/SAMSUNG-INNOVATION-CAMPUS/blob/main/ex_0108.ipynb\" target=\"_parent\"><img src=\"https://colab.research.google.com/assets/colab-badge.svg\" alt=\"Open In Colab\"/></a>"
      ]
    },
    {
      "cell_type": "code",
      "execution_count": 1,
      "metadata": {
        "id": "GX0tNAEshF7G"
      },
      "outputs": [],
      "source": [
        "class Pet:\n",
        "    counter = 0\n",
        "    def __init__(self,name):\n",
        "        self.name = name\n",
        "        Pet.counter += 1\n",
        "    def __del__(self):\n",
        "        Pet.counter -= 1"
      ]
    },
    {
      "cell_type": "code",
      "execution_count": 2,
      "metadata": {
        "id": "kZfWpq5zhF7J"
      },
      "outputs": [],
      "source": [
        "class Cat(Pet):\n",
        "    def purr(self):\n",
        "        print(self.name + ' is purring...')\n",
        "\n",
        "class Dog(Pet):\n",
        "    def bark(self):\n",
        "        print(self.name + ' is barking...')"
      ]
    },
    {
      "cell_type": "code",
      "execution_count": 3,
      "metadata": {
        "id": "fBjC6fRNhF7J"
      },
      "outputs": [],
      "source": [
        "a_cat = Cat('Kitty')\n",
        "a_dog = Dog('Fido')"
      ]
    },
    {
      "cell_type": "code",
      "execution_count": 4,
      "metadata": {
        "id": "HD_y9R4chF7K",
        "outputId": "bf408984-e789-463c-a0e7-3e8b47c07696",
        "colab": {
          "base_uri": "https://localhost:8080/"
        }
      },
      "outputs": [
        {
          "output_type": "stream",
          "name": "stdout",
          "text": [
            "Kitty is purring...\n"
          ]
        }
      ],
      "source": [
        "a_cat.purr()"
      ]
    },
    {
      "cell_type": "code",
      "execution_count": 5,
      "metadata": {
        "id": "0qWNsQ_jhF7L",
        "outputId": "04c46660-656e-4d7c-88fa-61b582c6497e",
        "colab": {
          "base_uri": "https://localhost:8080/"
        }
      },
      "outputs": [
        {
          "output_type": "stream",
          "name": "stdout",
          "text": [
            "Fido is barking...\n"
          ]
        }
      ],
      "source": [
        "a_dog.bark()"
      ]
    },
    {
      "cell_type": "code",
      "execution_count": 6,
      "metadata": {
        "id": "9uPKRiEohF7N"
      },
      "outputs": [],
      "source": [
        "class Shitzu(Dog):\n",
        "    def sleep(self):\n",
        "        print(self.name + ' sleeps 15 hours a day.')\n",
        "    def play(self):\n",
        "        print(self.name + ' plays 2 hours a day.')\n",
        "\n",
        "class Beagle(Dog):\n",
        "    def sleep(self):\n",
        "        print(self.name + ' sleeps 12 hours a day.')\n",
        "    def play(self):\n",
        "        print(self.name + ' plays 6 hours a day.')"
      ]
    },
    {
      "cell_type": "code",
      "execution_count": 7,
      "metadata": {
        "id": "koG32YKghF7N"
      },
      "outputs": [],
      "source": [
        "dog1 = Shitzu('Ruby')\n",
        "dog2 = Shitzu('Buddy')\n",
        "dog3 = Beagle('Rocky')"
      ]
    },
    {
      "cell_type": "code",
      "execution_count": 8,
      "metadata": {
        "id": "gM1AhCIzhF7O",
        "outputId": "9de124a3-ac59-495e-dde9-5554676a3b56",
        "colab": {
          "base_uri": "https://localhost:8080/"
        }
      },
      "outputs": [
        {
          "output_type": "stream",
          "name": "stdout",
          "text": [
            "Ruby sleeps 15 hours a day.\n"
          ]
        }
      ],
      "source": [
        "dog1.sleep()"
      ]
    },
    {
      "cell_type": "code",
      "execution_count": 9,
      "metadata": {
        "id": "c1YZTZ9ihF7O",
        "outputId": "2949cc9b-463e-4bab-b8f0-1a5731a89fe0",
        "colab": {
          "base_uri": "https://localhost:8080/"
        }
      },
      "outputs": [
        {
          "output_type": "stream",
          "name": "stdout",
          "text": [
            "Rocky sleeps 12 hours a day.\n"
          ]
        }
      ],
      "source": [
        "dog3.sleep()"
      ]
    },
    {
      "cell_type": "code",
      "execution_count": 10,
      "metadata": {
        "id": "ML29tSiEhF7O",
        "outputId": "55c56740-186e-436c-ea15-0f2c3822d8fa",
        "colab": {
          "base_uri": "https://localhost:8080/"
        }
      },
      "outputs": [
        {
          "output_type": "stream",
          "name": "stdout",
          "text": [
            "Buddy plays 2 hours a day.\n"
          ]
        }
      ],
      "source": [
        "dog2.play()"
      ]
    },
    {
      "cell_type": "code",
      "execution_count": 11,
      "metadata": {
        "id": "1Xkh_cH6hF7P",
        "outputId": "5d69bb1a-6fcd-4652-b78a-be4b9ad8f47e",
        "colab": {
          "base_uri": "https://localhost:8080/"
        }
      },
      "outputs": [
        {
          "output_type": "stream",
          "name": "stdout",
          "text": [
            "Rocky plays 6 hours a day.\n"
          ]
        }
      ],
      "source": [
        "dog3.play()"
      ]
    },
    {
      "cell_type": "code",
      "execution_count": 12,
      "metadata": {
        "id": "3ex0ENrAhF7P",
        "outputId": "177e9a23-10cf-49ec-cc19-90de542cc39e",
        "colab": {
          "base_uri": "https://localhost:8080/"
        }
      },
      "outputs": [
        {
          "output_type": "execute_result",
          "data": {
            "text/plain": [
              "5"
            ]
          },
          "metadata": {},
          "execution_count": 12
        }
      ],
      "source": [
        "Pet.counter"
      ]
    },
    {
      "cell_type": "code",
      "execution_count": 13,
      "metadata": {
        "id": "SHj0H1ALhF7P"
      },
      "outputs": [],
      "source": [
        "del dog3"
      ]
    },
    {
      "cell_type": "code",
      "execution_count": 14,
      "metadata": {
        "id": "cm1cocW6hF7Q",
        "outputId": "48527a5e-d085-4082-e003-7ae6e1283cf2",
        "colab": {
          "base_uri": "https://localhost:8080/"
        }
      },
      "outputs": [
        {
          "output_type": "execute_result",
          "data": {
            "text/plain": [
              "4"
            ]
          },
          "metadata": {},
          "execution_count": 14
        }
      ],
      "source": [
        "Pet.counter"
      ]
    }
  ],
  "metadata": {
    "kernelspec": {
      "display_name": "Python 3",
      "language": "python",
      "name": "python3"
    },
    "language_info": {
      "codemirror_mode": {
        "name": "ipython",
        "version": 3
      },
      "file_extension": ".py",
      "mimetype": "text/x-python",
      "name": "python",
      "nbconvert_exporter": "python",
      "pygments_lexer": "ipython3",
      "version": "3.7.3"
    },
    "colab": {
      "provenance": [],
      "include_colab_link": true
    }
  },
  "nbformat": 4,
  "nbformat_minor": 0
}
