{
 "cells": [
  {
   "cell_type": "code",
   "execution_count": 1,
   "id": "e05941b5-10dd-41a6-9c03-9eebdcea4c6a",
   "metadata": {},
   "outputs": [],
   "source": [
    "import numpy as np"
   ]
  },
  {
   "cell_type": "code",
   "execution_count": 2,
   "id": "5f5cac1a-df7b-415a-8078-8c10427c4a6d",
   "metadata": {},
   "outputs": [
    {
     "data": {
      "text/plain": [
       "'1.26.4'"
      ]
     },
     "execution_count": 2,
     "metadata": {},
     "output_type": "execute_result"
    }
   ],
   "source": [
    "np.__version__"
   ]
  },
  {
   "cell_type": "code",
   "execution_count": 3,
   "id": "b0aa0162-50de-43c8-81f9-96e8f1541c99",
   "metadata": {},
   "outputs": [],
   "source": [
    "r=np.array((1,23,5,7,9))"
   ]
  },
  {
   "cell_type": "code",
   "execution_count": 4,
   "id": "9f867547-50d7-4def-bb8e-41f3f4371ca9",
   "metadata": {},
   "outputs": [],
   "source": [
    "a=np.array((4,7,8.90,2))"
   ]
  },
  {
   "cell_type": "code",
   "execution_count": 5,
   "id": "38700a31-226f-40ab-a80d-25b24b51e277",
   "metadata": {},
   "outputs": [],
   "source": [
    "p=np.array({'name':'joe','marks':20})"
   ]
  },
  {
   "cell_type": "code",
   "execution_count": 6,
   "id": "e0c4f441-5794-456a-afa2-27f649e9e40a",
   "metadata": {},
   "outputs": [
    {
     "data": {
      "text/plain": [
       "1755418984976"
      ]
     },
     "execution_count": 6,
     "metadata": {},
     "output_type": "execute_result"
    }
   ],
   "source": [
    "id(r)"
   ]
  },
  {
   "cell_type": "code",
   "execution_count": 7,
   "id": "ec49374d-5954-4da3-9491-84ab31a1a5bb",
   "metadata": {},
   "outputs": [
    {
     "data": {
      "text/plain": [
       "1755380290768"
      ]
     },
     "execution_count": 7,
     "metadata": {},
     "output_type": "execute_result"
    }
   ],
   "source": [
    "id(a)"
   ]
  },
  {
   "cell_type": "code",
   "execution_count": 8,
   "id": "cfd42e7a-3a02-4475-a9fb-e22376fc781c",
   "metadata": {},
   "outputs": [
    {
     "data": {
      "text/plain": [
       "1755422675600"
      ]
     },
     "execution_count": 8,
     "metadata": {},
     "output_type": "execute_result"
    }
   ],
   "source": [
    "id(p)"
   ]
  },
  {
   "cell_type": "code",
   "execution_count": 9,
   "id": "c2cabd7f-ba8b-462b-a878-b8191d113f23",
   "metadata": {},
   "outputs": [],
   "source": [
    "y=r"
   ]
  },
  {
   "cell_type": "code",
   "execution_count": 10,
   "id": "29e8bbb8-63af-4a14-a814-73efa6884e16",
   "metadata": {},
   "outputs": [
    {
     "data": {
      "text/plain": [
       "array([ 1, 23,  5,  7,  9])"
      ]
     },
     "execution_count": 10,
     "metadata": {},
     "output_type": "execute_result"
    }
   ],
   "source": [
    "y"
   ]
  },
  {
   "cell_type": "code",
   "execution_count": 11,
   "id": "871acbf2-255e-4513-8346-4b412a0790c8",
   "metadata": {},
   "outputs": [
    {
     "data": {
      "text/plain": [
       "1755418984976"
      ]
     },
     "execution_count": 11,
     "metadata": {},
     "output_type": "execute_result"
    }
   ],
   "source": [
    "id(y)"
   ]
  },
  {
   "cell_type": "code",
   "execution_count": 12,
   "id": "d218c5c7-6f74-4eca-98af-ae4a10b5bbb4",
   "metadata": {},
   "outputs": [],
   "source": [
    "z=np.copy(a)\n"
   ]
  },
  {
   "cell_type": "code",
   "execution_count": 13,
   "id": "39342fda-17e4-4786-84b5-5376ab7dd19e",
   "metadata": {},
   "outputs": [],
   "source": [
    "import numpy as np"
   ]
  },
  {
   "cell_type": "code",
   "execution_count": 14,
   "id": "02ea43cc-ff21-4b43-ab31-8733d3c252ca",
   "metadata": {},
   "outputs": [],
   "source": [
    "a=([1,2,3,4])"
   ]
  },
  {
   "cell_type": "code",
   "execution_count": 15,
   "id": "074c6b77-f280-4c1a-b774-c3d463d2d275",
   "metadata": {},
   "outputs": [],
   "source": [
    "p=a"
   ]
  },
  {
   "cell_type": "code",
   "execution_count": 16,
   "id": "2556603d-7eb2-4c76-baa1-fe4284af3d02",
   "metadata": {},
   "outputs": [
    {
     "data": {
      "text/plain": [
       "1755422779200"
      ]
     },
     "execution_count": 16,
     "metadata": {},
     "output_type": "execute_result"
    }
   ],
   "source": [
    "id(a)"
   ]
  },
  {
   "cell_type": "code",
   "execution_count": 17,
   "id": "af564eb1-a38b-4866-93e5-24830035e44e",
   "metadata": {},
   "outputs": [
    {
     "data": {
      "text/plain": [
       "1755422779200"
      ]
     },
     "execution_count": 17,
     "metadata": {},
     "output_type": "execute_result"
    }
   ],
   "source": [
    "id(p)"
   ]
  },
  {
   "cell_type": "code",
   "execution_count": 18,
   "id": "ede4c63b-f74b-4958-9d26-dad96f69d675",
   "metadata": {},
   "outputs": [],
   "source": [
    "z=np.copy(p)"
   ]
  },
  {
   "cell_type": "code",
   "execution_count": 19,
   "id": "02ee47cc-6781-4c11-94b6-d860f032a66b",
   "metadata": {},
   "outputs": [
    {
     "data": {
      "text/plain": [
       "1755380290768"
      ]
     },
     "execution_count": 19,
     "metadata": {},
     "output_type": "execute_result"
    }
   ],
   "source": [
    "id(z)"
   ]
  },
  {
   "cell_type": "code",
   "execution_count": 20,
   "id": "fc6c3858-48b3-4216-b43f-ef5623d0476a",
   "metadata": {},
   "outputs": [],
   "source": [
    "a=np.array({1:2,'name': 'joe', 'grade': 5, 'gpa': 4.2})"
   ]
  },
  {
   "cell_type": "code",
   "execution_count": 21,
   "id": "008ebd3c-0c5f-4d46-ac24-51bd833cb797",
   "metadata": {},
   "outputs": [
    {
     "data": {
      "text/plain": [
       "array({1: 2, 'name': 'joe', 'grade': 5, 'gpa': 4.2}, dtype=object)"
      ]
     },
     "execution_count": 21,
     "metadata": {},
     "output_type": "execute_result"
    }
   ],
   "source": [
    "a"
   ]
  },
  {
   "cell_type": "code",
   "execution_count": 22,
   "id": "57f1f64b-ef8b-4805-961f-3466f4877990",
   "metadata": {},
   "outputs": [],
   "source": [
    "z=np.array({1,2,3,4,5})"
   ]
  },
  {
   "cell_type": "code",
   "execution_count": 23,
   "id": "5bc78fa3-4d0f-4ad3-b257-8930e99f6531",
   "metadata": {},
   "outputs": [
    {
     "data": {
      "text/plain": [
       "array({1, 2, 3, 4, 5}, dtype=object)"
      ]
     },
     "execution_count": 23,
     "metadata": {},
     "output_type": "execute_result"
    }
   ],
   "source": [
    "z"
   ]
  },
  {
   "cell_type": "code",
   "execution_count": 24,
   "id": "9b58bca4-25ae-4296-a3a2-181969a15c2c",
   "metadata": {},
   "outputs": [],
   "source": [
    "ap={1,2,3,4,5}"
   ]
  },
  {
   "cell_type": "code",
   "execution_count": 25,
   "id": "1015565a-f9b8-4c38-b18c-1213bdd44e70",
   "metadata": {},
   "outputs": [
    {
     "data": {
      "text/plain": [
       "set"
      ]
     },
     "execution_count": 25,
     "metadata": {},
     "output_type": "execute_result"
    }
   ],
   "source": [
    "type(ap)"
   ]
  },
  {
   "cell_type": "code",
   "execution_count": 26,
   "id": "4b1a4dc7-1201-445f-bcd7-5b5ace898b32",
   "metadata": {},
   "outputs": [
    {
     "data": {
      "text/plain": [
       "{1, 2, 3, 4, 5}"
      ]
     },
     "execution_count": 26,
     "metadata": {},
     "output_type": "execute_result"
    }
   ],
   "source": [
    "az={1,2,3,4,5,5,5,5,5}\n",
    "az"
   ]
  },
  {
   "cell_type": "code",
   "execution_count": 27,
   "id": "36631c5e-72fa-4d0c-9097-e4c223eb9407",
   "metadata": {},
   "outputs": [
    {
     "data": {
      "text/plain": [
       "[1, 2, 3, 4]"
      ]
     },
     "execution_count": 27,
     "metadata": {},
     "output_type": "execute_result"
    }
   ],
   "source": [
    "arr1=([1,2,3,4])\n",
    "arr1"
   ]
  },
  {
   "cell_type": "code",
   "execution_count": 28,
   "id": "3c0a3b28-25ef-4504-b09b-dd7ac8bb6863",
   "metadata": {},
   "outputs": [
    {
     "data": {
      "text/plain": [
       "array([1. , 3.4, 2.3, 4. , 5. , 6. ])"
      ]
     },
     "execution_count": 28,
     "metadata": {},
     "output_type": "execute_result"
    }
   ],
   "source": [
    "arr2=np.array([1,3.4,2.3,4,5,6])\n",
    "arr2"
   ]
  },
  {
   "cell_type": "code",
   "execution_count": 29,
   "id": "aceb7de0-96aa-46f7-bad7-285813d289e5",
   "metadata": {},
   "outputs": [
    {
     "data": {
      "text/plain": [
       "array(['3', '4', '5', '6.7'], dtype='<U32')"
      ]
     },
     "execution_count": 29,
     "metadata": {},
     "output_type": "execute_result"
    }
   ],
   "source": [
    "arr3=np.array([3,4,'5',6.7])\n",
    "arr3"
   ]
  },
  {
   "cell_type": "code",
   "execution_count": 30,
   "id": "5abb3fe7-444a-4e41-8e0e-dbace4cc2e50",
   "metadata": {},
   "outputs": [
    {
     "data": {
      "text/plain": [
       "1755422676560"
      ]
     },
     "execution_count": 30,
     "metadata": {},
     "output_type": "execute_result"
    }
   ],
   "source": [
    "id(arr3)"
   ]
  },
  {
   "cell_type": "code",
   "execution_count": 31,
   "id": "d3bc92f1-0eb2-4204-a9d3-02769d66d558",
   "metadata": {},
   "outputs": [
    {
     "data": {
      "text/plain": [
       "1755422676560"
      ]
     },
     "execution_count": 31,
     "metadata": {},
     "output_type": "execute_result"
    }
   ],
   "source": [
    "arr5=arr3\n",
    "id(arr5)"
   ]
  },
  {
   "cell_type": "code",
   "execution_count": 32,
   "id": "ad5e304a-4653-44f4-a841-bdb5d61e52d1",
   "metadata": {},
   "outputs": [
    {
     "data": {
      "text/plain": [
       "1755422677232"
      ]
     },
     "execution_count": 32,
     "metadata": {},
     "output_type": "execute_result"
    }
   ],
   "source": [
    "arr7=np.copy(arr3)\n",
    "id(arr7)"
   ]
  },
  {
   "cell_type": "code",
   "execution_count": 33,
   "id": "d7f54060-0f25-46fd-ba02-a5bf542b2fdd",
   "metadata": {},
   "outputs": [
    {
     "data": {
      "text/plain": [
       "array({2, 3.1, 4.5, 7.2, '3', 7}, dtype=object)"
      ]
     },
     "execution_count": 33,
     "metadata": {},
     "output_type": "execute_result"
    }
   ],
   "source": [
    "q=np.array({2,4.5,'3',7,3.1,3.1,7.2})\n",
    "q"
   ]
  },
  {
   "cell_type": "code",
   "execution_count": 34,
   "id": "c0683f40-8195-4067-9076-6c9f276da546",
   "metadata": {},
   "outputs": [
    {
     "data": {
      "text/plain": [
       "numpy.ndarray"
      ]
     },
     "execution_count": 34,
     "metadata": {},
     "output_type": "execute_result"
    }
   ],
   "source": [
    "type(q)"
   ]
  },
  {
   "cell_type": "code",
   "execution_count": 35,
   "id": "f25f006a-bb4d-41b9-8763-80e9f51940db",
   "metadata": {},
   "outputs": [
    {
     "data": {
      "text/plain": [
       "array(['2', '3', '8.9', '0.75'], dtype='<U32')"
      ]
     },
     "execution_count": 35,
     "metadata": {},
     "output_type": "execute_result"
    }
   ],
   "source": [
    "r=np.array((2,'3',8.9,0.75))\n",
    "r"
   ]
  },
  {
   "cell_type": "code",
   "execution_count": 36,
   "id": "50c67846-fe6e-42d2-bfda-5d2974ff602d",
   "metadata": {},
   "outputs": [
    {
     "data": {
      "text/plain": [
       "array({1: 'joe', 2: 5.55, 3: '245.33', 4: 8.9}, dtype=object)"
      ]
     },
     "execution_count": 36,
     "metadata": {},
     "output_type": "execute_result"
    }
   ],
   "source": [
    "a=np.array({1:'joe',2:5.55,3:'245.33',4:8.9})\n",
    "a"
   ]
  },
  {
   "cell_type": "code",
   "execution_count": 37,
   "id": "55535e8d-c8d5-4a4f-92c1-045c798838f2",
   "metadata": {},
   "outputs": [
    {
     "data": {
      "text/plain": [
       "[1, 2, 3, 4, 5, 6, 7, 8, 9, 10, 11, 12, 13, 14]"
      ]
     },
     "execution_count": 37,
     "metadata": {},
     "output_type": "execute_result"
    }
   ],
   "source": [
    "[i for i in range(1,15)]"
   ]
  },
  {
   "cell_type": "code",
   "execution_count": 38,
   "id": "a6b86dcc-da3b-4db4-bef3-017948793e64",
   "metadata": {},
   "outputs": [
    {
     "data": {
      "text/plain": [
       "{1, 5, 9, 13}"
      ]
     },
     "execution_count": 38,
     "metadata": {},
     "output_type": "execute_result"
    }
   ],
   "source": [
    "{i for i in range(1,15,4)}"
   ]
  },
  {
   "cell_type": "code",
   "execution_count": 39,
   "id": "bc850725-d3fa-44bf-93ff-fb16b82d1e2d",
   "metadata": {},
   "outputs": [
    {
     "data": {
      "text/plain": [
       "[6, 12, 18, 24, 30, 36]"
      ]
     },
     "execution_count": 39,
     "metadata": {},
     "output_type": "execute_result"
    }
   ],
   "source": [
    "[i*2 for i in range(3,20,3)]"
   ]
  },
  {
   "cell_type": "code",
   "execution_count": 40,
   "id": "6781e412-ad0f-4d67-8697-4485e2f87a90",
   "metadata": {},
   "outputs": [],
   "source": [
    "n={i for i in range(10)}"
   ]
  },
  {
   "cell_type": "code",
   "execution_count": 41,
   "id": "7231a24f-d4fb-48c7-a7a5-8cec3c454dba",
   "metadata": {},
   "outputs": [
    {
     "data": {
      "text/plain": [
       "{0, 1, 2, 3, 4, 5, 6, 7, 8, 9}"
      ]
     },
     "execution_count": 41,
     "metadata": {},
     "output_type": "execute_result"
    }
   ],
   "source": [
    "n"
   ]
  },
  {
   "cell_type": "code",
   "execution_count": 42,
   "id": "5d66eb86-0936-4de8-b36d-a982dd2d73f8",
   "metadata": {},
   "outputs": [],
   "source": [
    "c=['hello '+str(i) for i in range(2,10,2)]"
   ]
  },
  {
   "cell_type": "code",
   "execution_count": 43,
   "id": "141e72fd-f133-4907-a38b-9184dee83668",
   "metadata": {},
   "outputs": [
    {
     "data": {
      "text/plain": [
       "['hello 2', 'hello 4', 'hello 6', 'hello 8']"
      ]
     },
     "execution_count": 43,
     "metadata": {},
     "output_type": "execute_result"
    }
   ],
   "source": [
    "c"
   ]
  },
  {
   "cell_type": "code",
   "execution_count": 44,
   "id": "dd5fb007-cd3c-4285-a0db-af19eb9d2214",
   "metadata": {},
   "outputs": [],
   "source": [
    "g=[i for i in np.arange(10)]"
   ]
  },
  {
   "cell_type": "code",
   "execution_count": 45,
   "id": "8f3fde42-6806-4798-b787-3ff794a24d49",
   "metadata": {},
   "outputs": [],
   "source": [
    "g=np.arange(10) #1 parameter"
   ]
  },
  {
   "cell_type": "code",
   "execution_count": 46,
   "id": "29dc8375-22fa-4f96-8aad-1d04a32d1a64",
   "metadata": {},
   "outputs": [
    {
     "data": {
      "text/plain": [
       "array([0, 1, 2, 3, 4, 5, 6, 7, 8, 9])"
      ]
     },
     "execution_count": 46,
     "metadata": {},
     "output_type": "execute_result"
    }
   ],
   "source": [
    "g"
   ]
  },
  {
   "cell_type": "code",
   "execution_count": 47,
   "id": "6bb00280-6e1b-4f02-b6af-adaf7c509e1a",
   "metadata": {},
   "outputs": [
    {
     "data": {
      "text/plain": [
       "numpy.ndarray"
      ]
     },
     "execution_count": 47,
     "metadata": {},
     "output_type": "execute_result"
    }
   ],
   "source": [
    "type(g)"
   ]
  },
  {
   "cell_type": "code",
   "execution_count": 48,
   "id": "0e016cf0-f809-49cd-a82b-5f4c089b7cc7",
   "metadata": {},
   "outputs": [],
   "source": [
    "h=np.arange(7)"
   ]
  },
  {
   "cell_type": "code",
   "execution_count": 49,
   "id": "d811dc3a-88c5-49b0-afd9-93d7eea17010",
   "metadata": {},
   "outputs": [],
   "source": [
    "v=np.arange(3,16)"
   ]
  },
  {
   "cell_type": "code",
   "execution_count": 50,
   "id": "2ea26138-ef91-46fe-bf60-fb032593aa7b",
   "metadata": {},
   "outputs": [
    {
     "data": {
      "text/plain": [
       "array([ 3,  4,  5,  6,  7,  8,  9, 10, 11, 12, 13, 14, 15])"
      ]
     },
     "execution_count": 50,
     "metadata": {},
     "output_type": "execute_result"
    }
   ],
   "source": [
    "v #2 parameter"
   ]
  },
  {
   "cell_type": "code",
   "execution_count": 51,
   "id": "e3fdf30d-cb16-4b31-8a9c-07306f549ea9",
   "metadata": {},
   "outputs": [
    {
     "data": {
      "text/plain": [
       "numpy.ndarray"
      ]
     },
     "execution_count": 51,
     "metadata": {},
     "output_type": "execute_result"
    }
   ],
   "source": [
    "type(v)"
   ]
  },
  {
   "cell_type": "code",
   "execution_count": 52,
   "id": "82562939-3001-40a6-9235-93348cd09cbd",
   "metadata": {},
   "outputs": [
    {
     "data": {
      "text/plain": [
       "set"
      ]
     },
     "execution_count": 52,
     "metadata": {},
     "output_type": "execute_result"
    }
   ],
   "source": [
    "type(n)"
   ]
  },
  {
   "cell_type": "code",
   "execution_count": 53,
   "id": "19b67745-ebd0-4d95-a96f-f8c21cb49ad9",
   "metadata": {},
   "outputs": [
    {
     "data": {
      "text/plain": [
       "list"
      ]
     },
     "execution_count": 53,
     "metadata": {},
     "output_type": "execute_result"
    }
   ],
   "source": [
    "type(c)"
   ]
  },
  {
   "cell_type": "code",
   "execution_count": 54,
   "id": "c4d2888d-73ab-4fac-906f-1cb77256c37e",
   "metadata": {},
   "outputs": [],
   "source": [
    "x=np.arange(2,20,2)"
   ]
  },
  {
   "cell_type": "code",
   "execution_count": 55,
   "id": "c85cc184-d559-4fe0-a047-2ddcc9da0a45",
   "metadata": {},
   "outputs": [
    {
     "data": {
      "text/plain": [
       "array([ 2,  4,  6,  8, 10, 12, 14, 16, 18])"
      ]
     },
     "execution_count": 55,
     "metadata": {},
     "output_type": "execute_result"
    }
   ],
   "source": [
    "x #3 parameter"
   ]
  },
  {
   "cell_type": "code",
   "execution_count": 56,
   "id": "5d3a0247-b15a-4f7a-8bfc-368c027b0739",
   "metadata": {},
   "outputs": [],
   "source": [
    "g=np.arange(10) \n",
    "v=np.arange(-3,16)\n",
    "x=np.arange(20,2,-2)"
   ]
  },
  {
   "cell_type": "code",
   "execution_count": 57,
   "id": "598396d8-38d3-4b16-8682-dbec2d8e86fc",
   "metadata": {},
   "outputs": [
    {
     "data": {
      "text/plain": [
       "array([0, 1, 2, 3, 4, 5, 6, 7, 8, 9])"
      ]
     },
     "execution_count": 57,
     "metadata": {},
     "output_type": "execute_result"
    }
   ],
   "source": [
    "g\n"
   ]
  },
  {
   "cell_type": "code",
   "execution_count": 58,
   "id": "a5d996c9-af67-4ca5-9511-936e87b2342e",
   "metadata": {},
   "outputs": [
    {
     "data": {
      "text/plain": [
       "array([-3, -2, -1,  0,  1,  2,  3,  4,  5,  6,  7,  8,  9, 10, 11, 12, 13,\n",
       "       14, 15])"
      ]
     },
     "execution_count": 58,
     "metadata": {},
     "output_type": "execute_result"
    }
   ],
   "source": [
    "v"
   ]
  },
  {
   "cell_type": "code",
   "execution_count": 59,
   "id": "a10f2fd9-7909-447b-b31b-13615b26c2f2",
   "metadata": {},
   "outputs": [
    {
     "data": {
      "text/plain": [
       "array([20, 18, 16, 14, 12, 10,  8,  6,  4])"
      ]
     },
     "execution_count": 59,
     "metadata": {},
     "output_type": "execute_result"
    }
   ],
   "source": [
    "x"
   ]
  },
  {
   "cell_type": "code",
   "execution_count": 60,
   "id": "cbbd8ed4-ba7e-40dd-bec4-349bf687de13",
   "metadata": {},
   "outputs": [
    {
     "data": {
      "text/plain": [
       "array([-24, -25, -26, -27, -28, -29])"
      ]
     },
     "execution_count": 60,
     "metadata": {},
     "output_type": "execute_result"
    }
   ],
   "source": [
    "j=np.arange(-24,-30,-1)\n",
    "j"
   ]
  },
  {
   "cell_type": "code",
   "execution_count": 61,
   "id": "34fdcda8-15dd-4410-a156-03d9da7587ea",
   "metadata": {},
   "outputs": [
    {
     "data": {
      "text/plain": [
       "[False, True, False, True, False, True, False, True]"
      ]
     },
     "execution_count": 61,
     "metadata": {},
     "output_type": "execute_result"
    }
   ],
   "source": [
    "[i%2!=0 for i in range(2,10)]"
   ]
  },
  {
   "cell_type": "code",
   "execution_count": 62,
   "id": "56ddee6f-c6ca-4827-a3c8-37e8ef8a814d",
   "metadata": {},
   "outputs": [
    {
     "data": {
      "text/plain": [
       "array(['2', '3.4', '5', 'True', '4.2'], dtype='<U32')"
      ]
     },
     "execution_count": 62,
     "metadata": {},
     "output_type": "execute_result"
    }
   ],
   "source": [
    " np.array([2,3.4,'5',True,4.2])\n"
   ]
  },
  {
   "cell_type": "code",
   "execution_count": 63,
   "id": "25df862e-563d-465d-ab3f-058c5c40135e",
   "metadata": {},
   "outputs": [
    {
     "data": {
      "text/plain": [
       "array([2. , 3.4, 1. , 4.2])"
      ]
     },
     "execution_count": 63,
     "metadata": {},
     "output_type": "execute_result"
    }
   ],
   "source": [
    " np.array([2,3.4,True,4.2])"
   ]
  },
  {
   "cell_type": "code",
   "execution_count": 64,
   "id": "b7094283-840f-4296-8682-baf2556a8c56",
   "metadata": {},
   "outputs": [
    {
     "data": {
      "text/plain": [
       "array([ 2, 34,  5,  1, 42])"
      ]
     },
     "execution_count": 64,
     "metadata": {},
     "output_type": "execute_result"
    }
   ],
   "source": [
    " np.array([2,34,5,True,42])"
   ]
  }
 ],
 "metadata": {
  "kernelspec": {
   "display_name": "Python 3 (ipykernel)",
   "language": "python",
   "name": "python3"
  },
  "language_info": {
   "codemirror_mode": {
    "name": "ipython",
    "version": 3
   },
   "file_extension": ".py",
   "mimetype": "text/x-python",
   "name": "python",
   "nbconvert_exporter": "python",
   "pygments_lexer": "ipython3",
   "version": "3.12.7"
  }
 },
 "nbformat": 4,
 "nbformat_minor": 5
}
