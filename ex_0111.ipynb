{
  "cells": [
    {
      "cell_type": "markdown",
      "metadata": {
        "id": "view-in-github",
        "colab_type": "text"
      },
      "source": [
        "<a href=\"https://colab.research.google.com/github/VAMSHINEELAMMA/SAMSUNG-INNOVATION-CAMPUS/blob/main/ex_0111.ipynb\" target=\"_parent\"><img src=\"https://colab.research.google.com/assets/colab-badge.svg\" alt=\"Open In Colab\"/></a>"
      ]
    },
    {
      "cell_type": "code",
      "execution_count": 1,
      "metadata": {
        "id": "xj1hd9VkiKYm"
      },
      "outputs": [],
      "source": [
        "# Import the library.\n",
        "import os"
      ]
    },
    {
      "cell_type": "code",
      "execution_count": 2,
      "metadata": {
        "id": "cbi32WB_iKYo"
      },
      "outputs": [],
      "source": [
        "# Define a Windows type path.\n",
        "str1 = \"c:\"+ os.path.sep\n",
        "str2 = \"Users\"\n",
        "str3 = \"Public\"\n",
        "str4 = \"Documents\""
      ]
    },
    {
      "cell_type": "code",
      "execution_count": 3,
      "metadata": {
        "colab": {
          "base_uri": "https://localhost:8080/"
        },
        "id": "wuSBy8BiiKYp",
        "outputId": "57459d17-50aa-4d49-832e-5e1fd2a2d770"
      },
      "outputs": [
        {
          "output_type": "stream",
          "name": "stdout",
          "text": [
            "/\n",
            "c:/Users/Public/Documents\n"
          ]
        }
      ],
      "source": [
        "# Make a path using the strings.\n",
        "str_path = os.path.join(str1, str2, str3, str4)\n",
        "print(os.path.sep)\n",
        "print(str_path)"
      ]
    },
    {
      "cell_type": "code",
      "execution_count": 4,
      "metadata": {
        "colab": {
          "base_uri": "https://localhost:8080/"
        },
        "id": "tcRIRP9YiKYq",
        "outputId": "1831bf00-fb3e-4328-aec9-d9370f96d97e"
      },
      "outputs": [
        {
          "output_type": "stream",
          "name": "stdout",
          "text": [
            "/content\n"
          ]
        }
      ],
      "source": [
        "# Current working directory.\n",
        "print(os.getcwd())"
      ]
    },
    {
      "cell_type": "code",
      "execution_count": 5,
      "metadata": {
        "id": "R5BHGyUuiKYr"
      },
      "outputs": [],
      "source": [
        "import sys"
      ]
    },
    {
      "cell_type": "code",
      "execution_count": 6,
      "metadata": {
        "colab": {
          "base_uri": "https://localhost:8080/"
        },
        "id": "0ZspiPJ6iKYt",
        "outputId": "f3f107f4-ba50-4734-d2b6-9d2129d0ab16"
      },
      "outputs": [
        {
          "output_type": "stream",
          "name": "stdout",
          "text": [
            "/content\n"
          ]
        }
      ],
      "source": [
        "# Move to a new directory if on Windows.\n",
        "if sys.platform.startswith('win32'):\n",
        "    os.chdir(str_path)\n",
        "\n",
        "# Current working directory.\n",
        "print(os.getcwd())"
      ]
    },
    {
      "cell_type": "code",
      "execution_count": 7,
      "metadata": {
        "colab": {
          "base_uri": "https://localhost:8080/"
        },
        "id": "k8GiPKvSiKYu",
        "outputId": "28bca9ae-a54d-46ac-caa7-3edf60f90541"
      },
      "outputs": [
        {
          "output_type": "stream",
          "name": "stdout",
          "text": [
            "--2025-09-01 04:29:47--  https://raw.githubusercontent.com/stefannae/SIC-Artificial-Intelligence/main/SIC_AI_Coding_Exercises/SIC_AI_Chapter_02_Coding_Exercises/my_file.txt\n",
            "Resolving raw.githubusercontent.com (raw.githubusercontent.com)... 185.199.108.133, 185.199.109.133, 185.199.110.133, ...\n",
            "Connecting to raw.githubusercontent.com (raw.githubusercontent.com)|185.199.108.133|:443... connected.\n",
            "HTTP request sent, awaiting response... 200 OK\n",
            "Length: 32 [text/plain]\n",
            "Saving to: ‘my_file.txt’\n",
            "\n",
            "my_file.txt         100%[===================>]      32  --.-KB/s    in 0s      \n",
            "\n",
            "2025-09-01 04:29:47 (1.32 MB/s) - ‘my_file.txt’ saved [32/32]\n",
            "\n"
          ]
        }
      ],
      "source": [
        "!wget --no-clobber https://raw.githubusercontent.com/stefannae/SIC-Artificial-Intelligence/main/SIC_AI_Coding_Exercises/SIC_AI_Chapter_02_Coding_Exercises/my_file.txt"
      ]
    },
    {
      "cell_type": "code",
      "execution_count": 8,
      "metadata": {
        "colab": {
          "base_uri": "https://localhost:8080/"
        },
        "id": "fixFRsbBiKYv",
        "outputId": "eeadc871-a71b-4a14-ef07-f6de9ad6bbe2"
      },
      "outputs": [
        {
          "output_type": "stream",
          "name": "stdout",
          "text": [
            "/content/my_file.txt\n"
          ]
        }
      ],
      "source": [
        "# Make an absolute path based on the current working directory.\n",
        "str_path_abs = os.path.abspath(\"my_file.txt\")            # Please, change \"my_file.txt\" to a file of your own choice.\n",
        "print(str_path_abs)"
      ]
    },
    {
      "cell_type": "code",
      "execution_count": 9,
      "metadata": {
        "colab": {
          "base_uri": "https://localhost:8080/"
        },
        "id": "oAvvDXBTiKYw",
        "outputId": "d2dac4b2-8f62-4bd6-99ad-3b74363ed4f7"
      },
      "outputs": [
        {
          "output_type": "stream",
          "name": "stdout",
          "text": [
            "True\n",
            "my_file.txt\n",
            "/content\n"
          ]
        }
      ],
      "source": [
        "# Check whether it is an absolute path.\n",
        "print(os.path.isabs(str_path_abs))\n",
        "# Just the file name.\n",
        "print(os.path.basename(str_path_abs))\n",
        "# Just the path up to the directory.\n",
        "print(os.path.dirname(str_path_abs))"
      ]
    },
    {
      "cell_type": "code",
      "execution_count": 10,
      "metadata": {
        "colab": {
          "base_uri": "https://localhost:8080/"
        },
        "id": "ay2UTj8yiKYw",
        "outputId": "14250cc4-baa8-448a-9eea-bdebfa0bb7bc"
      },
      "outputs": [
        {
          "output_type": "stream",
          "name": "stdout",
          "text": [
            "False\n",
            "False\n"
          ]
        }
      ],
      "source": [
        "# Check whether the path is a directory.\n",
        "print(os.path.isdir(str_path))\n",
        "print(os.path.isdir(str_path_abs))"
      ]
    },
    {
      "cell_type": "code",
      "execution_count": 11,
      "metadata": {
        "colab": {
          "base_uri": "https://localhost:8080/"
        },
        "id": "B7R2YwP9iKYx",
        "outputId": "fb5cfb15-be43-4e66-e4d8-0eb8b34b9013"
      },
      "outputs": [
        {
          "output_type": "stream",
          "name": "stdout",
          "text": [
            "False\n",
            "True\n"
          ]
        }
      ],
      "source": [
        "# Check whether the path ends in an actual file.\n",
        "print(os.path.isfile(str_path))\n",
        "print(os.path.isfile(str_path_abs))"
      ]
    },
    {
      "cell_type": "code",
      "execution_count": 12,
      "metadata": {
        "colab": {
          "base_uri": "https://localhost:8080/"
        },
        "id": "clPxeBGniKYx",
        "outputId": "279aa7e6-2320-4441-d5a9-f10b40705541"
      },
      "outputs": [
        {
          "output_type": "execute_result",
          "data": {
            "text/plain": [
              "32"
            ]
          },
          "metadata": {},
          "execution_count": 12
        }
      ],
      "source": [
        "# Size of the file.\n",
        "os.path.getsize(\"my_file.txt\")                            # Please, change \"my_file.txt\" to a file of your own choice."
      ]
    },
    {
      "cell_type": "code",
      "execution_count": 13,
      "metadata": {
        "colab": {
          "base_uri": "https://localhost:8080/"
        },
        "id": "-OewuZUWiKYy",
        "outputId": "c1d4fd30-6b93-44e9-e2c6-bb2d77ef8ced"
      },
      "outputs": [
        {
          "output_type": "stream",
          "name": "stdout",
          "text": [
            "--2025-09-01 04:29:47--  https://github.com/stefannae/SIC-Artificial-Intelligence/raw/main/SIC_AI_Coding_Exercises/SIC_AI_Chapter_02_Coding_Exercises/Artificial%20Intelligence.pdf\n",
            "Resolving github.com (github.com)... 140.82.114.4\n",
            "Connecting to github.com (github.com)|140.82.114.4|:443... connected.\n",
            "HTTP request sent, awaiting response... 302 Found\n",
            "Location: https://raw.githubusercontent.com/stefannae/SIC-Artificial-Intelligence/main/SIC_AI_Coding_Exercises/SIC_AI_Chapter_02_Coding_Exercises/Artificial%20Intelligence.pdf [following]\n",
            "--2025-09-01 04:29:47--  https://raw.githubusercontent.com/stefannae/SIC-Artificial-Intelligence/main/SIC_AI_Coding_Exercises/SIC_AI_Chapter_02_Coding_Exercises/Artificial%20Intelligence.pdf\n",
            "Resolving raw.githubusercontent.com (raw.githubusercontent.com)... 185.199.108.133, 185.199.109.133, 185.199.110.133, ...\n",
            "Connecting to raw.githubusercontent.com (raw.githubusercontent.com)|185.199.108.133|:443... connected.\n",
            "HTTP request sent, awaiting response... 200 OK\n",
            "Length: 343669 (336K) [application/octet-stream]\n",
            "Saving to: ‘Artificial Intelligence.pdf’\n",
            "\n",
            "Artificial Intellig 100%[===================>] 335.61K  --.-KB/s    in 0.004s  \n",
            "\n",
            "2025-09-01 04:29:48 (77.8 MB/s) - ‘Artificial Intelligence.pdf’ saved [343669/343669]\n",
            "\n"
          ]
        }
      ],
      "source": [
        "!wget --no-clobber https://github.com/stefannae/SIC-Artificial-Intelligence/raw/main/SIC_AI_Coding_Exercises/SIC_AI_Chapter_02_Coding_Exercises/Artificial%20Intelligence.pdf"
      ]
    },
    {
      "cell_type": "code",
      "execution_count": 14,
      "metadata": {
        "colab": {
          "base_uri": "https://localhost:8080/"
        },
        "id": "lQ0NnVp8iKYy",
        "outputId": "281dc355-5256-4762-b3bc-fcb26b96dc4a"
      },
      "outputs": [
        {
          "output_type": "stream",
          "name": "stdout",
          "text": [
            "Artificial Intelligence.pdf\n"
          ]
        }
      ],
      "source": [
        "# List the files in the current working directory.\n",
        "list_dir = os.listdir()\n",
        "list_dir.sort()\n",
        "\n",
        "# Show only those files with names starting with 'a' or 'A'.\n",
        "for x in list_dir:\n",
        "    if x.lower()[0] == 'a':\n",
        "        print(x)"
      ]
    },
    {
      "cell_type": "code",
      "execution_count": 15,
      "metadata": {
        "id": "02djF2FKiKYy"
      },
      "outputs": [],
      "source": [
        "# Make a new subfolder if it doesn't exist yet.\n",
        "name_subdir = 'mySubDirectory'\n",
        "if not os.path.exists(name_subdir):\n",
        "    os.makedirs(name_subdir)"
      ]
    },
    {
      "cell_type": "code",
      "execution_count": 16,
      "metadata": {
        "id": "4dTRD6z1iKYy"
      },
      "outputs": [],
      "source": [
        "# Remove a directory.\n",
        "os.rmdir(name_subdir)"
      ]
    },
    {
      "cell_type": "code",
      "execution_count": 17,
      "metadata": {
        "id": "9l-D5iYFiKYy"
      },
      "outputs": [],
      "source": [
        "# Erase a file if it already exists.\n",
        "if os.path.isfile('my_test.txt'):\n",
        "    os.unlink('my_test.txt')"
      ]
    },
    {
      "cell_type": "code",
      "execution_count": 18,
      "metadata": {
        "colab": {
          "base_uri": "https://localhost:8080/",
          "height": 35
        },
        "id": "H16szolKiKYz",
        "outputId": "c5644e31-4668-4db6-bdd2-8537ff978c64"
      },
      "outputs": [
        {
          "output_type": "execute_result",
          "data": {
            "text/plain": [
              "'/content'"
            ],
            "application/vnd.google.colaboratory.intrinsic+json": {
              "type": "string"
            }
          },
          "metadata": {},
          "execution_count": 18
        }
      ],
      "source": [
        "os.getcwd()"
      ]
    },
    {
      "cell_type": "code",
      "execution_count": 19,
      "metadata": {
        "colab": {
          "base_uri": "https://localhost:8080/",
          "height": 35
        },
        "id": "LinVIZxOiKYz",
        "outputId": "e9659d09-da52-46a6-d412-f1e0132155c6"
      },
      "outputs": [
        {
          "output_type": "execute_result",
          "data": {
            "text/plain": [
              "'/content'"
            ],
            "application/vnd.google.colaboratory.intrinsic+json": {
              "type": "string"
            }
          },
          "metadata": {},
          "execution_count": 19
        }
      ],
      "source": [
        "# Get the current working directory.\n",
        "os.getcwd()"
      ]
    },
    {
      "cell_type": "code",
      "execution_count": 21,
      "metadata": {
        "id": "bnM11Zh0iKYz"
      },
      "outputs": [],
      "source": [
        "# Go to the directory where the file is located.\n",
        "os.chdir('/content')                # Please, replace the path with your own."
      ]
    },
    {
      "cell_type": "code",
      "execution_count": 22,
      "metadata": {
        "colab": {
          "base_uri": "https://localhost:8080/"
        },
        "id": "2VrJsMEBiKY0",
        "outputId": "d2ba00d6-8118-4d7c-bbc1-a2abd0bf542a"
      },
      "outputs": [
        {
          "output_type": "stream",
          "name": "stdout",
          "text": [
            "Life \n",
            "is\n",
            "short,\n",
            "You\n",
            "need\n",
            "Python!\n"
          ]
        }
      ],
      "source": [
        "f = open('my_file.txt', 'r')   # Open the text file in read mode.\n",
        "all = f.read()                 # Read in all at once.\n",
        "print(all)                     # Print out all at once.\n",
        "f.close()                      # Close the file."
      ]
    },
    {
      "cell_type": "code",
      "execution_count": 23,
      "metadata": {
        "colab": {
          "base_uri": "https://localhost:8080/"
        },
        "id": "cp6GZdKniKY0",
        "outputId": "db5de5bb-8d7c-4693-d19a-9be39f265c73"
      },
      "outputs": [
        {
          "output_type": "stream",
          "name": "stdout",
          "text": [
            "L\n",
            "i\n",
            "f\n",
            "e\n",
            " \n",
            "\n",
            "\n",
            "i\n",
            "s\n",
            "\n",
            "\n",
            "s\n",
            "h\n",
            "o\n",
            "r\n",
            "t\n",
            ",\n",
            "\n",
            "\n",
            "Y\n",
            "o\n",
            "u\n",
            "\n",
            "\n",
            "n\n",
            "e\n",
            "e\n",
            "d\n",
            "\n",
            "\n",
            "P\n",
            "y\n",
            "t\n",
            "h\n",
            "o\n",
            "n\n",
            "!\n"
          ]
        }
      ],
      "source": [
        "f = open('my_file.txt', 'r')   # Open the text file in read mode.\n",
        "all = f.read()                 # Read in all at once\n",
        "for line in all:\n",
        "     print(line)               # Print out line by line.\n",
        "f.close()                      # Close the file."
      ]
    },
    {
      "cell_type": "code",
      "execution_count": 24,
      "metadata": {
        "id": "Df4hj0iviKY0"
      },
      "outputs": [],
      "source": [
        "f = open('new_file.txt', 'w')  # Open the text file in write mode.\n",
        "f.write('This is a new file.') # write.\n",
        "f.close()                      # Close the file."
      ]
    },
    {
      "cell_type": "code",
      "execution_count": 25,
      "metadata": {
        "id": "sWr-94PziKY0"
      },
      "outputs": [],
      "source": [
        "f = open('new_file.txt', 'w')      # Open again the same file in write mode. (Overwrite)\n",
        "f.write('This is another file!')   # Write.\n",
        "f.close()                          # Close the file."
      ]
    },
    {
      "cell_type": "code",
      "execution_count": 26,
      "metadata": {
        "id": "3w7IEkjCiKY0"
      },
      "outputs": [],
      "source": [
        "f = open('new_file.txt', 'a')       # Open the text file in append mode.\n",
        "f.write('This is the end!')        # Append.\n",
        "f.close()                          # Close the file."
      ]
    },
    {
      "cell_type": "code",
      "execution_count": 27,
      "metadata": {
        "id": "ZTpgr-V1iKY1"
      },
      "outputs": [],
      "source": [
        "# Import the library.\n",
        "import pickle"
      ]
    },
    {
      "cell_type": "code",
      "execution_count": 28,
      "metadata": {
        "id": "KuxS7ju5iKY1"
      },
      "outputs": [],
      "source": [
        "x = [1,2,3, {'Name':'John', 'Age':25, 'Score':9}]         # An object."
      ]
    },
    {
      "cell_type": "code",
      "execution_count": 29,
      "metadata": {
        "id": "iAwvt2VZiKY1"
      },
      "outputs": [],
      "source": [
        "pickle.dump(x, open('my_pickle.pkl','wb'))                # To be pickled."
      ]
    },
    {
      "cell_type": "code",
      "execution_count": 30,
      "metadata": {
        "id": "cbNTwVbOiKY2"
      },
      "outputs": [],
      "source": [
        "del x                                                     # Delete the current object."
      ]
    },
    {
      "cell_type": "code",
      "execution_count": 31,
      "metadata": {
        "colab": {
          "base_uri": "https://localhost:8080/"
        },
        "id": "lcpGIoC-iKY3",
        "outputId": "7f5465f5-247b-415f-89cd-20adc324d82f"
      },
      "outputs": [
        {
          "output_type": "stream",
          "name": "stdout",
          "text": [
            "[1, 2, 3, {'Name': 'John', 'Age': 25, 'Score': 9}]\n"
          ]
        }
      ],
      "source": [
        "new_x = pickle.load(open('my_pickle.pkl','rb'))           # Bring back the pickled object.\n",
        "print(new_x)"
      ]
    },
    {
      "cell_type": "code",
      "execution_count": 32,
      "metadata": {
        "id": "5QqRI_ksiKY4"
      },
      "outputs": [],
      "source": [
        "# Import the library.\n",
        "import shelve"
      ]
    },
    {
      "cell_type": "code",
      "execution_count": 33,
      "metadata": {
        "id": "aWkOPoUmiKY4"
      },
      "outputs": [],
      "source": [
        "# Write in a dictionary format.\n",
        "x = shelve.open('MyDict')               # 3 binary files are created: .bak, .dat, .dir\n",
        "x['Name'] = 'Andrew'                    # A key-value pair.\n",
        "x['Age'] = 23\n",
        "x['Score'] = 8\n",
        "x.close()"
      ]
    },
    {
      "cell_type": "code",
      "execution_count": 34,
      "metadata": {
        "colab": {
          "base_uri": "https://localhost:8080/"
        },
        "id": "ktI0L8wBiKY4",
        "outputId": "4a450960-d73c-4568-c4a8-e8eacd1c52a2"
      },
      "outputs": [
        {
          "output_type": "stream",
          "name": "stdout",
          "text": [
            "['Score', 'Age', 'Name']\n",
            "[8, 23, 'Andrew']\n",
            "[('Score', 8), ('Age', 23), ('Name', 'Andrew')]\n"
          ]
        }
      ],
      "source": [
        "# Read.\n",
        "x = shelve.open('MyDict')\n",
        "print(list(x.keys()))\n",
        "print(list(x.values()))\n",
        "print(list(x.items()))\n",
        "x.close()"
      ]
    },
    {
      "cell_type": "code",
      "execution_count": 34,
      "metadata": {
        "id": "d0RuJ36yiKY4"
      },
      "outputs": [],
      "source": []
    }
  ],
  "metadata": {
    "kernelspec": {
      "display_name": "Python 3",
      "language": "python",
      "name": "python3"
    },
    "language_info": {
      "codemirror_mode": {
        "name": "ipython",
        "version": 3
      },
      "file_extension": ".py",
      "mimetype": "text/x-python",
      "name": "python",
      "nbconvert_exporter": "python",
      "pygments_lexer": "ipython3",
      "version": "3.7.3"
    },
    "colab": {
      "provenance": [],
      "include_colab_link": true
    }
  },
  "nbformat": 4,
  "nbformat_minor": 0
}