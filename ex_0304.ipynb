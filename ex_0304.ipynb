{
  "cells": [
    {
      "cell_type": "markdown",
      "metadata": {
        "id": "view-in-github",
        "colab_type": "text"
      },
      "source": [
        "<a href=\"https://colab.research.google.com/github/VAMSHINEELAMMA/SAMSUNG-INNOVATION-CAMPUS/blob/main/ex_0304.ipynb\" target=\"_parent\"><img src=\"https://colab.research.google.com/assets/colab-badge.svg\" alt=\"Open In Colab\"/></a>"
      ]
    },
    {
      "cell_type": "code",
      "execution_count": 1,
      "metadata": {
        "id": "lepTqRq2Zslq"
      },
      "outputs": [],
      "source": [
        "import scipy.stats as st\n",
        "import numpy as np"
      ]
    },
    {
      "cell_type": "code",
      "execution_count": 2,
      "metadata": {
        "id": "6rswgvx7Zsls"
      },
      "outputs": [],
      "source": [
        "# Standard Normal corresponds to mu = 0 and sigma = 1.\n",
        "mu = 0\n",
        "sigma = 1"
      ]
    },
    {
      "cell_type": "code",
      "execution_count": 3,
      "metadata": {
        "id": "NiUN1Oh1Zslt",
        "outputId": "86fc2a65-cf4e-4aa6-a37d-def102ab53aa",
        "colab": {
          "base_uri": "https://localhost:8080/"
        }
      },
      "outputs": [
        {
          "output_type": "execute_result",
          "data": {
            "text/plain": [
              "np.float64(1.6448536269514722)"
            ]
          },
          "metadata": {},
          "execution_count": 3
        }
      ],
      "source": [
        "# Quantile at alpha = 0.95\n",
        "# This is useful when calculating 90% confidence interval.\n",
        "alpha = 0.95\n",
        "st.norm.ppf(alpha, loc = mu , scale = sigma)"
      ]
    },
    {
      "cell_type": "code",
      "execution_count": 4,
      "metadata": {
        "id": "tYDSz6LNZslu",
        "outputId": "f02b40db-1ee5-4ab4-8a7a-1d9fff77fa19",
        "colab": {
          "base_uri": "https://localhost:8080/"
        }
      },
      "outputs": [
        {
          "output_type": "execute_result",
          "data": {
            "text/plain": [
              "np.float64(1.959963984540054)"
            ]
          },
          "metadata": {},
          "execution_count": 4
        }
      ],
      "source": [
        "# Quantile at alpha = 0.975\n",
        "# This is useful when calculating 95% confidence interval.\n",
        "alpha = 0.975\n",
        "st.norm.ppf(alpha, loc = mu , scale = sigma)"
      ]
    },
    {
      "cell_type": "code",
      "execution_count": 5,
      "metadata": {
        "id": "y_w6_I_HZslv",
        "outputId": "5089551d-2044-4dc8-eb5e-8062b7782035",
        "colab": {
          "base_uri": "https://localhost:8080/"
        }
      },
      "outputs": [
        {
          "output_type": "stream",
          "name": "stdout",
          "text": [
            "Degree of Freedom =      10,  Quantile =   1.812461\n",
            "Degree of Freedom =      50,  Quantile =   1.675905\n",
            "Degree of Freedom =     100,  Quantile =   1.660234\n",
            "Degree of Freedom =    2000,  Quantile =   1.645616\n",
            "Degree of Freedom =  100000,  Quantile =   1.644869\n"
          ]
        }
      ],
      "source": [
        "# Quantiles at alpha = 0.95 with changing degree of freedom.\n",
        "alpha=0.95\n",
        "for df in [10,50,100,2000,100000]:\n",
        "    val = st.t.ppf(alpha,df)\n",
        "    print( 'Degree of Freedom = %7d,  Quantile = %10f' %(df,val))"
      ]
    },
    {
      "cell_type": "code",
      "execution_count": 6,
      "metadata": {
        "id": "Ut-XyUKSZslv",
        "outputId": "ea0a3e57-5fa2-49c3-8657-f70133b00fb8",
        "colab": {
          "base_uri": "https://localhost:8080/"
        }
      },
      "outputs": [
        {
          "output_type": "stream",
          "name": "stdout",
          "text": [
            "Degree of Freedom =      10,  Quantile =   2.228139\n",
            "Degree of Freedom =      50,  Quantile =   2.008559\n",
            "Degree of Freedom =     100,  Quantile =   1.983972\n",
            "Degree of Freedom =    2000,  Quantile =   1.961151\n",
            "Degree of Freedom =  100000,  Quantile =   1.959988\n"
          ]
        }
      ],
      "source": [
        "# Quantiles at alpha = 0.975 with changing degree of freedom.\n",
        "alpha=0.95\n",
        "alpha=0.975\n",
        "for df in [10,50,100,2000,100000]:\n",
        "    val = st.t.ppf(alpha,df)\n",
        "    print( 'Degree of Freedom = %7d,  Quantile = %10f' %(df,val))"
      ]
    },
    {
      "cell_type": "code",
      "execution_count": 7,
      "metadata": {
        "id": "uiPFnNSPZslw",
        "outputId": "167d85e7-0391-4751-c608-061911495937",
        "colab": {
          "base_uri": "https://localhost:8080/"
        }
      },
      "outputs": [
        {
          "output_type": "execute_result",
          "data": {
            "text/plain": [
              "np.float64(0.8437643724222779)"
            ]
          },
          "metadata": {},
          "execution_count": 7
        }
      ],
      "source": [
        "# P(X <= 8) with degree of freedom = 5.\n",
        "df = 5\n",
        "st.chi2.cdf(8, df)"
      ]
    },
    {
      "cell_type": "code",
      "execution_count": 8,
      "metadata": {
        "id": "KHnAhGjhZslw",
        "outputId": "8d0332aa-0f9f-43a9-eb43-8b683bcf3c63",
        "colab": {
          "base_uri": "https://localhost:8080/"
        }
      },
      "outputs": [
        {
          "output_type": "execute_result",
          "data": {
            "text/plain": [
              "np.float64(8.000000010482703)"
            ]
          },
          "metadata": {},
          "execution_count": 8
        }
      ],
      "source": [
        "# Quantile at alpha = 0.843764373 with degree of freedom = 5\n",
        "df = 5\n",
        "alpha = 0.843764373\n",
        "st.chi2.ppf(alpha, df)"
      ]
    }
  ],
  "metadata": {
    "kernelspec": {
      "display_name": "Python 3",
      "language": "python",
      "name": "python3"
    },
    "language_info": {
      "codemirror_mode": {
        "name": "ipython",
        "version": 3
      },
      "file_extension": ".py",
      "mimetype": "text/x-python",
      "name": "python",
      "nbconvert_exporter": "python",
      "pygments_lexer": "ipython3",
      "version": "3.7.3"
    },
    "colab": {
      "provenance": [],
      "include_colab_link": true
    }
  },
  "nbformat": 4,
  "nbformat_minor": 0
}