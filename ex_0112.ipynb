{
  "cells": [
    {
      "cell_type": "markdown",
      "metadata": {
        "id": "view-in-github",
        "colab_type": "text"
      },
      "source": [
        "<a href=\"https://colab.research.google.com/github/VAMSHINEELAMMA/SAMSUNG-INNOVATION-CAMPUS/blob/main/ex_0112.ipynb\" target=\"_parent\"><img src=\"https://colab.research.google.com/assets/colab-badge.svg\" alt=\"Open In Colab\"/></a>"
      ]
    },
    {
      "cell_type": "code",
      "execution_count": 1,
      "metadata": {
        "colab": {
          "base_uri": "https://localhost:8080/"
        },
        "id": "CulWG7fxiLKx",
        "outputId": "4e67140a-dd6d-4478-836a-4ad08b15f122"
      },
      "outputs": [
        {
          "output_type": "stream",
          "name": "stdout",
          "text": [
            "Requirement already satisfied: openpyxl in /usr/local/lib/python3.12/dist-packages (3.1.5)\n",
            "Requirement already satisfied: et-xmlfile in /usr/local/lib/python3.12/dist-packages (from openpyxl) (2.0.0)\n"
          ]
        }
      ],
      "source": [
        "# Install the library.\n",
        "!pip install openpyxl"
      ]
    },
    {
      "cell_type": "code",
      "execution_count": 2,
      "metadata": {
        "id": "4oZoTCGMiLKz"
      },
      "outputs": [],
      "source": [
        "# Import the required libraries.\n",
        "import openpyxl\n",
        "import os"
      ]
    },
    {
      "cell_type": "code",
      "execution_count": 3,
      "metadata": {
        "colab": {
          "base_uri": "https://localhost:8080/"
        },
        "id": "Z6kw1TMaiLK0",
        "outputId": "ab2ab6e8-9bae-4aa5-c24e-14e60d3820a1"
      },
      "outputs": [
        {
          "output_type": "stream",
          "name": "stdout",
          "text": [
            "--2025-09-01 04:31:22--  https://github.com/stefannae/SIC-Artificial-Intelligence/raw/main/SIC_AI_Coding_Exercises/SIC_AI_Chapter_02_Coding_Exercises/my_excel_workbook.xlsx\n",
            "Resolving github.com (github.com)... 140.82.113.4\n",
            "Connecting to github.com (github.com)|140.82.113.4|:443... connected.\n",
            "HTTP request sent, awaiting response... 302 Found\n",
            "Location: https://raw.githubusercontent.com/stefannae/SIC-Artificial-Intelligence/main/SIC_AI_Coding_Exercises/SIC_AI_Chapter_02_Coding_Exercises/my_excel_workbook.xlsx [following]\n",
            "--2025-09-01 04:31:22--  https://raw.githubusercontent.com/stefannae/SIC-Artificial-Intelligence/main/SIC_AI_Coding_Exercises/SIC_AI_Chapter_02_Coding_Exercises/my_excel_workbook.xlsx\n",
            "Resolving raw.githubusercontent.com (raw.githubusercontent.com)... 185.199.110.133, 185.199.108.133, 185.199.109.133, ...\n",
            "Connecting to raw.githubusercontent.com (raw.githubusercontent.com)|185.199.110.133|:443... connected.\n",
            "HTTP request sent, awaiting response... 200 OK\n",
            "Length: 9299 (9.1K) [application/octet-stream]\n",
            "Saving to: ‘my_excel_workbook.xlsx’\n",
            "\n",
            "my_excel_workbook.x 100%[===================>]   9.08K  --.-KB/s    in 0s      \n",
            "\n",
            "2025-09-01 04:31:23 (26.2 MB/s) - ‘my_excel_workbook.xlsx’ saved [9299/9299]\n",
            "\n"
          ]
        }
      ],
      "source": [
        "!wget --no-clobber https://github.com/stefannae/SIC-Artificial-Intelligence/raw/main/SIC_AI_Coding_Exercises/SIC_AI_Chapter_02_Coding_Exercises/my_excel_workbook.xlsx"
      ]
    },
    {
      "cell_type": "code",
      "execution_count": 5,
      "metadata": {
        "id": "42LzE_bjiLK2"
      },
      "outputs": [],
      "source": [
        "# Go to the directory where the file is located.\n",
        "# os.chdir(r'~~')                # Please, replace the path with your own."
      ]
    },
    {
      "cell_type": "code",
      "execution_count": 6,
      "metadata": {
        "colab": {
          "base_uri": "https://localhost:8080/"
        },
        "id": "oDWeCMwhiLK5",
        "outputId": "d3510d2a-bb05-4483-a3da-4fc20cdaf103"
      },
      "outputs": [
        {
          "output_type": "execute_result",
          "data": {
            "text/plain": [
              "['Sheet1', 'Sheet2', 'Sheet3']"
            ]
          },
          "metadata": {},
          "execution_count": 6
        }
      ],
      "source": [
        "wb = openpyxl.load_workbook('my_excel_workbook.xlsx')      # Open an workbook.\n",
        "wb.sheetnames                                              # Show the sheet names as a list."
      ]
    },
    {
      "cell_type": "code",
      "execution_count": null,
      "metadata": {
        "id": "U_bvfvXDiLK6"
      },
      "outputs": [],
      "source": [
        "sh = wb['Sheet1']                                 # Get the 'Sheet1' as an object.\n",
        "cl = sh['A1']                                     # 'Get the A1' cell as an object.\n",
        "print(cl.value)                                   # Show the cell value.\n",
        "print(sh['A1'].value)                             # Another way to show the value of 'A1' cell.\n",
        "print(sh.cell(1,1).value)                         # Get the cell value by specifying the row and column positions."
      ]
    },
    {
      "cell_type": "code",
      "execution_count": 8,
      "metadata": {
        "colab": {
          "base_uri": "https://localhost:8080/"
        },
        "id": "AWz8oO8AiLK8",
        "outputId": "f49ede44-56f6-4410-d157-43e3fe4a49ab"
      },
      "outputs": [
        {
          "output_type": "stream",
          "name": "stdout",
          "text": [
            "123\n",
            "456\n",
            "789\n",
            "1122\n",
            "1455\n",
            "1788\n",
            "2121\n",
            "2454\n",
            "2787\n",
            "3120\n"
          ]
        }
      ],
      "source": [
        "# Show values from several cells.\n",
        "sh = wb['Sheet1'] # Define sh\n",
        "for i in range(1,11):\n",
        "     print(sh.cell(i,1).value )"
      ]
    },
    {
      "cell_type": "code",
      "execution_count": 9,
      "metadata": {
        "colab": {
          "base_uri": "https://localhost:8080/"
        },
        "id": "kvjwdc29iLK-",
        "outputId": "074f4319-b0f6-4143-b68d-7b9885cfc6f2"
      },
      "outputs": [
        {
          "output_type": "stream",
          "name": "stdout",
          "text": [
            "['Sheet']\n"
          ]
        }
      ],
      "source": [
        "# Create a new workbook.\n",
        "my_wb = openpyxl.Workbook()           # Create a new workbook object in the memory.\n",
        "print(my_wb.sheetnames)               # In this workbook there is only the 'Sheet'."
      ]
    },
    {
      "cell_type": "code",
      "execution_count": 10,
      "metadata": {
        "colab": {
          "base_uri": "https://localhost:8080/"
        },
        "id": "oSyKkH7CiLK-",
        "outputId": "db250de6-6664-4868-c379-98a8f652298d"
      },
      "outputs": [
        {
          "output_type": "stream",
          "name": "stdout",
          "text": [
            "['MySheet2', 'MySheet1']\n"
          ]
        }
      ],
      "source": [
        "# Manipulating the content of new new workbook.\n",
        "my_sh = my_wb['Sheet']\n",
        "my_sh['A1'].value = 999                  # Change the value of a cell.\n",
        "my_sh['A2'] = 666                        # Change the value of another cell. This is OK.\n",
        "my_sh.title = 'MySheet1'                 # Change the sheet name.\n",
        "my_sh2 = my_wb.create_sheet(index = 0, title = 'MySheet2')    # Append a new sheet.\n",
        "my_sh2['A1'].value = 777                 # Change the value of a cell in the new sheet.\n",
        "print(my_wb.sheetnames)"
      ]
    },
    {
      "cell_type": "code",
      "execution_count": 11,
      "metadata": {
        "id": "Yx-gLHJdiLK_"
      },
      "outputs": [],
      "source": [
        "# Save the workbook object as a file.\n",
        "my_wb.save('my_new_excel_workbook.xlsx')"
      ]
    },
    {
      "cell_type": "code",
      "execution_count": 11,
      "metadata": {
        "id": "JPblpZ89iLLA"
      },
      "outputs": [],
      "source": []
    }
  ],
  "metadata": {
    "kernelspec": {
      "display_name": "Python 3",
      "language": "python",
      "name": "python3"
    },
    "language_info": {
      "codemirror_mode": {
        "name": "ipython",
        "version": 3
      },
      "file_extension": ".py",
      "mimetype": "text/x-python",
      "name": "python",
      "nbconvert_exporter": "python",
      "pygments_lexer": "ipython3",
      "version": "3.7.3"
    },
    "colab": {
      "provenance": [],
      "include_colab_link": true
    }
  },
  "nbformat": 4,
  "nbformat_minor": 0
}