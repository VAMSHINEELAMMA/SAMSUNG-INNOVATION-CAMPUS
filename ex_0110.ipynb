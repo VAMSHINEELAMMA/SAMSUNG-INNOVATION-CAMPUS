{
  "cells": [
    {
      "cell_type": "markdown",
      "metadata": {
        "id": "view-in-github",
        "colab_type": "text"
      },
      "source": [
        "<a href=\"https://colab.research.google.com/github/VAMSHINEELAMMA/SAMSUNG-INNOVATION-CAMPUS/blob/main/ex_0110.ipynb\" target=\"_parent\"><img src=\"https://colab.research.google.com/assets/colab-badge.svg\" alt=\"Open In Colab\"/></a>"
      ]
    },
    {
      "cell_type": "code",
      "execution_count": 1,
      "metadata": {
        "id": "gPBAyHcPhHw5",
        "outputId": "618b1066-aac7-4c7b-ce6e-640dc1fa12c1",
        "colab": {
          "base_uri": "https://localhost:8080/"
        }
      },
      "outputs": [
        {
          "output_type": "stream",
          "name": "stdout",
          "text": [
            "a\n",
            "b\n",
            "c\n",
            "d\n",
            "e\n"
          ]
        }
      ],
      "source": [
        "a=['a','b','c','d','e']\n",
        "while a:\n",
        "    print(a.pop(0))"
      ]
    },
    {
      "cell_type": "code",
      "execution_count": 2,
      "metadata": {
        "id": "keXyZfqfhHw6",
        "outputId": "22091478-da9d-4f20-e82d-0eaa32871bd6",
        "colab": {
          "base_uri": "https://localhost:8080/"
        }
      },
      "outputs": [
        {
          "output_type": "stream",
          "name": "stdout",
          "text": [
            "e\n",
            "d\n",
            "c\n",
            "b\n",
            "a\n"
          ]
        }
      ],
      "source": [
        "a=['a','b','c','d','e']\n",
        "while a:\n",
        "    print(a.pop())                        # Pop from the last."
      ]
    },
    {
      "cell_type": "code",
      "execution_count": 3,
      "metadata": {
        "id": "vFghdj5ihHw-",
        "outputId": "19e28302-8a0c-4576-ddfc-00bc64b32b5b",
        "colab": {
          "base_uri": "https://localhost:8080/"
        }
      },
      "outputs": [
        {
          "output_type": "execute_result",
          "data": {
            "text/plain": [
              "['e', 'd', 'c', 'b', 'a']"
            ]
          },
          "metadata": {},
          "execution_count": 3
        }
      ],
      "source": [
        "a=['a','b','c','d','e']\n",
        "b = []\n",
        "while a:\n",
        "    x = a.pop()                           # Pop from the last <= stack.\n",
        "    b.append(x)\n",
        "b"
      ]
    },
    {
      "cell_type": "code",
      "execution_count": 4,
      "metadata": {
        "id": "fMu-mcAlhHxB"
      },
      "outputs": [],
      "source": [
        "def inverse_string(a):\n",
        "    b = ''\n",
        "    letters = []\n",
        "\n",
        "    for x in a:\n",
        "        letters.append(x)\n",
        "\n",
        "    while letters:\n",
        "        c = letters.pop()\n",
        "        b += c\n",
        "\n",
        "    return b"
      ]
    },
    {
      "cell_type": "code",
      "execution_count": 5,
      "metadata": {
        "id": "g6GRvKuKhHxC",
        "outputId": "bf3b3169-af38-4b34-ef36-bbf4cf93d6ed",
        "colab": {
          "base_uri": "https://localhost:8080/",
          "height": 35
        }
      },
      "outputs": [
        {
          "output_type": "execute_result",
          "data": {
            "text/plain": [
              "'racecar'"
            ],
            "application/vnd.google.colaboratory.intrinsic+json": {
              "type": "string"
            }
          },
          "metadata": {},
          "execution_count": 5
        }
      ],
      "source": [
        "# A palindromic word.\n",
        "inverse_string('racecar')"
      ]
    },
    {
      "cell_type": "code",
      "execution_count": 6,
      "metadata": {
        "id": "oGWT8nY_hHxC",
        "outputId": "a44feceb-f5ab-453d-f885-5e3f64ff5dd2",
        "colab": {
          "base_uri": "https://localhost:8080/",
          "height": 35
        }
      },
      "outputs": [
        {
          "output_type": "execute_result",
          "data": {
            "text/plain": [
              "'was i tac a ti saw'"
            ],
            "application/vnd.google.colaboratory.intrinsic+json": {
              "type": "string"
            }
          },
          "metadata": {},
          "execution_count": 6
        }
      ],
      "source": [
        "# A palindromic sentence.\n",
        "inverse_string('was it a cat i saw')"
      ]
    },
    {
      "cell_type": "markdown",
      "metadata": {
        "id": "EofcbBffhHxD"
      },
      "source": [
        "Ignore space and non-alphabetic characters."
      ]
    },
    {
      "cell_type": "code",
      "execution_count": 7,
      "metadata": {
        "id": "fEScv_S9hHxE"
      },
      "outputs": [],
      "source": [
        "def inverse_string2(a):\n",
        "    b = ''\n",
        "    letters = []\n",
        "\n",
        "    for x in a:\n",
        "        if x.isalpha():\n",
        "            letters.append(x)\n",
        "\n",
        "    while letters:\n",
        "        c = letters.pop()\n",
        "        b += c\n",
        "\n",
        "    return b"
      ]
    },
    {
      "cell_type": "code",
      "execution_count": 8,
      "metadata": {
        "id": "QzxTvth1hHxF",
        "outputId": "0d581d7b-0a40-4665-9f60-fccb4f9f4638",
        "colab": {
          "base_uri": "https://localhost:8080/",
          "height": 35
        }
      },
      "outputs": [
        {
          "output_type": "execute_result",
          "data": {
            "text/plain": [
              "'wasitacatisaw'"
            ],
            "application/vnd.google.colaboratory.intrinsic+json": {
              "type": "string"
            }
          },
          "metadata": {},
          "execution_count": 8
        }
      ],
      "source": [
        "# A palindromic sentence.\n",
        "inverse_string2('was it a cat i saw')"
      ]
    }
  ],
  "metadata": {
    "kernelspec": {
      "display_name": "Python 3",
      "language": "python",
      "name": "python3"
    },
    "language_info": {
      "codemirror_mode": {
        "name": "ipython",
        "version": 3
      },
      "file_extension": ".py",
      "mimetype": "text/x-python",
      "name": "python",
      "nbconvert_exporter": "python",
      "pygments_lexer": "ipython3",
      "version": "3.7.3"
    },
    "colab": {
      "provenance": [],
      "include_colab_link": true
    }
  },
  "nbformat": 4,
  "nbformat_minor": 0
}