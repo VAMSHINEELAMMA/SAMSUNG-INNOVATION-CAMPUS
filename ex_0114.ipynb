{
  "cells": [
    {
      "cell_type": "markdown",
      "metadata": {
        "id": "view-in-github",
        "colab_type": "text"
      },
      "source": [
        "<a href=\"https://colab.research.google.com/github/VAMSHINEELAMMA/SAMSUNG-INNOVATION-CAMPUS/blob/main/ex_0114.ipynb\" target=\"_parent\"><img src=\"https://colab.research.google.com/assets/colab-badge.svg\" alt=\"Open In Colab\"/></a>"
      ]
    },
    {
      "cell_type": "markdown",
      "metadata": {
        "id": "YxI_AacBiL8c"
      },
      "source": [
        "## Coding Exercise #0114"
      ]
    },
    {
      "cell_type": "markdown",
      "metadata": {
        "id": "qTAZe3KriL8e"
      },
      "source": [
        "### 1. Working with PDF documents:"
      ]
    },
    {
      "cell_type": "code",
      "execution_count": 1,
      "metadata": {
        "colab": {
          "base_uri": "https://localhost:8080/"
        },
        "id": "eUWqcB1HiL8g",
        "outputId": "121543b8-1120-4bb1-fb93-cf3bae9a1bf9"
      },
      "outputs": [
        {
          "output_type": "stream",
          "name": "stdout",
          "text": [
            "Collecting PyPDF2\n",
            "  Downloading pypdf2-3.0.1-py3-none-any.whl.metadata (6.8 kB)\n",
            "Downloading pypdf2-3.0.1-py3-none-any.whl (232 kB)\n",
            "\u001b[2K   \u001b[90m━━━━━━━━━━━━━━━━━━━━━━━━━━━━━━━━━━━━━━━━\u001b[0m \u001b[32m232.6/232.6 kB\u001b[0m \u001b[31m1.2 MB/s\u001b[0m eta \u001b[36m0:00:00\u001b[0m\n",
            "\u001b[?25hInstalling collected packages: PyPDF2\n",
            "Successfully installed PyPDF2-3.0.1\n"
          ]
        }
      ],
      "source": [
        "# Install the library.\n",
        "!pip install PyPDF2"
      ]
    },
    {
      "cell_type": "code",
      "execution_count": 2,
      "metadata": {
        "id": "8O2bXPOziL8h"
      },
      "outputs": [],
      "source": [
        "# Import the required libraries.\n",
        "import PyPDF2\n",
        "import os"
      ]
    },
    {
      "cell_type": "code",
      "execution_count": 3,
      "metadata": {
        "colab": {
          "base_uri": "https://localhost:8080/"
        },
        "id": "6zwykItmiL8i",
        "outputId": "b40e171a-6a11-4ae6-d139-96f2f342eb82"
      },
      "outputs": [
        {
          "output_type": "stream",
          "name": "stdout",
          "text": [
            "--2025-09-01 04:31:27--  https://github.com/stefannae/SIC-Artificial-Intelligence/raw/main/SIC_AI_Coding_Exercises/SIC_AI_Chapter_02_Coding_Exercises/Artificial%20Intelligence.pdf\n",
            "Resolving github.com (github.com)... 20.27.177.113\n",
            "Connecting to github.com (github.com)|20.27.177.113|:443... connected.\n",
            "HTTP request sent, awaiting response... 302 Found\n",
            "Location: https://raw.githubusercontent.com/stefannae/SIC-Artificial-Intelligence/main/SIC_AI_Coding_Exercises/SIC_AI_Chapter_02_Coding_Exercises/Artificial%20Intelligence.pdf [following]\n",
            "--2025-09-01 04:31:27--  https://raw.githubusercontent.com/stefannae/SIC-Artificial-Intelligence/main/SIC_AI_Coding_Exercises/SIC_AI_Chapter_02_Coding_Exercises/Artificial%20Intelligence.pdf\n",
            "Resolving raw.githubusercontent.com (raw.githubusercontent.com)... 185.199.110.133, 185.199.109.133, 185.199.108.133, ...\n",
            "Connecting to raw.githubusercontent.com (raw.githubusercontent.com)|185.199.110.133|:443... connected.\n",
            "HTTP request sent, awaiting response... 200 OK\n",
            "Length: 343669 (336K) [application/octet-stream]\n",
            "Saving to: ‘Artificial Intelligence.pdf’\n",
            "\n",
            "Artificial Intellig 100%[===================>] 335.61K  1.68MB/s    in 0.2s    \n",
            "\n",
            "2025-09-01 04:31:29 (1.68 MB/s) - ‘Artificial Intelligence.pdf’ saved [343669/343669]\n",
            "\n"
          ]
        }
      ],
      "source": [
        "!wget --no-clobber https://github.com/stefannae/SIC-Artificial-Intelligence/raw/main/SIC_AI_Coding_Exercises/SIC_AI_Chapter_02_Coding_Exercises/Artificial%20Intelligence.pdf"
      ]
    },
    {
      "cell_type": "code",
      "execution_count": 5,
      "metadata": {
        "id": "sUYTBMtWiL8j"
      },
      "outputs": [],
      "source": [
        "# Go to the directory where the file is located.\n",
        "# os.chdir(r'~~')                              # Please, replace the path with your own. # Removed as it caused FileNotFoundError and is not necessary."
      ]
    },
    {
      "cell_type": "markdown",
      "metadata": {
        "id": "p8AToSShiL8k"
      },
      "source": [
        "#### 1.1. Working with existing documents:"
      ]
    },
    {
      "cell_type": "code",
      "execution_count": 11,
      "metadata": {
        "scrolled": true,
        "id": "ibGrbNFKiL8l"
      },
      "outputs": [],
      "source": [
        "# Open as 'Read as Binary' mode!\n",
        "my_doc = open('Artificial Intelligence.pdf', 'rb')"
      ]
    },
    {
      "cell_type": "code",
      "execution_count": 12,
      "metadata": {
        "colab": {
          "base_uri": "https://localhost:8080/"
        },
        "id": "E12epAC-iL8m",
        "outputId": "0a27e4b3-a43c-4286-9c56-0f00710131b6"
      },
      "outputs": [
        {
          "output_type": "stream",
          "name": "stdout",
          "text": [
            "43\n"
          ]
        }
      ],
      "source": [
        "# Reader objects.\n",
        "my_reader = PyPDF2.PdfReader(my_doc)\n",
        "n = len(my_reader.pages)\n",
        "print(n)                                       # Number of pages."
      ]
    },
    {
      "cell_type": "code",
      "execution_count": 14,
      "metadata": {
        "colab": {
          "base_uri": "https://localhost:8080/"
        },
        "id": "1h77x47TiL8n",
        "outputId": "b87e651f-4cba-4fb3-ea0b-3b068616ce43"
      },
      "outputs": [
        {
          "output_type": "stream",
          "name": "stdout",
          "text": [
            " \n",
            "Unsupervised learning is the ability to find patterns in a stream of input, without requiring a human \n",
            "to label the inputs first. Supervised learning includes both classif ication and numerical regression, \n",
            "which requires a human to label the input data first. Classification is used to determine what \n",
            "category something belongs in, and occurs after a program sees a number of examples of things \n",
            "from several categories. Regressi on is the attempt to produce a function that describes the \n",
            "relationship between inputs and outputs and predicts how the outputs should change as the inputs \n",
            "change.[111] Both classifiers and regression learners can be viewed as \"function approximators\" \n",
            "trying to learn an unknown (possibly implicit) function; for example, a spam classifier can be viewed \n",
            "as learning a function that maps from the text of an email to one of two categories, \"spam\" or \"not \n",
            "spam\". Computational learning theory can assess learners b y computational complexity, by sample \n",
            "complexity (how much data is required), or by other notions of optimization.[112] In reinforcement \n",
            "learning[113] the agent is rewarded for good responses and punished for bad ones. The agent uses \n",
            "this sequence of rewar ds and punishments to form a strategy for operating in its problem space.  \n",
            " \n",
            "Natural language processing  \n",
            " \n",
            "A parse tree represents the syntactic structure of a sentence according to some formal grammar.  \n",
            "Main article: Natural language processing  \n",
            "Natural langua ge processing[114] (NLP) gives machines the ability to read and understand human \n",
            "language. A sufficiently powerful natural language processing system would enable natural -\n",
            "language user interfaces and the acquisition of knowledge directly from human -written  sources, \n",
            "such as newswire texts. Some straightforward applications of natural language processing include \n",
            "information retrieval, text mining, question answering[115] and machine translation.[116] Many \n",
            "current approaches use word co -occurrence frequencies to construct syntactic representations of \n",
            "text. \"Keyword spotting\" strategies for search are popular and scalable but dumb; a search query \n",
            "for \"dog\" might only match documents with the literal word \"dog\" and miss a document with the \n",
            "word \"poodle\". \"Lexical  affinity\" strategies use the occurrence of words such as \"accident\" to assess \n",
            "the sentiment of a document. Modern statistical NLP approaches can combine all these strategies \n",
            "as well as others, and often achieve acceptable accuracy at the page or paragraph  level, but continue \n",
            "to lack the semantic understanding required to classify isolated sentences well. Besides the usual \n",
            "difficulties with encoding semantic commonsense knowledge, existing semantic NLP sometimes \n",
            "scales too poorly to be viable in business ap plications. Beyond semantic NLP, the ultimate goal of \n"
          ]
        }
      ],
      "source": [
        "my_page = my_reader.pages[10]               # A specific page.\n",
        "print(my_page.extract_text())                   # Try to extract the text content."
      ]
    },
    {
      "cell_type": "code",
      "execution_count": 16,
      "metadata": {
        "colab": {
          "base_uri": "https://localhost:8080/"
        },
        "id": "dhlxyvlLiL8n",
        "outputId": "f9a45f49-3846-416e-99cf-bba6c0c3cb1b"
      },
      "outputs": [
        {
          "output_type": "stream",
          "name": "stdout",
          "text": [
            "on using formal logic to solve a wide variety of problems, including knowledge representation, \n",
            "planning and learning.[155] Logic was also the focus of the work at the University of Edinburgh and \n",
            "elsewhere in Europe whi ch led to the development of the programming language Prolog and the \n",
            "science of logic programming.[156]  \n",
            " \n",
            "Anti-logic or scruffy  \n",
            "Researchers at MIT (such as Marvin Minsky and Seymour Papert)[157] found that solving difficult \n",
            "problems in vision and natural la nguage processing required ad -hoc solutions?they argued that \n",
            "there was no simple and general principle (like logic) that would capture all the aspects of intelligent \n",
            "behavior. Roger Schank described their \"anti -logic\" approaches as \"scruffy\" (as opposed to  the \n",
            "\"neat\" paradigms at CMU and Stanford).[16] Commonsense knowledge bases (such as Doug Lenat's \n",
            "Cyc) are an example of \"scruffy\" AI, since they must be built by hand, one complicated concept at \n",
            "a time.[158]  \n",
            " \n",
            "Knowledge -based  \n",
            "When computers with large memo ries became available around 1970, researchers from all three \n",
            "traditions began to build knowledge into AI applications.[159] This \"knowledge revolution\" led to \n",
            "the development and deployment of expert systems (introduced by Edward Feigenbaum), the first \n",
            "truly successful form of AI software.[38] A key component of the system architecture for all expert \n",
            "systems is the knowledge base, which stores facts and rules that illustrate AI.[160] The knowledge \n",
            "revolution was also driven by the realization that enormous  amounts of knowledge would be \n",
            "required by many simple AI applications.  \n",
            " \n",
            "Sub-symbolic  \n",
            "By the 1980s, progress in symbolic AI seemed to stall and many believed that symbolic systems \n",
            "would never be able to imitate all the processes of human cognition, especia lly perception, robotics, \n",
            "learning and pattern recognition. A number of researchers began to look into \"sub -symbolic\" \n",
            "approaches to specific AI problems.[17] Sub -symbolic methods manage to approach intelligence \n",
            "without specific representations of knowledge . \n",
            " \n",
            "Embodied intelligence  \n"
          ]
        }
      ],
      "source": [
        "my_page = my_reader.pages[15]               # A specific page.\n",
        "print(my_page.extract_text())                   # Try to extract the text content."
      ]
    },
    {
      "cell_type": "code",
      "execution_count": null,
      "metadata": {
        "id": "BkDI5AYxiL8o"
      },
      "outputs": [],
      "source": []
    }
  ],
  "metadata": {
    "kernelspec": {
      "display_name": "Python 3",
      "language": "python",
      "name": "python3"
    },
    "language_info": {
      "codemirror_mode": {
        "name": "ipython",
        "version": 3
      },
      "file_extension": ".py",
      "mimetype": "text/x-python",
      "name": "python",
      "nbconvert_exporter": "python",
      "pygments_lexer": "ipython3",
      "version": "3.7.3"
    },
    "colab": {
      "provenance": [],
      "include_colab_link": true
    }
  },
  "nbformat": 4,
  "nbformat_minor": 0
}