{
  "cells": [
    {
      "cell_type": "markdown",
      "metadata": {
        "id": "view-in-github",
        "colab_type": "text"
      },
      "source": [
        "<a href=\"https://colab.research.google.com/github/VAMSHINEELAMMA/SAMSUNG-INNOVATION-CAMPUS/blob/main/ex_0308.ipynb\" target=\"_parent\"><img src=\"https://colab.research.google.com/assets/colab-badge.svg\" alt=\"Open In Colab\"/></a>"
      ]
    },
    {
      "cell_type": "code",
      "execution_count": 1,
      "metadata": {
        "id": "UH3HXFJjcFzR"
      },
      "outputs": [],
      "source": [
        "import numpy as np\n",
        "import scipy.stats as st"
      ]
    },
    {
      "cell_type": "code",
      "execution_count": 2,
      "metadata": {
        "id": "O8nl6VM6cFzV"
      },
      "outputs": [],
      "source": [
        "# Simulate one sample x with Normal distribution.\n",
        "# mu = 3, sigma = 2, n = 10.\n",
        "n = 10\n",
        "mu = 3\n",
        "sigma = 2\n",
        "np.random.seed(1234)\n",
        "x = np.random.randn(n)*sigma + mu"
      ]
    },
    {
      "cell_type": "code",
      "execution_count": 3,
      "metadata": {
        "id": "VLsYBvoXcFza",
        "outputId": "d8d500a6-26cc-4100-8d10-f50f676508dd",
        "colab": {
          "base_uri": "https://localhost:8080/"
        }
      },
      "outputs": [
        {
          "output_type": "execute_result",
          "data": {
            "text/plain": [
              "TtestResult(statistic=np.float64(3.8682023385794677), pvalue=np.float64(0.0037991794351627216), df=np.int64(9))"
            ]
          },
          "metadata": {},
          "execution_count": 3
        }
      ],
      "source": [
        "# Using the ttest_1samp() function from the SciPy library.\n",
        "# Compare the mean with 0.\n",
        "mu_0 = 0\n",
        "st.ttest_1samp(x, mu_0)"
      ]
    },
    {
      "cell_type": "code",
      "execution_count": 4,
      "metadata": {
        "id": "n0_78CP3cFzc",
        "outputId": "f5205132-16b9-4b47-a33b-a537e0090694",
        "colab": {
          "base_uri": "https://localhost:8080/"
        }
      },
      "outputs": [
        {
          "output_type": "execute_result",
          "data": {
            "text/plain": [
              "np.float64(0.003799179435162836)"
            ]
          },
          "metadata": {},
          "execution_count": 4
        }
      ],
      "source": [
        "# Using the formula from the lecture.\n",
        "# Compare the mean with 0.\n",
        "mu_0 = 0\n",
        "x_mean = x.mean()                                      # Sample mean.\n",
        "SEM = x.std(ddof=1)/np.sqrt(n)                         # Standard error of the mean.\n",
        "p_value = (1-st.t.cdf((x_mean-mu_0)/SEM,df=n-1))*2\n",
        "p_value"
      ]
    },
    {
      "cell_type": "code",
      "execution_count": 5,
      "metadata": {
        "id": "zHim_SEJcFze",
        "outputId": "e8370d24-24e8-430e-cf88-d7c292f5bb4c",
        "colab": {
          "base_uri": "https://localhost:8080/"
        }
      },
      "outputs": [
        {
          "output_type": "execute_result",
          "data": {
            "text/plain": [
              "np.float64(0.03722962101247096)"
            ]
          },
          "metadata": {},
          "execution_count": 5
        }
      ],
      "source": [
        "# Using the formula from the lecture.\n",
        "# Compare the mean with 1.\n",
        "mu_0 = 1\n",
        "p_value = (1-st.t.cdf((x_mean-mu_0)/SEM,df=n-1))*2         # Use the same x_mean and SEM as above.\n",
        "p_value"
      ]
    },
    {
      "cell_type": "code",
      "execution_count": 6,
      "metadata": {
        "id": "k77KlPddcFzg",
        "outputId": "debe03b5-d958-4296-cba7-f4c659459d62",
        "colab": {
          "base_uri": "https://localhost:8080/"
        }
      },
      "outputs": [
        {
          "output_type": "execute_result",
          "data": {
            "text/plain": [
              "np.float64(0.3360674694425527)"
            ]
          },
          "metadata": {},
          "execution_count": 6
        }
      ],
      "source": [
        "# Using the formula from the lecture.\n",
        "# Compare the mean with 2.\n",
        "mu_0 = 2\n",
        "p_value = (1-st.t.cdf((x_mean-mu_0)/SEM,df=n-1))*2         # Use the same x_mean and SEM as above.\n",
        "p_value"
      ]
    },
    {
      "cell_type": "code",
      "execution_count": 7,
      "metadata": {
        "id": "yhNYCU-LcFzi",
        "outputId": "6512656d-d9f8-4b83-bfad-5f8925702003",
        "colab": {
          "base_uri": "https://localhost:8080/"
        }
      },
      "outputs": [
        {
          "output_type": "execute_result",
          "data": {
            "text/plain": [
              "np.float64(0.001899589717581418)"
            ]
          },
          "metadata": {},
          "execution_count": 7
        }
      ],
      "source": [
        "# Using the formula from the lecture.\n",
        "# Compare the mean with 0.\n",
        "mu_0 = 0\n",
        "p_value = (1-st.t.cdf((x_mean-mu_0)/SEM,df=n-1))           # Use the same x_mean and SEM as above.\n",
        "p_value"
      ]
    },
    {
      "cell_type": "code",
      "execution_count": 8,
      "metadata": {
        "id": "ZzLrybdHcFzj",
        "outputId": "162c63f1-f97f-448b-c1c5-1fc7f04a5817",
        "colab": {
          "base_uri": "https://localhost:8080/"
        }
      },
      "outputs": [
        {
          "output_type": "execute_result",
          "data": {
            "text/plain": [
              "np.float64(0.01861481050623548)"
            ]
          },
          "metadata": {},
          "execution_count": 8
        }
      ],
      "source": [
        "# Using the formula from the lecture.\n",
        "# Compare the mean with 1.\n",
        "mu_0 = 1\n",
        "p_value = (1-st.t.cdf((x_mean-mu_0)/SEM,df=n-1))           # Use the same x_mean and SEM as above.\n",
        "p_value"
      ]
    },
    {
      "cell_type": "code",
      "execution_count": 9,
      "metadata": {
        "id": "87YC0ERAcFzk",
        "outputId": "19cd751c-bd71-4c94-d5ce-75b7d967339c",
        "colab": {
          "base_uri": "https://localhost:8080/"
        }
      },
      "outputs": [
        {
          "output_type": "execute_result",
          "data": {
            "text/plain": [
              "np.float64(0.16803373472127636)"
            ]
          },
          "metadata": {},
          "execution_count": 9
        }
      ],
      "source": [
        "# Using the formula from the lecture.\n",
        "# Compare the mean with 2.\n",
        "mu_0 = 2\n",
        "p_value = (1-st.t.cdf((x_mean-mu_0)/SEM,df=n-1))           # Use the same x_mean and SEM as above.\n",
        "p_value"
      ]
    },
    {
      "cell_type": "code",
      "execution_count": 10,
      "metadata": {
        "id": "tBNjxVzHcFzm",
        "outputId": "b665ccb8-9184-4c2d-96fc-ddd1c66684bf",
        "colab": {
          "base_uri": "https://localhost:8080/"
        }
      },
      "outputs": [
        {
          "output_type": "execute_result",
          "data": {
            "text/plain": [
              "np.float64(0.9981004102824186)"
            ]
          },
          "metadata": {},
          "execution_count": 10
        }
      ],
      "source": [
        "# Using the formula from the lecture.\n",
        "# Compare the mean with 0.\n",
        "mu_0 = 0\n",
        "p_value = st.t.cdf((x_mean-mu_0)/SEM,df=n-1)              # Use the same x_mean and SEM as above.\n",
        "p_value"
      ]
    },
    {
      "cell_type": "code",
      "execution_count": 11,
      "metadata": {
        "id": "CWugb5pfcFzm",
        "outputId": "f64af794-680e-4662-e2fa-235d016048e6",
        "colab": {
          "base_uri": "https://localhost:8080/"
        }
      },
      "outputs": [
        {
          "output_type": "execute_result",
          "data": {
            "text/plain": [
              "np.float64(0.9813851894937645)"
            ]
          },
          "metadata": {},
          "execution_count": 11
        }
      ],
      "source": [
        "# Using the formula from the lecture.\n",
        "# Compare the mean with 1.\n",
        "mu_0 = 1\n",
        "p_value = st.t.cdf((x_mean-mu_0)/SEM,df=n-1)              # Use the same x_mean and SEM as above.\n",
        "p_value"
      ]
    },
    {
      "cell_type": "code",
      "execution_count": 12,
      "metadata": {
        "id": "9OVe-yEncFzn",
        "outputId": "4a9c6f11-00ad-42a0-fce3-b5575462face",
        "colab": {
          "base_uri": "https://localhost:8080/"
        }
      },
      "outputs": [
        {
          "output_type": "execute_result",
          "data": {
            "text/plain": [
              "np.float64(0.8319662652787236)"
            ]
          },
          "metadata": {},
          "execution_count": 12
        }
      ],
      "source": [
        "# Using the formula from the lecture.\n",
        "# Compare the mean with 2.\n",
        "mu_0 = 2\n",
        "p_value = st.t.cdf((x_mean-mu_0)/SEM,df=n-1)              # Use the same x_mean and SEM as above.\n",
        "p_value"
      ]
    },
    {
      "cell_type": "code",
      "execution_count": 13,
      "metadata": {
        "id": "UWCgrAukcFzo"
      },
      "outputs": [],
      "source": [
        "# Simulate two samples x1 and x2 with Normal distribution.\n",
        "# mu1 = 3, sigma1 = 2, n1= 10.\n",
        "# mu2 = 5, sigma2 = 3, n2= 20\n",
        "n1 = 10\n",
        "n2 = 20\n",
        "mu1 = 3\n",
        "mu2 = 5\n",
        "sigma1 = 2\n",
        "sigma2 = 3\n",
        "x1 = np.random.randn(n1)*sigma1 + mu1\n",
        "x2 = np.random.randn(n2)*sigma2 + mu2"
      ]
    },
    {
      "cell_type": "code",
      "execution_count": 14,
      "metadata": {
        "id": "AAM-v_G1cFzq",
        "outputId": "edce04c8-80c6-4b48-c786-c6b6c7dbfbb0",
        "colab": {
          "base_uri": "https://localhost:8080/"
        }
      },
      "outputs": [
        {
          "output_type": "execute_result",
          "data": {
            "text/plain": [
              "TtestResult(statistic=np.float64(-2.870701133767877), pvalue=np.float64(0.009090146778647546), df=np.float64(21.218504456666945))"
            ]
          },
          "metadata": {},
          "execution_count": 14
        }
      ],
      "source": [
        "# Using dirrectly the dataset.\n",
        "# Assume different variances.\n",
        "# Two tail test.\n",
        "st.ttest_ind(x1,x2,equal_var=False)"
      ]
    },
    {
      "cell_type": "code",
      "execution_count": 15,
      "metadata": {
        "id": "POzRgZWocFzr",
        "outputId": "76af8d96-0948-4993-9eda-13319a53d162",
        "colab": {
          "base_uri": "https://localhost:8080/"
        }
      },
      "outputs": [
        {
          "output_type": "execute_result",
          "data": {
            "text/plain": [
              "Ttest_indResult(statistic=np.float64(-2.870701133767877), pvalue=np.float64(0.009090146778647546))"
            ]
          },
          "metadata": {},
          "execution_count": 15
        }
      ],
      "source": [
        "# Using the statistic calculated with the dataset.\n",
        "# Assume different variances.\n",
        "# Two tail test.\n",
        "x1_mean = x1.mean()\n",
        "x2_mean = x2.mean()\n",
        "s1 = x1.std(ddof=1)\n",
        "s2 = x2.std(ddof=1)\n",
        "st.ttest_ind_from_stats(x1_mean,s1,n1,x2_mean,s2,n2,equal_var=False)"
      ]
    },
    {
      "cell_type": "code",
      "execution_count": 16,
      "metadata": {
        "id": "HsRECCHlcFzt"
      },
      "outputs": [],
      "source": [
        "# Simulate two samples with Normal distribution.\n",
        "# Notice that the x2 is created by adding some 'noise' to the x1.\n",
        "# So,'one to one' relation is established.\n",
        "n = 10\n",
        "x1 = np.random.randn(n)*5 + 3\n",
        "x2 = x1 + np.random.randn(n)*1 + 1"
      ]
    },
    {
      "cell_type": "code",
      "execution_count": 17,
      "metadata": {
        "id": "vvRQ6ncecFzt",
        "outputId": "1bcf7818-d66b-4dd5-dc4f-80ae1f8a7afc",
        "colab": {
          "base_uri": "https://localhost:8080/"
        }
      },
      "outputs": [
        {
          "output_type": "execute_result",
          "data": {
            "text/plain": [
              "TtestResult(statistic=np.float64(-3.2467018903823366), pvalue=np.float64(0.0100502680325701), df=np.int64(9))"
            ]
          },
          "metadata": {},
          "execution_count": 17
        }
      ],
      "source": [
        "# Using the ttest_rel() function from the SciPy library.\n",
        "# Two tail test.\n",
        "st.ttest_rel(x1,x2)"
      ]
    },
    {
      "cell_type": "code",
      "execution_count": 18,
      "metadata": {
        "id": "7hgaxvHscFzu",
        "outputId": "96cf921c-87e6-4b72-f217-4788a971055e",
        "colab": {
          "base_uri": "https://localhost:8080/"
        }
      },
      "outputs": [
        {
          "output_type": "execute_result",
          "data": {
            "text/plain": [
              "TtestResult(statistic=np.float64(-0.523719559914853), pvalue=np.float64(0.6069034633660737), df=np.float64(17.88383285037342))"
            ]
          },
          "metadata": {},
          "execution_count": 18
        }
      ],
      "source": [
        "# Compare with the indepdent two sample t-test on the same dataset.\n",
        "# The p-value is completely diffetent!\n",
        "st.ttest_ind(x1,x2,equal_var=False)"
      ]
    },
    {
      "cell_type": "code",
      "execution_count": 19,
      "metadata": {
        "id": "bmF_5ImNcFzv"
      },
      "outputs": [],
      "source": [
        "# Data.\n",
        "x1 = np.array([82,93,61,74,69,70,53])\n",
        "x2 = np.array([71,62,85,94,78,66,71])\n",
        "x3 = np.array([64,73,87,91,56,78,87])"
      ]
    },
    {
      "cell_type": "code",
      "execution_count": 20,
      "metadata": {
        "id": "0Mtq3_SDcFzw",
        "outputId": "295a86a9-25ad-4bcf-b00b-72a8d2be48c5",
        "colab": {
          "base_uri": "https://localhost:8080/"
        }
      },
      "outputs": [
        {
          "output_type": "stream",
          "name": "stdout",
          "text": [
            "Test statistic  : 0.283726 \n",
            "p-value         : 0.756278 \n"
          ]
        }
      ],
      "source": [
        "# Using the f_onway() function from the SciPy library.\n",
        "res=st.f_oneway(x1,x2,x3)\n",
        "print(\"Test statistic  : %f \" % res[0] )\n",
        "print(\"p-value         : %f \" % res[1] )"
      ]
    },
    {
      "cell_type": "code",
      "execution_count": 20,
      "metadata": {
        "id": "pDUy6lbocFzw"
      },
      "outputs": [],
      "source": []
    }
  ],
  "metadata": {
    "kernelspec": {
      "display_name": "Python 3",
      "language": "python",
      "name": "python3"
    },
    "language_info": {
      "codemirror_mode": {
        "name": "ipython",
        "version": 3
      },
      "file_extension": ".py",
      "mimetype": "text/x-python",
      "name": "python",
      "nbconvert_exporter": "python",
      "pygments_lexer": "ipython3",
      "version": "3.7.3"
    },
    "colab": {
      "provenance": [],
      "include_colab_link": true
    }
  },
  "nbformat": 4,
  "nbformat_minor": 0
}